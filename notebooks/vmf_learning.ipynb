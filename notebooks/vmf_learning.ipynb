{
 "cells": [
  {
   "cell_type": "code",
   "execution_count": 1,
   "metadata": {},
   "outputs": [
    {
     "name": "stdout",
     "output_type": "stream",
     "text": [
      "max_images 5000\n"
     ]
    },
    {
     "data": {
      "text/plain": [
       "<torch._C.Generator at 0x2b98e971d390>"
      ]
     },
     "execution_count": 1,
     "metadata": {},
     "output_type": "execute_result"
    }
   ],
   "source": [
    "import os\n",
    "import re\n",
    "import gzip\n",
    "import nibabel as nib\n",
    "from PIL import Image\n",
    "import cv2\n",
    "import pydicom\n",
    "\n",
    "import h5py\n",
    "import torch\n",
    "from torch.utils.data import DataLoader\n",
    "from torchvision import transforms\n",
    "import torch.nn.functional as F\n",
    "import numpy as np\n",
    "import matplotlib.pyplot as plt\n",
    "from sklearn.model_selection import train_test_split\n",
    "import pdb\n",
    "\n",
    "from CompositionalNets.Code.config import vc_num\n",
    "from CompositionalNets.Initialization_Code.comptSimMat import compute_similarity_matrix\n",
    "from CompositionalNets.Initialization_Code.vMF_clustering import learn_vmf_clusters, save_cluster_images\n",
    "from CompositionalNets.Initialization_Code.Learn_mix_model_vMF_view import learn_mix_model_vMF\n",
    "from CompositionalNets.Initialization_Code.config_initialization import nn_type\n",
    "\n",
    "from src.config import Directories\n",
    "from src.models import UNet\n",
    "from src.dataset import ClassificationDataset, apply_ct_abdomen_filter, get_chaos_volumes, TripleDataset\n",
    "from src.utils import synthetic_occlusion\n",
    "\n",
    "%load_ext autoreload\n",
    "%autoreload 2\n",
    "torch.manual_seed(42)"
   ]
  },
  {
   "cell_type": "code",
   "execution_count": 2,
   "metadata": {},
   "outputs": [
    {
     "name": "stderr",
     "output_type": "stream",
     "text": [
      "/home/mattlk/.virtualenvs/CompNet/lib/python3.6/site-packages/ipykernel_launcher.py:25: DeprecationWarning: use the name attribute\n"
     ]
    },
    {
     "name": "stdout",
     "output_type": "stream",
     "text": [
      "CPU times: user 11.8 s, sys: 2.91 s, total: 14.7 s\n",
      "Wall time: 16.6 s\n"
     ]
    }
   ],
   "source": [
    "%%time\n",
    "tight_crop = True\n",
    "\n",
    "# TODO make this faster by reading slices from h5py instead of directly\n",
    "# slicing from the volume\n",
    "# vol_dir = os.path.join(Directories.CHAOS_REGISTRATIONS, 'affine', 'out')\n",
    "vol_dir = os.path.join(Directories.CHAOS_REGISTRATIONS, 'affine')\n",
    "regex = re.compile('.*\\.nii\\.gz')\n",
    "names = [f for f in sorted(os.listdir(vol_dir)) if regex.match(f)]\n",
    "slices = []\n",
    "slice_range = (-16, 16)\n",
    "volume_filepaths = get_chaos_volumes(Directories.CHAOS)\n",
    "\n",
    "# use_masks = 'out' not in vol_dir\n",
    "masks = []\n",
    "use_masks = False\n",
    "# all_masks = []\n",
    "\n",
    "for i, name in enumerate(names):\n",
    "    \n",
    "    pairs = volume_filepaths[i]\n",
    "    fp = os.path.join(vol_dir, name)\n",
    "    \n",
    "    with gzip.open(fp, 'rb') as f:\n",
    "\n",
    "        niftii_object = nib.load(f.filename)\n",
    "        volume = np.array(niftii_object.dataobj, dtype=np.int16)\n",
    "        \n",
    "        num_slices = volume.shape[2]\n",
    "        amount = np.zeros(num_slices)\n",
    "        \n",
    "        assert num_slices == len(pairs)\n",
    "        \n",
    "        for j in range(num_slices):\n",
    "\n",
    "            s = volume[...,j]\n",
    "            background = s.min()\n",
    "            amount[j] = np.sum(s==background)\n",
    "        \n",
    "        idx = np.argmin(amount)\n",
    "#         idx = 60\n",
    "        \n",
    "        if use_masks:\n",
    "            for k in range(idx+slice_range[0], idx+slice_range[1]):\n",
    "                _, mask_fp = pairs[k]\n",
    "                mask = np.array(Image.open(mask_fp), dtype=np.uint8)\n",
    "                masks.append(mask)\n",
    "\n",
    "        curr_slices = volume[..., idx+slice_range[0]:idx+slice_range[1]]\n",
    "        \n",
    "        curr_slices = apply_ct_abdomen_filter(curr_slices)\n",
    "\n",
    "        curr_min, curr_max = curr_slices.min(), curr_slices.max()\n",
    "        curr_slices = (curr_slices - curr_min) / (curr_max - curr_min + 1e-12)\n",
    "\n",
    "        curr_slices = np.transpose(curr_slices, (2, 0, 1))\n",
    "        curr_slices = np.stack((curr_slices, curr_slices, curr_slices), axis=len(curr_slices.shape))\n",
    "        curr_slices = np.rot90(curr_slices, k=1, axes=(1,2))\n",
    "        curr_slices = curr_slices.astype(np.float32)\n",
    "        \n",
    "        # Crop around liver\n",
    "        if tight_crop:\n",
    "            curr_slices = [img[np.ix_((img[...,0]>0).any(1), (img[...,0]>0).any(0))] for img in curr_slices]\n",
    "        \n",
    "        slices.extend(curr_slices)\n",
    "        \n",
    "slices = np.asarray(slices)\n",
    "if use_masks:\n",
    "    train_slices, test_slices, train_masks, test_masks = train_test_split(slices, masks, test_size=0.2, random_state=42)\n",
    "    dataset = TripleDataset(train_slices, train_masks, [0] * len(train_slices), X_transform=transforms.ToTensor())\n",
    "else:\n",
    "    train_slices, test_slices = train_test_split(slices, test_size=0.2, random_state=42)\n",
    "    dataset = ClassificationDataset(train_slices, [0] * len(train_slices), input_transform=transforms.ToTensor())\n",
    "    \n",
    "data_loader = DataLoader(dataset, batch_size=1)\n",
    "\n",
    "synthetic_images = synthetic_occlusion(test_slices[:20], textured=False, color=0.78431374)\n",
    "for i in range(8):\n",
    "    try:\n",
    "        im = Image.open(os.path.join(Directories.DATA, 'tumors', f'tumor_slice{i}.jpg'))\n",
    "        im = (np.array(im).astype(np.float32) / 255)\n",
    "        synthetic_images[i] = im\n",
    "    except Exception as e:\n",
    "        print(f'{e}')"
   ]
  },
  {
   "cell_type": "markdown",
   "metadata": {},
   "source": [
    "# Clustering"
   ]
  },
  {
   "cell_type": "code",
   "execution_count": null,
   "metadata": {},
   "outputs": [],
   "source": [
    "for kappa in range(60, 61, 10):\n",
    "    experiment = 32\n",
    "    kappas = [kappa]\n",
    "    vmf, loc_set =  learn_vmf_clusters(data_loader, img_per_cat=len(dataset), verbose=True,\n",
    "                                       max_it=1000, tol=5e-12,\n",
    "                                       u_out_name=f'chaos_pool5_{vc_num}_u_test_{experiment}.pickle',\n",
    "                                       p_out_name=f'chaos_pool5_{vc_num}_p_test_{experiment}.pickle',\n",
    "                                       kappas=kappas)\n",
    "    save_cluster_images(vmf, loc_set, in_images=train_slices*255,\n",
    "                    num_images=16, out_dir_name=f'test_{experiment}_{kappa}',\n",
    "                    max_num_clusters=30)"
   ]
  },
  {
   "cell_type": "code",
   "execution_count": 6,
   "metadata": {
    "scrolled": true
   },
   "outputs": [
    {
     "data": {
      "application/vnd.jupyter.widget-view+json": {
       "model_id": "",
       "version_major": 2,
       "version_minor": 0
      },
      "text/plain": [
       "HBox(children=(FloatProgress(value=1.0, bar_style='info', description='Sampling DNN features from dataset', la…"
      ]
     },
     "metadata": {},
     "output_type": "display_data"
    },
    {
     "data": {
      "application/vnd.jupyter.widget-view+json": {
       "model_id": "f57de198d44a44cc9a2bd6bcaeb67b1e",
       "version_major": 2,
       "version_minor": 0
      },
      "text/plain": [
       "HBox(children=(FloatProgress(value=0.0, description='Selecting best Kappa', max=1.0, style=ProgressStyle(descr…"
      ]
     },
     "metadata": {},
     "output_type": "display_data"
    },
    {
     "name": "stdout",
     "output_type": "stream",
     "text": [
      "Best Kappa: 5. Lowest Similarity: 0.9999976003184385\n"
     ]
    }
   ],
   "source": [
    "experiment = 41\n",
    "vmf, loc_set =  learn_vmf_clusters(data_loader, img_per_cat=len(dataset), verbose=True,\n",
    "                                   max_it=1000, tol=5e-12,\n",
    "                                   u_out_name=f'chaos_pool5_{vc_num}_u_test_{experiment}.pickle',\n",
    "                                   p_out_name=f'chaos_pool5_{vc_num}_p_test_{experiment}.pickle',\n",
    "                                   kappas=range(5, 6, 5))"
   ]
  },
  {
   "cell_type": "code",
   "execution_count": 7,
   "metadata": {
    "scrolled": true
   },
   "outputs": [
    {
     "name": "stdout",
     "output_type": "stream",
     "text": [
      "Saving top 16 images for each cluster\n"
     ]
    }
   ],
   "source": [
    "save_cluster_images(vmf, loc_set, in_images=train_slices*255,\n",
    "                    num_images=16, out_dir_name=f'test_{experiment}',\n",
    "                    max_num_clusters=20)"
   ]
  },
  {
   "cell_type": "code",
   "execution_count": 8,
   "metadata": {
    "scrolled": true
   },
   "outputs": [
    {
     "name": "stdout",
     "output_type": "stream",
     "text": [
      "Determine best threshold for binarization - 0 ...\n",
      "Start compute sim matrix ... magicThresh 0.1\n",
      "iter 1/11 1/11\n",
      "comptSimMat iter time: 91.19228333632151\n",
      "iter 1/11 2/11\n"
     ]
    },
    {
     "ename": "KeyboardInterrupt",
     "evalue": "",
     "output_type": "error",
     "traceback": [
      "\u001b[0;31m---------------------------------------------------------------------------\u001b[0m",
      "\u001b[0;31mKeyboardInterrupt\u001b[0m                         Traceback (most recent call last)",
      "\u001b[0;32m<timed exec>\u001b[0m in \u001b[0;36m<module>\u001b[0;34m\u001b[0m\n",
      "\u001b[0;32m/project/6052161/mattlk/workplace/CompNet-Medical/CompositionalNets/Initialization_Code/comptSimMat.py\u001b[0m in \u001b[0;36mcompute_similarity_matrix\u001b[0;34m(data_loader, category, save_name, sim_dir_name, u_out_name, N_sub, num_layer_features)\u001b[0m\n\u001b[1;32m    276\u001b[0m                 \u001b[0mlayer_feature_b_ss2\u001b[0m \u001b[0;34m=\u001b[0m \u001b[0mlayer_feature_b\u001b[0m\u001b[0;34m[\u001b[0m\u001b[0mstart2\u001b[0m\u001b[0;34m:\u001b[0m\u001b[0mend2\u001b[0m\u001b[0;34m]\u001b[0m\u001b[0;34m\u001b[0m\u001b[0m\n\u001b[1;32m    277\u001b[0m                 \u001b[0minputs\u001b[0m \u001b[0;34m=\u001b[0m \u001b[0;34m[\u001b[0m\u001b[0;34m(\u001b[0m\u001b[0mlayer_feature_b_ss2\u001b[0m\u001b[0;34m,\u001b[0m \u001b[0mlfb\u001b[0m\u001b[0;34m)\u001b[0m \u001b[0;32mfor\u001b[0m \u001b[0mlfb\u001b[0m \u001b[0;32min\u001b[0m \u001b[0mlayer_feature_b_ss1\u001b[0m\u001b[0;34m]\u001b[0m\u001b[0;34m\u001b[0m\u001b[0m\n\u001b[0;32m--> 278\u001b[0;31m                 \u001b[0mpara_rst\u001b[0m \u001b[0;34m=\u001b[0m \u001b[0mnp\u001b[0m\u001b[0;34m.\u001b[0m\u001b[0marray\u001b[0m\u001b[0;34m(\u001b[0m\u001b[0mParallel\u001b[0m\u001b[0;34m(\u001b[0m\u001b[0mn_jobs\u001b[0m\u001b[0;34m=\u001b[0m\u001b[0mparal_num\u001b[0m\u001b[0;34m)\u001b[0m\u001b[0;34m(\u001b[0m\u001b[0mdelayed\u001b[0m\u001b[0;34m(\u001b[0m\u001b[0mvc_dis_paral_full\u001b[0m\u001b[0;34m)\u001b[0m\u001b[0;34m(\u001b[0m\u001b[0mi\u001b[0m\u001b[0;34m)\u001b[0m \u001b[0;32mfor\u001b[0m \u001b[0mi\u001b[0m \u001b[0;32min\u001b[0m \u001b[0minputs\u001b[0m\u001b[0;34m)\u001b[0m\u001b[0;34m)\u001b[0m\u001b[0;34m\u001b[0m\u001b[0m\n\u001b[0m\u001b[1;32m    279\u001b[0m \u001b[0;34m\u001b[0m\u001b[0m\n\u001b[1;32m    280\u001b[0m             \u001b[0mmat_dis1\u001b[0m\u001b[0;34m[\u001b[0m\u001b[0mstart1\u001b[0m\u001b[0;34m:\u001b[0m\u001b[0mend1\u001b[0m\u001b[0;34m,\u001b[0m \u001b[0mstart2\u001b[0m\u001b[0;34m:\u001b[0m\u001b[0mend2\u001b[0m\u001b[0;34m]\u001b[0m \u001b[0;34m=\u001b[0m \u001b[0mpara_rst\u001b[0m\u001b[0;34m[\u001b[0m\u001b[0;34m:\u001b[0m\u001b[0;34m,\u001b[0m\u001b[0;36m0\u001b[0m\u001b[0;34m]\u001b[0m\u001b[0;34m\u001b[0m\u001b[0m\n",
      "\u001b[0;32m~/.virtualenvs/CompNet/lib/python3.6/site-packages/joblib/parallel.py\u001b[0m in \u001b[0;36m__call__\u001b[0;34m(self, iterable)\u001b[0m\n\u001b[1;32m   1040\u001b[0m \u001b[0;34m\u001b[0m\u001b[0m\n\u001b[1;32m   1041\u001b[0m             \u001b[0;32mwith\u001b[0m \u001b[0mself\u001b[0m\u001b[0;34m.\u001b[0m\u001b[0m_backend\u001b[0m\u001b[0;34m.\u001b[0m\u001b[0mretrieval_context\u001b[0m\u001b[0;34m(\u001b[0m\u001b[0;34m)\u001b[0m\u001b[0;34m:\u001b[0m\u001b[0;34m\u001b[0m\u001b[0m\n\u001b[0;32m-> 1042\u001b[0;31m                 \u001b[0mself\u001b[0m\u001b[0;34m.\u001b[0m\u001b[0mretrieve\u001b[0m\u001b[0;34m(\u001b[0m\u001b[0;34m)\u001b[0m\u001b[0;34m\u001b[0m\u001b[0m\n\u001b[0m\u001b[1;32m   1043\u001b[0m             \u001b[0;31m# Make sure that we get a last message telling us we are done\u001b[0m\u001b[0;34m\u001b[0m\u001b[0;34m\u001b[0m\u001b[0m\n\u001b[1;32m   1044\u001b[0m             \u001b[0melapsed_time\u001b[0m \u001b[0;34m=\u001b[0m \u001b[0mtime\u001b[0m\u001b[0;34m.\u001b[0m\u001b[0mtime\u001b[0m\u001b[0;34m(\u001b[0m\u001b[0;34m)\u001b[0m \u001b[0;34m-\u001b[0m \u001b[0mself\u001b[0m\u001b[0;34m.\u001b[0m\u001b[0m_start_time\u001b[0m\u001b[0;34m\u001b[0m\u001b[0m\n",
      "\u001b[0;32m~/.virtualenvs/CompNet/lib/python3.6/site-packages/joblib/parallel.py\u001b[0m in \u001b[0;36mretrieve\u001b[0;34m(self)\u001b[0m\n\u001b[1;32m    919\u001b[0m             \u001b[0;32mtry\u001b[0m\u001b[0;34m:\u001b[0m\u001b[0;34m\u001b[0m\u001b[0m\n\u001b[1;32m    920\u001b[0m                 \u001b[0;32mif\u001b[0m \u001b[0mgetattr\u001b[0m\u001b[0;34m(\u001b[0m\u001b[0mself\u001b[0m\u001b[0;34m.\u001b[0m\u001b[0m_backend\u001b[0m\u001b[0;34m,\u001b[0m \u001b[0;34m'supports_timeout'\u001b[0m\u001b[0;34m,\u001b[0m \u001b[0;32mFalse\u001b[0m\u001b[0;34m)\u001b[0m\u001b[0;34m:\u001b[0m\u001b[0;34m\u001b[0m\u001b[0m\n\u001b[0;32m--> 921\u001b[0;31m                     \u001b[0mself\u001b[0m\u001b[0;34m.\u001b[0m\u001b[0m_output\u001b[0m\u001b[0;34m.\u001b[0m\u001b[0mextend\u001b[0m\u001b[0;34m(\u001b[0m\u001b[0mjob\u001b[0m\u001b[0;34m.\u001b[0m\u001b[0mget\u001b[0m\u001b[0;34m(\u001b[0m\u001b[0mtimeout\u001b[0m\u001b[0;34m=\u001b[0m\u001b[0mself\u001b[0m\u001b[0;34m.\u001b[0m\u001b[0mtimeout\u001b[0m\u001b[0;34m)\u001b[0m\u001b[0;34m)\u001b[0m\u001b[0;34m\u001b[0m\u001b[0m\n\u001b[0m\u001b[1;32m    922\u001b[0m                 \u001b[0;32melse\u001b[0m\u001b[0;34m:\u001b[0m\u001b[0;34m\u001b[0m\u001b[0m\n\u001b[1;32m    923\u001b[0m                     \u001b[0mself\u001b[0m\u001b[0;34m.\u001b[0m\u001b[0m_output\u001b[0m\u001b[0;34m.\u001b[0m\u001b[0mextend\u001b[0m\u001b[0;34m(\u001b[0m\u001b[0mjob\u001b[0m\u001b[0;34m.\u001b[0m\u001b[0mget\u001b[0m\u001b[0;34m(\u001b[0m\u001b[0;34m)\u001b[0m\u001b[0;34m)\u001b[0m\u001b[0;34m\u001b[0m\u001b[0m\n",
      "\u001b[0;32m~/.virtualenvs/CompNet/lib/python3.6/site-packages/joblib/_parallel_backends.py\u001b[0m in \u001b[0;36mwrap_future_result\u001b[0;34m(future, timeout)\u001b[0m\n\u001b[1;32m    538\u001b[0m         AsyncResults.get from multiprocessing.\"\"\"\n\u001b[1;32m    539\u001b[0m         \u001b[0;32mtry\u001b[0m\u001b[0;34m:\u001b[0m\u001b[0;34m\u001b[0m\u001b[0m\n\u001b[0;32m--> 540\u001b[0;31m             \u001b[0;32mreturn\u001b[0m \u001b[0mfuture\u001b[0m\u001b[0;34m.\u001b[0m\u001b[0mresult\u001b[0m\u001b[0;34m(\u001b[0m\u001b[0mtimeout\u001b[0m\u001b[0;34m=\u001b[0m\u001b[0mtimeout\u001b[0m\u001b[0;34m)\u001b[0m\u001b[0;34m\u001b[0m\u001b[0m\n\u001b[0m\u001b[1;32m    541\u001b[0m         \u001b[0;32mexcept\u001b[0m \u001b[0mCfTimeoutError\u001b[0m\u001b[0;34m:\u001b[0m\u001b[0;34m\u001b[0m\u001b[0m\n\u001b[1;32m    542\u001b[0m             \u001b[0;32mraise\u001b[0m \u001b[0mTimeoutError\u001b[0m\u001b[0;34m(\u001b[0m\u001b[0;34m)\u001b[0m\u001b[0;34m\u001b[0m\u001b[0m\n",
      "\u001b[0;32m/cvmfs/soft.computecanada.ca/easybuild/software/2017/Core/python/3.6.3/lib/python3.6/concurrent/futures/_base.py\u001b[0m in \u001b[0;36mresult\u001b[0;34m(self, timeout)\u001b[0m\n\u001b[1;32m    425\u001b[0m                 \u001b[0;32mreturn\u001b[0m \u001b[0mself\u001b[0m\u001b[0;34m.\u001b[0m\u001b[0m__get_result\u001b[0m\u001b[0;34m(\u001b[0m\u001b[0;34m)\u001b[0m\u001b[0;34m\u001b[0m\u001b[0m\n\u001b[1;32m    426\u001b[0m \u001b[0;34m\u001b[0m\u001b[0m\n\u001b[0;32m--> 427\u001b[0;31m             \u001b[0mself\u001b[0m\u001b[0;34m.\u001b[0m\u001b[0m_condition\u001b[0m\u001b[0;34m.\u001b[0m\u001b[0mwait\u001b[0m\u001b[0;34m(\u001b[0m\u001b[0mtimeout\u001b[0m\u001b[0;34m)\u001b[0m\u001b[0;34m\u001b[0m\u001b[0m\n\u001b[0m\u001b[1;32m    428\u001b[0m \u001b[0;34m\u001b[0m\u001b[0m\n\u001b[1;32m    429\u001b[0m             \u001b[0;32mif\u001b[0m \u001b[0mself\u001b[0m\u001b[0;34m.\u001b[0m\u001b[0m_state\u001b[0m \u001b[0;32min\u001b[0m \u001b[0;34m[\u001b[0m\u001b[0mCANCELLED\u001b[0m\u001b[0;34m,\u001b[0m \u001b[0mCANCELLED_AND_NOTIFIED\u001b[0m\u001b[0;34m]\u001b[0m\u001b[0;34m:\u001b[0m\u001b[0;34m\u001b[0m\u001b[0m\n",
      "\u001b[0;32m/cvmfs/soft.computecanada.ca/easybuild/software/2017/Core/python/3.6.3/lib/python3.6/threading.py\u001b[0m in \u001b[0;36mwait\u001b[0;34m(self, timeout)\u001b[0m\n\u001b[1;32m    293\u001b[0m         \u001b[0;32mtry\u001b[0m\u001b[0;34m:\u001b[0m    \u001b[0;31m# restore state no matter what (e.g., KeyboardInterrupt)\u001b[0m\u001b[0;34m\u001b[0m\u001b[0m\n\u001b[1;32m    294\u001b[0m             \u001b[0;32mif\u001b[0m \u001b[0mtimeout\u001b[0m \u001b[0;32mis\u001b[0m \u001b[0;32mNone\u001b[0m\u001b[0;34m:\u001b[0m\u001b[0;34m\u001b[0m\u001b[0m\n\u001b[0;32m--> 295\u001b[0;31m                 \u001b[0mwaiter\u001b[0m\u001b[0;34m.\u001b[0m\u001b[0macquire\u001b[0m\u001b[0;34m(\u001b[0m\u001b[0;34m)\u001b[0m\u001b[0;34m\u001b[0m\u001b[0m\n\u001b[0m\u001b[1;32m    296\u001b[0m                 \u001b[0mgotit\u001b[0m \u001b[0;34m=\u001b[0m \u001b[0;32mTrue\u001b[0m\u001b[0;34m\u001b[0m\u001b[0m\n\u001b[1;32m    297\u001b[0m             \u001b[0;32melse\u001b[0m\u001b[0;34m:\u001b[0m\u001b[0;34m\u001b[0m\u001b[0m\n",
      "\u001b[0;31mKeyboardInterrupt\u001b[0m: "
     ]
    }
   ],
   "source": [
    "%%time\n",
    "mat1, mat2 = compute_similarity_matrix(data_loader, 0, f'test_{experiment}',\n",
    "                                       sim_dir_name=f'similarity_{nn_type}_pool5_chaos_{experiment}',\n",
    "                                       u_out_name=f'chaos_pool5_{vc_num}_u_test_{experiment}.pickle',\n",
    "                                       N_sub=min(200, len(dataset)//10), num_layer_features=min(100, len(dataset)))"
   ]
  },
  {
   "cell_type": "code",
   "execution_count": 9,
   "metadata": {
    "scrolled": true
   },
   "outputs": [
    {
     "ename": "FileNotFoundError",
     "evalue": "[Errno 2] No such file or directory: '/project/6052161/mattlk/workplace/CompNet-Medical/CompositionalNets/models/init_unet/similarity_unet_pool5_chaos_41/test_41'",
     "output_type": "error",
     "traceback": [
      "\u001b[0;31m---------------------------------------------------------------------------\u001b[0m",
      "\u001b[0;31mFileNotFoundError\u001b[0m                         Traceback (most recent call last)",
      "\u001b[0;32m<ipython-input-9-2f1525397bc8>\u001b[0m in \u001b[0;36m<module>\u001b[0;34m\u001b[0m\n\u001b[1;32m      4\u001b[0m                     \u001b[0mdict_filename\u001b[0m\u001b[0;34m=\u001b[0m\u001b[0;34mf'chaos_pool5_{vc_num}_u_test_{experiment}.pickle'\u001b[0m\u001b[0;34m,\u001b[0m\u001b[0;34m\u001b[0m\u001b[0m\n\u001b[1;32m      5\u001b[0m                     \u001b[0mmixdir_name\u001b[0m\u001b[0;34m=\u001b[0m\u001b[0;34mf'mix_model_vmf_chaos_EM_all_test_{experiment}/'\u001b[0m\u001b[0;34m,\u001b[0m\u001b[0;34m\u001b[0m\u001b[0m\n\u001b[0;32m----> 6\u001b[0;31m                     im_channels=3)\n\u001b[0m",
      "\u001b[0;32m/project/6052161/mattlk/workplace/CompNet-Medical/CompositionalNets/Initialization_Code/Learn_mix_model_vMF_view.py\u001b[0m in \u001b[0;36mlearn_mix_model_vMF\u001b[0;34m(data_loader, category, sim_matrix_name, sim_dir_name, dict_filename, mixdir_name, num_layers, num_clusters_per_layer, frac_data, occ_level, occ_type, spectral_split_thresh, im_channels)\u001b[0m\n\u001b[1;32m     51\u001b[0m     \u001b[0;31m# Spectral clustering based on the similarity matrix\u001b[0m\u001b[0;34m\u001b[0m\u001b[0;34m\u001b[0m\u001b[0m\n\u001b[1;32m     52\u001b[0m     \u001b[0msim_fname\u001b[0m \u001b[0;34m=\u001b[0m \u001b[0mos\u001b[0m\u001b[0;34m.\u001b[0m\u001b[0mpath\u001b[0m\u001b[0;34m.\u001b[0m\u001b[0mjoin\u001b[0m\u001b[0;34m(\u001b[0m\u001b[0minit_path\u001b[0m\u001b[0;34m,\u001b[0m \u001b[0msim_dir_name\u001b[0m\u001b[0;34m,\u001b[0m \u001b[0msim_matrix_name\u001b[0m\u001b[0;34m)\u001b[0m\u001b[0;34m\u001b[0m\u001b[0m\n\u001b[0;32m---> 53\u001b[0;31m     \u001b[0;32mwith\u001b[0m \u001b[0mopen\u001b[0m\u001b[0;34m(\u001b[0m\u001b[0msim_fname\u001b[0m\u001b[0;34m,\u001b[0m \u001b[0;34m'rb'\u001b[0m\u001b[0;34m)\u001b[0m \u001b[0;32mas\u001b[0m \u001b[0mfh\u001b[0m\u001b[0;34m:\u001b[0m\u001b[0;34m\u001b[0m\u001b[0m\n\u001b[0m\u001b[1;32m     54\u001b[0m         \u001b[0mmat_dis1\u001b[0m\u001b[0;34m,\u001b[0m \u001b[0m_\u001b[0m \u001b[0;34m=\u001b[0m \u001b[0mpickle\u001b[0m\u001b[0;34m.\u001b[0m\u001b[0mload\u001b[0m\u001b[0;34m(\u001b[0m\u001b[0mfh\u001b[0m\u001b[0;34m)\u001b[0m\u001b[0;34m\u001b[0m\u001b[0m\n\u001b[1;32m     55\u001b[0m \u001b[0;34m\u001b[0m\u001b[0m\n",
      "\u001b[0;31mFileNotFoundError\u001b[0m: [Errno 2] No such file or directory: '/project/6052161/mattlk/workplace/CompNet-Medical/CompositionalNets/models/init_unet/similarity_unet_pool5_chaos_41/test_41'"
     ]
    }
   ],
   "source": [
    "learn_mix_model_vMF(data_loader, 0, sim_matrix_name=f'test_{experiment}',\n",
    "                    num_layers=1, num_clusters_per_layer=1,\n",
    "                    sim_dir_name=f'similarity_{nn_type}_pool5_chaos_{experiment}',\n",
    "                    dict_filename=f'chaos_pool5_{vc_num}_u_test_{experiment}.pickle',\n",
    "                    mixdir_name=f'mix_model_vmf_chaos_EM_all_test_{experiment}/',\n",
    "                    im_channels=3)"
   ]
  },
  {
   "cell_type": "markdown",
   "metadata": {},
   "source": [
    "# Localize Occluders on Synthetic"
   ]
  },
  {
   "cell_type": "code",
   "execution_count": null,
   "metadata": {},
   "outputs": [],
   "source": [
    "import cv2\n",
    "from CompositionalNets.Code.config import categories, device_ids, categories_train, mix_model_path, dict_dir, layer, vMF_kappa, compnet_type, num_mixtures\n",
    "from CompositionalNets.Code.config import config as cfg\n",
    "from CompositionalNets.Code.model import Net\n",
    "from CompositionalNets.Code.helpers import getVmfKernels, getCompositionModel\n",
    "from CompositionalNets.Code.eval_occlusion_localization import visualize_response_map, eval_occ_detection\n",
    "from CompositionalNets.Initialization_Code.config_initialization import extractor"
   ]
  },
  {
   "cell_type": "code",
   "execution_count": null,
   "metadata": {},
   "outputs": [],
   "source": [
    "encoder = 'unet'\n",
    "num_clusters = 16\n",
    "experiment = 40\n",
    "occ_likely = [0.6 for _ in range(len(categories_train))]\n",
    "\n",
    "dict_dir = os.path.join(Directories.COMPOSITIONAL_NETS,\n",
    "                        f'models/init_{encoder}/dictionary_{encoder}/chaos_pool5_{num_clusters}_u_test_{experiment}.pickle')\n",
    "weights = getVmfKernels(dict_dir, device_ids)\n",
    "mix_model_path = os.path.join(Directories.COMPOSITIONAL_NETS, \n",
    "                             f'models/init_{encoder}/mix_model_vmf_chaos_EM_all_test_{experiment}/')\n",
    "mix_models = getCompositionModel(device_ids, mix_model_path, layer,\n",
    "                                 [0],\n",
    "                                 compnet_type=compnet_type,\n",
    "                                 num_mixtures=num_mixtures)\n",
    "\n",
    "model = Net(extractor, weights, vMF_kappa, occ_likely, mix_models,\n",
    "            bool_mixture_bg=True,\n",
    "            compnet_type=compnet_type, num_mixtures=num_mixtures, \n",
    "            vc_thresholds=cfg.MODEL.VC_THRESHOLD, occlusion_threshold=19)\n",
    "if device_ids:\n",
    "    model.to(device_ids[0])"
   ]
  },
  {
   "cell_type": "code",
   "execution_count": null,
   "metadata": {},
   "outputs": [],
   "source": [
    "cc = transforms.Compose([\n",
    "    transforms.ToTensor(),\n",
    "])\n",
    "\n",
    "i = 0\n",
    "out_dir = f'{Directories.COMPOSITIONAL_NETS}/models/init_{encoder}/occlusion_maps/test_{experiment}/'\n",
    "for image in synthetic_images[:]:\n",
    "    \n",
    "    if tight_crop:\n",
    "        image = image[np.ix_((image[...,0]>0).any(1), (image[...,0]>0).any(0))]\n",
    "    image = cc(image)\n",
    "\n",
    "    if device_ids:\n",
    "        image = image.cuda(device_ids[0])\n",
    "\n",
    "    image = image.unsqueeze(0)\n",
    "    try:\n",
    "        with torch.no_grad():\n",
    "            score, occ_maps, part_scores = model.get_occlusion(image, 0)\n",
    "\n",
    "        occ_map = occ_maps[0].detach().cpu().numpy()\n",
    "        occ_map = cv2.medianBlur(occ_map.astype(np.float32), 3)\n",
    "        occ_img = visualize_response_map(occ_map, tit='', cbarmax=0)\n",
    "\n",
    "        img_orig = (image[0].permute(1,2,0).cpu().numpy()*255).astype(np.uint8)\n",
    "        faco = img_orig.shape[0] / occ_img.shape[0]\n",
    "\n",
    "        occ_img_s = cv2.resize(occ_img, (int(occ_img.shape[1] * faco), img_orig.shape[0]))[:,:img_orig.shape[1],:]\n",
    "\n",
    "        canvas = np.concatenate((img_orig, occ_img_s), axis=1)\n",
    "        plt.figure(figsize=(7, 7))\n",
    "        plt.imshow(canvas)\n",
    "        plt.axis('off')\n",
    "    except Exception as e:\n",
    "        print(e)"
   ]
  },
  {
   "cell_type": "markdown",
   "metadata": {},
   "source": [
    "# Localize Real Tumors"
   ]
  },
  {
   "cell_type": "code",
   "execution_count": 12,
   "metadata": {},
   "outputs": [],
   "source": [
    "tight_crop = False"
   ]
  },
  {
   "cell_type": "code",
   "execution_count": 13,
   "metadata": {},
   "outputs": [],
   "source": [
    "data_dir = os.path.join(Directories.LITS, 'media', 'nas', '01_Datasets', 'CT', 'LITS')\n",
    "data_train_dir = os.path.join(data_dir, 'Training Set')\n",
    "data_test_dir = os.path.join(data_dir, 'Testing Set')\n",
    "\n",
    "volume_filepaths = [os.path.join(data_train_dir, name) for name in sorted(os.listdir(data_train_dir)) \n",
    "                    if 'volume' in name]\n",
    "segmentation_filepaths = [os.path.join(data_train_dir, name) for name in sorted(os.listdir(data_train_dir)) \n",
    "                          if 'segmentation' in name]\n",
    "\n",
    "pairs = [(vol, gt) for vol, gt in zip(volume_filepaths, segmentation_filepaths)]\n",
    "\n",
    "cc = transforms.Compose([\n",
    "    transforms.ToTensor(),\n",
    "])\n",
    "\n",
    "out_dir = f'{Directories.COMPOSITIONAL_NETS}/models/init_{nn_type}/occlusion_maps/test_lits_{experiment}/'\n",
    "if not os.path.exists(out_dir):\n",
    "    os.makedirs(out_dir)\n",
    "\n",
    "for pair_num, (volume_fp, segmentation_fp) in enumerate(pairs[3:4]):\n",
    "    i = 0\n",
    "    \n",
    "    volume = nib.load(volume_fp)\n",
    "    segmentation = nib.load(segmentation_fp)\n",
    "    \n",
    "    volume_data = volume.get_fdata()\n",
    "    segmentation_data = segmentation.get_fdata()\n",
    "    vol_min = volume_data.min()\n",
    "    vol_max = volume_data.max()\n",
    "    \n",
    "    _, _, num_slices = volume_data.shape\n",
    "    \n",
    "    test_images = []\n",
    "    for j in range(num_slices):\n",
    "        image = volume_data[...,j]\n",
    "        target = segmentation_data[...,j]\n",
    "\n",
    "        image = np.array(image)\n",
    "        target = np.array(target)\n",
    "        \n",
    "        image = np.rot90(image, k=1)\n",
    "        target = np.rot90(target, k=1)\n",
    "\n",
    "        liver = target.copy()\n",
    "        liver[target == 2] = 1\n",
    "        \n",
    "        tumor = target.copy()\n",
    "        tumor[target == 1] = 0\n",
    "        tumor[target == 2] = 1\n",
    "\n",
    "        if np.sum(liver) > 10000:\n",
    "            \n",
    "            image = image * liver\n",
    "            \n",
    "            image = (image - image.min()) / (image.max() - image.min() + 1e-12)\n",
    "            image = image.astype(np.float32)\n",
    "            image = np.stack((image, image, image), axis=2)\n",
    "            \n",
    "            if tight_crop:\n",
    "                image = image[np.ix_((image[...,0]>0).any(1), (image[...,0]>0).any(0))]\n",
    "                \n",
    "            image = cc(image)\n",
    "            if device_ids:\n",
    "                image = image.cuda(device_ids[0])\n",
    "            image = image.unsqueeze(0)\n",
    "\n",
    "            score, occ_maps, part_scores = model.get_occlusion(image, 0)\n",
    "            occ_map = occ_maps[0].detach().cpu().numpy()\n",
    "            occ_map = cv2.medianBlur(occ_map.astype(np.float32), 3)\n",
    "            occ_img = visualize_response_map(occ_map, tit='', cbarmax=0)\n",
    "\n",
    "            img_orig = (image[0].permute(1,2,0).cpu().numpy()*255).astype(np.uint8)\n",
    "            faco = img_orig.shape[0] / occ_img.shape[0]\n",
    "            \n",
    "            if tight_crop:\n",
    "                img_orig = img_orig[np.ix_((img_orig[...,0]>0).any(1), (img_orig[...,0]>0).any(0))]\n",
    "            \n",
    "            occ_img_s = cv2.resize(occ_img, (int(occ_img.shape[1] * faco), img_orig.shape[0]))[:,:img_orig.shape[1],:]\n",
    "            canvas = np.concatenate((img_orig, occ_img_s, np.stack((target,target,target),axis=2)*255/2), axis=1)\n",
    "            cv2.imwrite(os.path.join(out_dir, f'{pair_num:02d}_{i:02d}.jpg'), canvas)\n",
    "            i += 1"
   ]
  },
  {
   "cell_type": "code",
   "execution_count": 110,
   "metadata": {},
   "outputs": [],
   "source": [
    "tumor = np.stack((tumor, tumor, tumor), axis=2)"
   ]
  },
  {
   "cell_type": "code",
   "execution_count": 112,
   "metadata": {},
   "outputs": [],
   "source": [
    "out = eval_occ_detection(occ_img_s, tumor)\n",
    "best_score = 0\n",
    "best_scores = []\n",
    "for scores in out:\n",
    "    acc_score = scores[-1]\n",
    "    if acc_score > best_score:\n",
    "        best_score = acc_score\n",
    "        best_scores = scores"
   ]
  },
  {
   "cell_type": "code",
   "execution_count": 146,
   "metadata": {},
   "outputs": [
    {
     "data": {
      "text/plain": [
       "<matplotlib.image.AxesImage at 0x2ac8dc88c240>"
      ]
     },
     "execution_count": 146,
     "metadata": {},
     "output_type": "execute_result"
    },
    {
     "data": {
      "image/png": "[encoded data removed]",
      "text/plain": [
       "<Figure size 432x288 with 1 Axes>"
      ]
     },
     "metadata": {
      "needs_background": "light"
     },
     "output_type": "display_data"
    }
   ],
   "source": [
    "plt.imshow(occ_img_s)"
   ]
  },
  {
   "cell_type": "code",
   "execution_count": 18,
   "metadata": {},
   "outputs": [
    {
     "data": {
      "text/plain": [
       "(512, 512, 3)"
      ]
     },
     "execution_count": 18,
     "metadata": {},
     "output_type": "execute_result"
    }
   ],
   "source": [
    "result"
   ]
  },
  {
   "cell_type": "code",
   "execution_count": 25,
   "metadata": {},
   "outputs": [
    {
     "data": {
      "text/plain": [
       "<matplotlib.image.AxesImage at 0x2ba5db328630>"
      ]
     },
     "execution_count": 25,
     "metadata": {},
     "output_type": "execute_result"
    },
    {
     "data": {
      "image/png": "[encoded data removed]",
      "text/plain": [
       "<Figure size 432x288 with 1 Axes>"
      ]
     },
     "metadata": {
      "needs_background": "light"
     },
     "output_type": "display_data"
    }
   ],
   "source": [
    "result = (occ_img_s > 100) * occ_img_s\n",
    "result[result != 0] = 255\n",
    "result = result[...,2]\n",
    "plt.imshow(result, cmap=\"gray\")"
   ]
  },
  {
   "cell_type": "code",
   "execution_count": null,
   "metadata": {},
   "outputs": [],
   "source": [
    "cc = transforms.Compose([\n",
    "    transforms.ToTensor(),\n",
    "])\n",
    "\n",
    "i = 0\n",
    "with torch.no_grad():\n",
    "    for image, target in zip(image_dataset, target_dataset):\n",
    "        \n",
    "        image = apply_ct_abdomen_filter(image)\n",
    "    \n",
    "        image = np.stack((image, image, image), axis=2)\n",
    "\n",
    "        # Normalize between 0 and 1\n",
    "        image = (image - image_dataset.min()) / (image_dataset.max() - image_dataset.min() + 1e-12)\n",
    "        image = image.astype(np.float32)\n",
    "        \n",
    "        if tight_crop:\n",
    "            image = image[np.ix_((image[...,0]>0).any(1), (image[...,0]>0).any(0))]\n",
    "        \n",
    "        image = cc(image)\n",
    "        \n",
    "        if device_ids:\n",
    "            image = image.cuda(device_ids[0])\n",
    "        image = image.unsqueeze(0)\n",
    "        \n",
    "        image = image.squeeze(0).permute(1,2,0).cpu().numpy()\n",
    "        \n",
    "        image = cc(image)\n",
    "        image = image.unsqueeze(0)\n",
    "        image = image.cuda()\n",
    "\n",
    "        score, occ_maps, part_scores = model.get_occlusion(image, 0)\n",
    "        occ_map = occ_maps[0].detach().cpu().numpy()\n",
    "        occ_map = cv2.medianBlur(occ_map.astype(np.float32), 3)\n",
    "        occ_img = visualize_response_map(occ_map, tit='', cbarmax=0)\n",
    "        \n",
    "        img_orig = (image[0].permute(1,2,0).cpu().numpy()*255).astype(np.uint8)\n",
    "        faco = img_orig.shape[0] / occ_img.shape[0]\n",
    "        \n",
    "        occ_img_s = cv2.resize(occ_img, (int(occ_img.shape[1] * faco), img_orig.shape[0]))\n",
    "        \n",
    "        canvas = np.concatenate((img_orig, occ_img_s), axis=1)\n",
    "#         plt.figure(figsize=(8, 8))\n",
    "#         plt.imshow(canvas)\n",
    "#         plt.axis('off')\n",
    "#         fp = f'{Directories.COMPOSITIONAL_NETS}/results/lits/train_without_occluder/test_{i}.png'\n",
    "#         cv2.imwrite(fp, canvas)"
   ]
  },
  {
   "cell_type": "code",
   "execution_count": null,
   "metadata": {},
   "outputs": [],
   "source": []
  },
  {
   "cell_type": "code",
   "execution_count": null,
   "metadata": {},
   "outputs": [],
   "source": []
  },
  {
   "cell_type": "code",
   "execution_count": null,
   "metadata": {},
   "outputs": [],
   "source": []
  },
  {
   "cell_type": "code",
   "execution_count": 39,
   "metadata": {},
   "outputs": [],
   "source": [
    "tumor_dir = os.path.join(Directories.DATA, 'tumors')\n",
    "tumors = [cv2.imread(os.path.join(tumor_dir, name)) for name in os.listdir(tumor_dir)]"
   ]
  },
  {
   "cell_type": "code",
   "execution_count": 40,
   "metadata": {},
   "outputs": [],
   "source": [
    "train_hdf5_fp = os.path.join(Directories.LITS, 'train.hdf5')\n",
    "with h5py.File(train_hdf5_fp, 'r') as hf:\n",
    "    image_dataset = hf['images'][40:60]\n",
    "    target_dataset = hf['masks'][40:60]\n",
    "\n",
    "tumors = []\n",
    "for im in image_dataset:\n",
    "    im = apply_ct_abdomen_filter(im)\n",
    "    \n",
    "    im = np.stack((im, im, im), axis=2)\n",
    "\n",
    "    # Normalize between 0 and 1\n",
    "    im = (im - im.min()) / (im.max() - im.min())\n",
    "    im = im.astype(np.float32)\n",
    "    tumors.append(im)\n",
    "\n",
    "unet_filename = 'unet_liver_2020-08-13_15:52:08.pth'\n",
    "is_cuda_available = torch.cuda.is_available()\n",
    "device = torch.device(\"cuda:0\" if is_cuda_available else \"cpu\")\n",
    "\n",
    "path_to_unet = os.path.join(Directories.CHECKPOINTS, unet_filename)\n",
    "unet = UNet(pretrained=True)\n",
    "unet.load_state_dict(torch.load(path_to_unet)['model_state_dict'])\n",
    "if is_cuda_available: unet.to(device)"
   ]
  },
  {
   "cell_type": "code",
   "execution_count": null,
   "metadata": {},
   "outputs": [],
   "source": [
    "cc = transforms.Compose([\n",
    "    transforms.ToTensor(),\n",
    "])\n",
    "\n",
    "i = 0\n",
    "with torch.no_grad():\n",
    "    for image in tumors[:10]:\n",
    "        \n",
    "        image = cc(image)\n",
    "        \n",
    "        if device_ids:\n",
    "            image = image.cuda(device_ids[0])\n",
    "        image = image.unsqueeze(0)\n",
    "        \n",
    "        out = unet(image)\n",
    "        scores = F.softmax(out, dim=1)\n",
    "\n",
    "        segmentations = torch.round(F.threshold(scores[:, 1, :, :], 0.9, 0))\n",
    "        processed_images = segmentations.unsqueeze(1) * image\n",
    "        \n",
    "        seg_liver = processed_images.squeeze()\n",
    "        image = seg_liver.unsqueeze(0)\n",
    "        \n",
    "        image = image.squeeze(0).permute(1,2,0).cpu().numpy()\n",
    "        image = image[np.ix_((image[...,0]>0).any(1), (image[...,0]>0).any(0))]\n",
    "        image = cc(image)\n",
    "        image = image.unsqueeze(0)\n",
    "        image = image.cuda()\n",
    "\n",
    "        score, occ_maps, part_scores = model.get_occlusion(image, 0)\n",
    "        occ_map = occ_maps[0].detach().cpu().numpy()\n",
    "        occ_map = cv2.medianBlur(occ_map.astype(np.float32), 3)\n",
    "        occ_img = visualize_response_map(occ_map, tit='', cbarmax=0)\n",
    "        \n",
    "        img_orig = (image[0].permute(1,2,0).cpu().numpy()*255).astype(np.uint8)\n",
    "        faco = img_orig.shape[0] / occ_img.shape[0]\n",
    "        \n",
    "        occ_img_s = cv2.resize(occ_img, (int(occ_img.shape[1] * faco), img_orig.shape[0]))\n",
    "        \n",
    "        canvas = np.concatenate((img_orig, occ_img_s), axis=1)\n",
    "        plt.figure(figsize=(8, 8))\n",
    "        plt.imshow(canvas)\n",
    "        plt.axis('off')\n",
    "#         fp = f'{Directories.COMPOSITIONAL_NETS}/results/lits/train_without_occluder/test_{i}.png'\n",
    "#         cv2.imwrite(fp, canvas)"
   ]
  }
 ],
 "metadata": {
  "kernelspec": {
   "display_name": "Python 3",
   "language": "python",
   "name": "python3"
  },
  "language_info": {
   "codemirror_mode": {
    "name": "ipython",
    "version": 3
   },
   "file_extension": ".py",
   "mimetype": "text/x-python",
   "name": "python",
   "nbconvert_exporter": "python",
   "pygments_lexer": "ipython3",
   "version": "3.6.3"
  },
  "output_auto_scroll": true
 },
 "nbformat": 4,
 "nbformat_minor": 4
}
