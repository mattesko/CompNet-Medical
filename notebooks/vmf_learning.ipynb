{
 "cells": [
  {
   "cell_type": "code",
   "execution_count": 1,
   "metadata": {},
   "outputs": [
    {
     "name": "stdout",
     "output_type": "stream",
     "text": [
      "max_images 5000\n"
     ]
    },
    {
     "data": {
      "text/plain": [
       "<torch._C.Generator at 0x2b86e37662d0>"
      ]
     },
     "execution_count": 1,
     "metadata": {},
     "output_type": "execute_result"
    }
   ],
   "source": [
    "import os\n",
    "import re\n",
    "import gzip\n",
    "import nibabel as nib\n",
    "from PIL import Image\n",
    "import cv2\n",
    "import pydicom\n",
    "\n",
    "import h5py\n",
    "import torch\n",
    "from torch.utils.data import DataLoader\n",
    "from torchvision import transforms\n",
    "import torch.nn.functional as F\n",
    "import numpy as np\n",
    "import matplotlib.pyplot as plt\n",
    "from sklearn.model_selection import train_test_split \n",
    "import pdb\n",
    "\n",
    "from CompositionalNets.Code.config import vc_num\n",
    "from CompositionalNets.Initialization_Code.comptSimMat import compute_similarity_matrix\n",
    "from CompositionalNets.Initialization_Code.vMF_clustering import learn_vmf_clusters, save_cluster_images\n",
    "from CompositionalNets.Initialization_Code.Learn_mix_model_vMF_view import learn_mix_model_vMF\n",
    "from CompositionalNets.Initialization_Code.config_initialization import nn_type\n",
    "\n",
    "from src.config import Directories\n",
    "from src.models import UNet\n",
    "from src.dataset import ClassificationDataset, apply_ct_abdomen_filter, get_chaos_volumes, TripleDataset\n",
    "from src.utils import synthetic_occlusion\n",
    "\n",
    "%load_ext autoreload\n",
    "%autoreload 2\n",
    "torch.manual_seed(42)"
   ]
  },
  {
   "cell_type": "code",
   "execution_count": 2,
   "metadata": {},
   "outputs": [
    {
     "name": "stderr",
     "output_type": "stream",
     "text": [
      "/home/mattlk/.virtualenvs/CompNet/lib/python3.6/site-packages/ipykernel_launcher.py:25: DeprecationWarning: use the name attribute\n"
     ]
    },
    {
     "name": "stdout",
     "output_type": "stream",
     "text": [
      "CPU times: user 10.2 s, sys: 1.47 s, total: 11.7 s\n",
      "Wall time: 13.3 s\n"
     ]
    }
   ],
   "source": [
    "%%time\n",
    "tight_crop = True\n",
    "\n",
    "# TODO make this faster by reading slices from h5py instead of directly\n",
    "# slicing from the volume\n",
    "# vol_dir = os.path.join(Directories.CHAOS_REGISTRATIONS, 'affine', 'out')\n",
    "vol_dir = os.path.join(Directories.CHAOS_REGISTRATIONS, 'affine')\n",
    "regex = re.compile('.*\\.nii\\.gz')\n",
    "names = [f for f in sorted(os.listdir(vol_dir)) if regex.match(f)]\n",
    "slices = []\n",
    "slice_range = (-4, 4)\n",
    "volume_filepaths = get_chaos_volumes(Directories.CHAOS)\n",
    "\n",
    "# use_masks = 'out' not in vol_dir\n",
    "masks = []\n",
    "use_masks = False\n",
    "# all_masks = []\n",
    "\n",
    "for i, name in enumerate(names):\n",
    "    \n",
    "    pairs = volume_filepaths[i]\n",
    "    fp = os.path.join(vol_dir, name)\n",
    "    \n",
    "    with gzip.open(fp, 'rb') as f:\n",
    "\n",
    "        niftii_object = nib.load(f.filename)\n",
    "        volume = np.array(niftii_object.dataobj, dtype=np.int16)\n",
    "        \n",
    "        num_slices = volume.shape[2]\n",
    "        amount = np.zeros(num_slices)\n",
    "        \n",
    "        assert num_slices == len(pairs)\n",
    "        \n",
    "        for j in range(num_slices):\n",
    "\n",
    "            s = volume[...,j]\n",
    "            background = s.min()\n",
    "            amount[j] = np.sum(s==background)\n",
    "        \n",
    "        idx = np.argmin(amount)\n",
    "#         idx = 60\n",
    "        \n",
    "        if use_masks:\n",
    "            for k in range(idx+slice_range[0], idx+slice_range[1]):\n",
    "                _, mask_fp = pairs[k]\n",
    "                mask = np.array(Image.open(mask_fp), dtype=np.uint8)\n",
    "                masks.append(mask)\n",
    "\n",
    "        curr_slices = volume[..., idx+slice_range[0]:idx+slice_range[1]]\n",
    "        \n",
    "        curr_slices = apply_ct_abdomen_filter(curr_slices)\n",
    "\n",
    "        curr_min, curr_max = curr_slices.min(), curr_slices.max()\n",
    "        curr_slices = (curr_slices - curr_min) / (curr_max - curr_min + 1e-12)\n",
    "\n",
    "        curr_slices = np.transpose(curr_slices, (2, 0, 1))\n",
    "        curr_slices = np.stack((curr_slices, curr_slices, curr_slices), axis=len(curr_slices.shape))\n",
    "        curr_slices = np.rot90(curr_slices, k=1, axes=(1,2))\n",
    "        curr_slices = curr_slices.astype(np.float32)\n",
    "        \n",
    "        # Crop around liver\n",
    "        if tight_crop:\n",
    "            curr_slices = [img[np.ix_((img[...,0]>0).any(1), (img[...,0]>0).any(0))] for img in curr_slices]\n",
    "        \n",
    "        slices.extend(curr_slices)\n",
    "        \n",
    "slices = np.asarray(slices)\n",
    "if use_masks:\n",
    "    train_slices, test_slices, train_masks, test_masks = train_test_split(slices, masks, test_size=0.2, random_state=42)\n",
    "    dataset = TripleDataset(train_slices, train_masks, [0] * len(train_slices), X_transform=transforms.ToTensor())\n",
    "else:\n",
    "    train_slices, test_slices = train_test_split(slices, test_size=0.2, random_state=42)\n",
    "    dataset = ClassificationDataset(train_slices, [0] * len(train_slices), input_transform=transforms.ToTensor())\n",
    "    \n",
    "data_loader = DataLoader(dataset, batch_size=1)\n",
    "\n",
    "synthetic_images = synthetic_occlusion(test_slices[:20], textured=False, color=0.78431374)\n",
    "for i in range(8):\n",
    "    try:\n",
    "        im = Image.open(os.path.join(Directories.DATA, 'tumors', f'tumor_slice{i}.jpg'))\n",
    "        im = (np.array(im).astype(np.float32) / 255)\n",
    "        synthetic_images[i] = im\n",
    "    except Exception as e:\n",
    "        print(f'{e}')"
   ]
  },
  {
   "cell_type": "markdown",
   "metadata": {},
   "source": [
    "# Clustering"
   ]
  },
  {
   "cell_type": "code",
   "execution_count": null,
   "metadata": {},
   "outputs": [],
   "source": [
    "for kappa in range(60, 61, 10):\n",
    "    experiment = 32\n",
    "    kappas = [kappa]\n",
    "    vmf, loc_set =  learn_vmf_clusters(data_loader, img_per_cat=len(dataset), verbose=True,\n",
    "                                       max_it=1000, tol=5e-12,\n",
    "                                       u_out_name=f'chaos_pool5_{vc_num}_u_test_{experiment}.pickle',\n",
    "                                       p_out_name=f'chaos_pool5_{vc_num}_p_test_{experiment}.pickle',\n",
    "                                       kappas=kappas)\n",
    "    save_cluster_images(vmf, loc_set, in_images=train_slices*255,\n",
    "                    num_images=16, out_dir_name=f'test_{experiment}_{kappa}',\n",
    "                    max_num_clusters=30)"
   ]
  },
  {
   "cell_type": "code",
   "execution_count": 3,
   "metadata": {
    "scrolled": true
   },
   "outputs": [
    {
     "data": {
      "application/vnd.jupyter.widget-view+json": {
       "model_id": "",
       "version_major": 2,
       "version_minor": 0
      },
      "text/plain": [
       "HBox(children=(FloatProgress(value=1.0, bar_style='info', description='Sampling DNN features from dataset', la…"
      ]
     },
     "metadata": {},
     "output_type": "display_data"
    },
    {
     "data": {
      "application/vnd.jupyter.widget-view+json": {
       "model_id": "2ad7ffa763134ce3b2ea6710e1081bd9",
       "version_major": 2,
       "version_minor": 0
      },
      "text/plain": [
       "HBox(children=(FloatProgress(value=0.0, description='Selecting best Kappa', max=1.0, style=ProgressStyle(descr…"
      ]
     },
     "metadata": {},
     "output_type": "display_data"
    },
    {
     "name": "stdout",
     "output_type": "stream",
     "text": [
      "Best Kappa: 30. Lowest Similarity: 0.5464333914472249\n"
     ]
    }
   ],
   "source": [
    "experiment = 44\n",
    "vmf, loc_set =  learn_vmf_clusters(data_loader, img_per_cat=len(dataset), verbose=True,\n",
    "                                   max_it=1000, tol=5e-12,\n",
    "                                   u_out_name=f'chaos_pool5_{vc_num}_u_test_{experiment}.pickle',\n",
    "                                   p_out_name=f'chaos_pool5_{vc_num}_p_test_{experiment}.pickle',\n",
    "                                   kappas=range(30, 31, 5))"
   ]
  },
  {
   "cell_type": "code",
   "execution_count": 11,
   "metadata": {},
   "outputs": [
    {
     "data": {
      "text/plain": [
       "array([  606, 10239,  2985,  7126,  2988,  2990,  2991,  2992,  2993,\n",
       "        7124,  2995,  2996,  7123,  7122,  2984,  2999])"
      ]
     },
     "execution_count": 11,
     "metadata": {},
     "output_type": "execute_result"
    }
   ],
   "source": [
    "sort_idx = np.argsort(-vmf.p[:, 1])[0:16]\n",
    "print(sort_idx)\n",
    "print(np.sort(-vmf.p[:, 1])[0:16])\n",
    "differences = [a - b for a,b in zip(np.sort(-vmf.p[:, 1])[0:16], np.sort(-vmf.p[:, 1])[1:17])]\n",
    "plt.plot(differences)"
   ]
  },
  {
   "cell_type": "code",
   "execution_count": 4,
   "metadata": {
    "scrolled": true
   },
   "outputs": [
    {
     "name": "stdout",
     "output_type": "stream",
     "text": [
      "Saving top 16 images for each cluster\n"
     ]
    }
   ],
   "source": [
    "save_cluster_images(vmf, loc_set, in_images=train_slices*255,\n",
    "                    num_images=16, out_dir_name=f'test_{experiment}',\n",
    "                    max_num_clusters=20)"
   ]
  },
  {
   "cell_type": "code",
   "execution_count": 48,
   "metadata": {
    "scrolled": true
   },
   "outputs": [
    {
     "name": "stdout",
     "output_type": "stream",
     "text": [
      "Determine best threshold for binarization - 0 ...\n",
      "Start compute sim matrix ... magicThresh 0.2\n",
      "iter 1/11 1/11\n",
      "comptSimMat iter time: 2.1979846239089964\n",
      "iter 1/11 2/11\n",
      "comptSimMat iter time: 5.057911741733551\n",
      "iter 1/11 3/11\n",
      "comptSimMat iter time: 4.97553645769755\n",
      "iter 1/11 4/11\n",
      "comptSimMat iter time: 5.277937312920888\n",
      "iter 1/11 5/11\n",
      "comptSimMat iter time: 4.999354366461436\n",
      "iter 1/11 6/11\n",
      "comptSimMat iter time: 5.072174513339997\n",
      "iter 1/11 7/11\n",
      "comptSimMat iter time: 5.590563261508942\n",
      "iter 1/11 8/11\n",
      "comptSimMat iter time: 5.032910494009654\n",
      "iter 1/11 9/11\n",
      "comptSimMat iter time: 4.248244349161784\n",
      "iter 1/11 10/11\n",
      "comptSimMat iter time: 4.9590752998987835\n",
      "iter 1/11 11/11\n",
      "comptSimMat iter time: 3.6753109216690065\n",
      "iter 2/11 2/11\n",
      "comptSimMat iter time: 2.131492527325948\n",
      "iter 2/11 3/11\n",
      "comptSimMat iter time: 4.572820587952932\n",
      "iter 2/11 4/11\n",
      "comptSimMat iter time: 5.368749713897705\n",
      "iter 2/11 5/11\n",
      "comptSimMat iter time: 4.526493740081787\n",
      "iter 2/11 6/11\n",
      "comptSimMat iter time: 4.725780725479126\n",
      "iter 2/11 7/11\n",
      "comptSimMat iter time: 5.237445449829101\n",
      "iter 2/11 8/11\n",
      "comptSimMat iter time: 4.992337882518768\n",
      "iter 2/11 9/11\n",
      "comptSimMat iter time: 3.9882972319920857\n",
      "iter 2/11 10/11\n",
      "comptSimMat iter time: 4.575569462776184\n",
      "iter 2/11 11/11\n",
      "comptSimMat iter time: 3.3713334997495017\n",
      "iter 3/11 3/11\n",
      "comptSimMat iter time: 1.974058465162913\n",
      "iter 3/11 4/11\n",
      "comptSimMat iter time: 5.445469697316487\n",
      "iter 3/11 5/11\n",
      "comptSimMat iter time: 5.028029946486155\n",
      "iter 3/11 6/11\n",
      "comptSimMat iter time: 4.986378188927969\n",
      "iter 3/11 7/11\n",
      "comptSimMat iter time: 5.765209480126699\n",
      "iter 3/11 8/11\n",
      "comptSimMat iter time: 4.872321554025015\n",
      "iter 3/11 9/11\n",
      "comptSimMat iter time: 4.401675963401795\n",
      "iter 3/11 10/11\n",
      "comptSimMat iter time: 5.1288363615671795\n",
      "iter 3/11 11/11\n",
      "comptSimMat iter time: 3.656747063000997\n",
      "iter 4/11 4/11\n",
      "comptSimMat iter time: 2.368595997492472\n",
      "iter 4/11 5/11\n",
      "comptSimMat iter time: 5.210192390282949\n",
      "iter 4/11 6/11\n",
      "comptSimMat iter time: 5.29757467508316\n",
      "iter 4/11 7/11\n",
      "comptSimMat iter time: 5.937278234958649\n",
      "iter 4/11 8/11\n",
      "comptSimMat iter time: 5.340726574261983\n",
      "iter 4/11 9/11\n",
      "comptSimMat iter time: 4.572682329018911\n",
      "iter 4/11 10/11\n",
      "comptSimMat iter time: 5.189749817053477\n",
      "iter 4/11 11/11\n",
      "comptSimMat iter time: 3.912235772609711\n",
      "iter 5/11 5/11\n",
      "comptSimMat iter time: 1.9492358843485513\n",
      "iter 5/11 6/11\n",
      "comptSimMat iter time: 4.457140819231669\n",
      "iter 5/11 7/11\n",
      "comptSimMat iter time: 5.443464108308157\n",
      "iter 5/11 8/11\n",
      "comptSimMat iter time: 4.777090040842692\n",
      "iter 5/11 9/11\n",
      "comptSimMat iter time: 4.014701906840006\n",
      "iter 5/11 10/11\n",
      "comptSimMat iter time: 4.713923950990041\n",
      "iter 5/11 11/11\n",
      "comptSimMat iter time: 3.5091800649960834\n",
      "iter 6/11 6/11\n",
      "comptSimMat iter time: 1.913965912659963\n",
      "iter 6/11 7/11\n",
      "comptSimMat iter time: 5.051430861155192\n",
      "iter 6/11 8/11\n",
      "comptSimMat iter time: 4.49653480052948\n",
      "iter 6/11 9/11\n",
      "comptSimMat iter time: 3.813935093084971\n",
      "iter 6/11 10/11\n",
      "comptSimMat iter time: 4.649368035793304\n",
      "iter 6/11 11/11\n",
      "comptSimMat iter time: 3.4152991771698\n",
      "iter 7/11 7/11\n",
      "comptSimMat iter time: 2.4941808621088666\n",
      "iter 7/11 8/11\n",
      "comptSimMat iter time: 4.859326549371084\n",
      "iter 7/11 9/11\n",
      "comptSimMat iter time: 4.390636293093364\n",
      "iter 7/11 10/11\n",
      "comptSimMat iter time: 4.857377827167511\n",
      "iter 7/11 11/11\n",
      "comptSimMat iter time: 3.552760664621989\n",
      "iter 8/11 8/11\n",
      "comptSimMat iter time: 1.9679580211639405\n",
      "iter 8/11 9/11\n",
      "comptSimMat iter time: 3.983750510215759\n",
      "iter 8/11 10/11\n",
      "comptSimMat iter time: 4.527492201328277\n",
      "iter 8/11 11/11\n",
      "comptSimMat iter time: 3.240328311920166\n",
      "iter 9/11 9/11\n",
      "comptSimMat iter time: 1.495924417177836\n",
      "iter 9/11 10/11\n",
      "comptSimMat iter time: 4.027142798900604\n",
      "iter 9/11 11/11\n",
      "comptSimMat iter time: 3.016537630558014\n",
      "iter 10/11 10/11\n",
      "comptSimMat iter time: 2.0375004490216573\n",
      "iter 10/11 11/11\n",
      "comptSimMat iter time: 3.3543383757273357\n",
      "iter 11/11 11/11\n",
      "comptSimMat iter time: 1.047325619061788\n",
      "comptSimMat total time: 274.7307228843371\n",
      "saving at: /project/6052161/mattlk/workplace/CompNet-Medical/CompositionalNets/models/init_unet/similarity_unet_pool5_chaos_38/test_38\n",
      "CPU times: user 49.1 s, sys: 15.3 s, total: 1min 4s\n",
      "Wall time: 4h 35min 7s\n"
     ]
    }
   ],
   "source": [
    "%%time\n",
    "mat1, mat2 = compute_similarity_matrix(data_loader, 0, f'test_{experiment}',\n",
    "                                       sim_dir_name=f'similarity_{nn_type}_pool5_chaos_{experiment}',\n",
    "                                       u_out_name=f'chaos_pool5_{vc_num}_u_test_{experiment}.pickle',\n",
    "                                       N_sub=min(200, len(dataset)//10), num_layer_features=min(100, len(dataset)))"
   ]
  },
  {
   "cell_type": "code",
   "execution_count": 4,
   "metadata": {
    "scrolled": true
   },
   "outputs": [
    {
     "name": "stdout",
     "output_type": "stream",
     "text": [
      "total number of instances for obj 0: 128\n",
      "16 394 278\n",
      "Clustering layer 0 ...\n",
      "0 0 128 0\n",
      "cluster 0 has 128 samples\n",
      "\n",
      "ML Step 0 / 10\n",
      "0\n",
      "100\n",
      "cluster 0 has 128 samples\n",
      "0 changed assignments\n"
     ]
    }
   ],
   "source": [
    "learn_mix_model_vMF(data_loader, 0, sim_matrix_name=f'test_{experiment}',\n",
    "                    num_layers=1, num_clusters_per_layer=1,\n",
    "                    sim_dir_name=f'similarity_{nn_type}_pool5_chaos_{experiment}',\n",
    "                    dict_filename=f'chaos_pool5_{vc_num}_u_test_{experiment}.pickle',\n",
    "                    mixdir_name=f'mix_model_vmf_chaos_EM_all_test_{experiment}/',\n",
    "                    im_channels=3)"
   ]
  },
  {
   "cell_type": "markdown",
   "metadata": {},
   "source": [
    "# Localize Occluders on Synthetic"
   ]
  },
  {
   "cell_type": "code",
   "execution_count": 6,
   "metadata": {},
   "outputs": [],
   "source": [
    "import cv2\n",
    "from CompositionalNets.Code.config import categories, device_ids, categories_train, mix_model_path, dict_dir, layer, vMF_kappa, compnet_type, num_mixtures\n",
    "from CompositionalNets.Code.config import config as cfg\n",
    "from CompositionalNets.Code.model import Net\n",
    "from CompositionalNets.Code.helpers import getVmfKernels, getCompositionModel\n",
    "from CompositionalNets.Code.eval_occlusion_localization import visualize_response_map, eval_occ_detection\n",
    "from CompositionalNets.Initialization_Code.config_initialization import extractor"
   ]
  },
  {
   "cell_type": "code",
   "execution_count": 7,
   "metadata": {},
   "outputs": [
    {
     "data": {
      "application/vnd.jupyter.widget-view+json": {
       "model_id": "b62f5972b9ab4fccb93df9e3c058cc3d",
       "version_major": 2,
       "version_minor": 0
      },
      "text/plain": [
       "HBox(children=(FloatProgress(value=0.0, description='Fitting vMF clusters', max=150.0, style=ProgressStyle(des…"
      ]
     },
     "metadata": {},
     "output_type": "display_data"
    }
   ],
   "source": [
    "encoder = 'unet'\n",
    "num_clusters = 16\n",
    "experiment = 39\n",
    "occ_likely = [0.6 for _ in range(len(categories_train))]\n",
    "\n",
    "dict_dir = os.path.join(Directories.COMPOSITIONAL_NETS,\n",
    "                        f'models/init_{encoder}/dictionary_{encoder}/chaos_pool5_{num_clusters}_u_test_{experiment}.pickle')\n",
    "weights = getVmfKernels(dict_dir, device_ids)\n",
    "mix_model_path = os.path.join(Directories.COMPOSITIONAL_NETS, \n",
    "                             f'models/init_{encoder}/mix_model_vmf_chaos_EM_all_test_{experiment}/')\n",
    "mix_models = getCompositionModel(device_ids, mix_model_path, layer,\n",
    "                                 [0],\n",
    "                                 compnet_type=compnet_type,\n",
    "                                 num_mixtures=num_mixtures)\n",
    "\n",
    "model = Net(extractor, weights, vMF_kappa, occ_likely, mix_models,\n",
    "            bool_mixture_bg=True,\n",
    "            compnet_type=compnet_type, num_mixtures=num_mixtures, \n",
    "            vc_thresholds=cfg.MODEL.VC_THRESHOLD, occlusion_threshold=22)\n",
    "if device_ids:\n",
    "    model.to(device_ids[0])"
   ]
  },
  {
   "cell_type": "code",
   "execution_count": 15,
   "metadata": {},
   "outputs": [
    {
     "data": {
      "text/plain": [
       "<matplotlib.image.AxesImage at 0x2b4ad9ff5e80>"
      ]
     },
     "execution_count": 15,
     "metadata": {},
     "output_type": "execute_result"
    },
    {
     "data": {
      "image/png": "[encoded data removed]",
      "text/plain": [
       "<Figure size 432x288 with 1 Axes>"
      ]
     },
     "metadata": {
      "needs_background": "light"
     },
     "output_type": "display_data"
    }
   ],
   "source": [
    "plt.imshow(model.conv1o1.weight.squeeze().detach().cpu().numpy())"
   ]
  },
  {
   "cell_type": "code",
   "execution_count": 16,
   "metadata": {},
   "outputs": [],
   "source": [
    "weights = model.conv1o1.weight.squeeze().detach().cpu().numpy()"
   ]
  },
  {
   "cell_type": "code",
   "execution_count": 12,
   "metadata": {},
   "outputs": [
    {
     "data": {
      "text/plain": [
       "torch.Size([16, 256])"
      ]
     },
     "execution_count": 12,
     "metadata": {},
     "output_type": "execute_result"
    }
   ],
   "source": [
    "model.conv1o1.weight.squeeze()"
   ]
  },
  {
   "cell_type": "code",
   "execution_count": 11,
   "metadata": {},
   "outputs": [],
   "source": [
    "deconvs = deconvs.squeeze()\n",
    "deconvs = deconvs.permute(1, 2, 0)"
   ]
  },
  {
   "cell_type": "code",
   "execution_count": 16,
   "metadata": {},
   "outputs": [
    {
     "data": {
      "text/plain": [
       "<matplotlib.image.AxesImage at 0x2add8eda85c0>"
      ]
     },
     "execution_count": 16,
     "metadata": {},
     "output_type": "execute_result"
    },
    {
     "data": {
      "image/png": "[encoded data removed]",
      "text/plain": [
       "<Figure size 432x288 with 1 Axes>"
      ]
     },
     "metadata": {
      "needs_background": "light"
     },
     "output_type": "display_data"
    }
   ],
   "source": [
    "plt.imshow(deconvs[...,-1].cpu().numpy(), cmap=\"gray\")"
   ]
  },
  {
   "cell_type": "code",
   "execution_count": null,
   "metadata": {},
   "outputs": [],
   "source": [
    "cc = transforms.Compose([\n",
    "    transforms.ToTensor(),\n",
    "])\n",
    "\n",
    "i = 0\n",
    "out_dir = f'{Directories.COMPOSITIONAL_NETS}/models/init_{encoder}/occlusion_maps/test_{experiment}/'\n",
    "for image in synthetic_images[:]:\n",
    "    \n",
    "    if tight_crop:\n",
    "        image = image[np.ix_((image[...,0]>0).any(1), (image[...,0]>0).any(0))]\n",
    "    image = cc(image)\n",
    "\n",
    "    if device_ids:\n",
    "        image = image.cuda(device_ids[0])\n",
    "\n",
    "    image = image.unsqueeze(0)\n",
    "    try:\n",
    "        with torch.no_grad():\n",
    "            score, occ_maps, part_scores = model.get_occlusion(image, 0)\n",
    "            deconvs = model.vc_activation_deconv(image)\n",
    "\n",
    "        occ_map = occ_maps[0].detach().cpu().numpy()\n",
    "        occ_map = cv2.medianBlur(occ_map.astype(np.float32), 3)\n",
    "        occ_img = visualize_response_map(occ_map, tit='', cbarmax=0)\n",
    "\n",
    "        img_orig = (image[0].permute(1,2,0).cpu().numpy()*255).astype(np.uint8)\n",
    "        faco = img_orig.shape[0] / occ_img.shape[0]\n",
    "\n",
    "        occ_img_s = cv2.resize(occ_img, (int(occ_img.shape[1] * faco), img_orig.shape[0]))[:,:img_orig.shape[1],:]\n",
    "\n",
    "        canvas = np.concatenate((img_orig, occ_img_s), axis=1)\n",
    "        plt.figure(figsize=(7, 7))\n",
    "        plt.imshow(canvas)\n",
    "        plt.axis('off')\n",
    "        \n",
    "    except Exception as e:\n",
    "        print(e)"
   ]
  },
  {
   "cell_type": "code",
   "execution_count": null,
   "metadata": {
    "scrolled": true
   },
   "outputs": [
    {
     "name": "stdout",
     "output_type": "stream",
     "text": [
      "> /project/6052161/mattlk/workplace/CompNet-Medical/CompositionalNets/Code/model.py(299)clutter_likelihood()\n",
      "-> if self.compnet_type == 'vmf':\n"
     ]
    },
    {
     "name": "stdin",
     "output_type": "stream",
     "text": [
      "(Pdb)  n\n"
     ]
    },
    {
     "name": "stdout",
     "output_type": "stream",
     "text": [
      "> /project/6052161/mattlk/workplace/CompNet-Medical/CompositionalNets/Code/model.py(300)clutter_likelihood()\n",
      "-> num_clutter_models = self.clutter_model.shape[0]\n"
     ]
    },
    {
     "name": "stdin",
     "output_type": "stream",
     "text": [
      "(Pdb)  n\n"
     ]
    },
    {
     "name": "stdout",
     "output_type": "stream",
     "text": [
      "> /project/6052161/mattlk/workplace/CompNet-Medical/CompositionalNets/Code/model.py(302)clutter_likelihood()\n",
      "-> k = F.normalize(torch.clamp(self.clutter_model, 0, 1), p=1, dim=1)\n"
     ]
    },
    {
     "name": "stdin",
     "output_type": "stream",
     "text": [
      "(Pdb)  n\n"
     ]
    },
    {
     "name": "stdout",
     "output_type": "stream",
     "text": [
      "> /project/6052161/mattlk/workplace/CompNet-Medical/CompositionalNets/Code/model.py(307)clutter_likelihood()\n",
      "-> k = k.unsqueeze(2).repeat(\n"
     ]
    },
    {
     "name": "stdin",
     "output_type": "stream",
     "text": [
      "(Pdb)  k\n"
     ]
    },
    {
     "name": "stdout",
     "output_type": "stream",
     "text": [
      "tensor([[0.0625, 0.0625, 0.0625, 0.0625, 0.0625, 0.0625, 0.0625, 0.0625, 0.0625,\n",
      "         0.0625, 0.0625, 0.0625, 0.0625, 0.0625, 0.0625, 0.0625]],\n",
      "       device='cuda:0')\n"
     ]
    },
    {
     "name": "stdin",
     "output_type": "stream",
     "text": [
      "(Pdb)  k.shape\n"
     ]
    },
    {
     "name": "stdout",
     "output_type": "stream",
     "text": [
      "torch.Size([1, 16])\n"
     ]
    },
    {
     "name": "stdin",
     "output_type": "stream",
     "text": [
      "(Pdb)  n\n"
     ]
    },
    {
     "name": "stdout",
     "output_type": "stream",
     "text": [
      "> /project/6052161/mattlk/workplace/CompNet-Medical/CompositionalNets/Code/model.py(308)clutter_likelihood()\n",
      "-> 1, 1, hx * wx).reshape([k.shape[0], cx, hx, wx])\n"
     ]
    },
    {
     "name": "stdin",
     "output_type": "stream",
     "text": [
      "(Pdb)  n\n"
     ]
    },
    {
     "name": "stdout",
     "output_type": "stream",
     "text": [
      "> /project/6052161/mattlk/workplace/CompNet-Medical/CompositionalNets/Code/model.py(309)clutter_likelihood()\n",
      "-> occ_likely = self.occ_likely[0]\n"
     ]
    },
    {
     "name": "stdin",
     "output_type": "stream",
     "text": [
      "(Pdb)  k.shape\n"
     ]
    },
    {
     "name": "stdout",
     "output_type": "stream",
     "text": [
      "torch.Size([1, 16, 32, 42])\n"
     ]
    },
    {
     "name": "stdin",
     "output_type": "stream",
     "text": [
      "(Pdb)  k\n"
     ]
    },
    {
     "name": "stdout",
     "output_type": "stream",
     "text": [
      "tensor([[[[0.0625, 0.0625, 0.0625,  ..., 0.0625, 0.0625, 0.0625],\n",
      "          [0.0625, 0.0625, 0.0625,  ..., 0.0625, 0.0625, 0.0625],\n",
      "          [0.0625, 0.0625, 0.0625,  ..., 0.0625, 0.0625, 0.0625],\n",
      "          ...,\n",
      "          [0.0625, 0.0625, 0.0625,  ..., 0.0625, 0.0625, 0.0625],\n",
      "          [0.0625, 0.0625, 0.0625,  ..., 0.0625, 0.0625, 0.0625],\n",
      "          [0.0625, 0.0625, 0.0625,  ..., 0.0625, 0.0625, 0.0625]],\n",
      "\n",
      "         [[0.0625, 0.0625, 0.0625,  ..., 0.0625, 0.0625, 0.0625],\n",
      "          [0.0625, 0.0625, 0.0625,  ..., 0.0625, 0.0625, 0.0625],\n",
      "          [0.0625, 0.0625, 0.0625,  ..., 0.0625, 0.0625, 0.0625],\n",
      "          ...,\n",
      "          [0.0625, 0.0625, 0.0625,  ..., 0.0625, 0.0625, 0.0625],\n",
      "          [0.0625, 0.0625, 0.0625,  ..., 0.0625, 0.0625, 0.0625],\n",
      "          [0.0625, 0.0625, 0.0625,  ..., 0.0625, 0.0625, 0.0625]],\n",
      "\n",
      "         [[0.0625, 0.0625, 0.0625,  ..., 0.0625, 0.0625, 0.0625],\n",
      "          [0.0625, 0.0625, 0.0625,  ..., 0.0625, 0.0625, 0.0625],\n",
      "          [0.0625, 0.0625, 0.0625,  ..., 0.0625, 0.0625, 0.0625],\n",
      "          ...,\n",
      "          [0.0625, 0.0625, 0.0625,  ..., 0.0625, 0.0625, 0.0625],\n",
      "          [0.0625, 0.0625, 0.0625,  ..., 0.0625, 0.0625, 0.0625],\n",
      "          [0.0625, 0.0625, 0.0625,  ..., 0.0625, 0.0625, 0.0625]],\n",
      "\n",
      "         ...,\n",
      "\n",
      "         [[0.0625, 0.0625, 0.0625,  ..., 0.0625, 0.0625, 0.0625],\n",
      "          [0.0625, 0.0625, 0.0625,  ..., 0.0625, 0.0625, 0.0625],\n",
      "          [0.0625, 0.0625, 0.0625,  ..., 0.0625, 0.0625, 0.0625],\n",
      "          ...,\n",
      "          [0.0625, 0.0625, 0.0625,  ..., 0.0625, 0.0625, 0.0625],\n",
      "          [0.0625, 0.0625, 0.0625,  ..., 0.0625, 0.0625, 0.0625],\n",
      "          [0.0625, 0.0625, 0.0625,  ..., 0.0625, 0.0625, 0.0625]],\n",
      "\n",
      "         [[0.0625, 0.0625, 0.0625,  ..., 0.0625, 0.0625, 0.0625],\n",
      "          [0.0625, 0.0625, 0.0625,  ..., 0.0625, 0.0625, 0.0625],\n",
      "          [0.0625, 0.0625, 0.0625,  ..., 0.0625, 0.0625, 0.0625],\n",
      "          ...,\n",
      "          [0.0625, 0.0625, 0.0625,  ..., 0.0625, 0.0625, 0.0625],\n",
      "          [0.0625, 0.0625, 0.0625,  ..., 0.0625, 0.0625, 0.0625],\n",
      "          [0.0625, 0.0625, 0.0625,  ..., 0.0625, 0.0625, 0.0625]],\n",
      "\n",
      "         [[0.0625, 0.0625, 0.0625,  ..., 0.0625, 0.0625, 0.0625],\n",
      "          [0.0625, 0.0625, 0.0625,  ..., 0.0625, 0.0625, 0.0625],\n",
      "          [0.0625, 0.0625, 0.0625,  ..., 0.0625, 0.0625, 0.0625],\n",
      "          ...,\n",
      "          [0.0625, 0.0625, 0.0625,  ..., 0.0625, 0.0625, 0.0625],\n",
      "          [0.0625, 0.0625, 0.0625,  ..., 0.0625, 0.0625, 0.0625],\n",
      "          [0.0625, 0.0625, 0.0625,  ..., 0.0625, 0.0625, 0.0625]]]],\n",
      "       device='cuda:0')\n"
     ]
    },
    {
     "name": "stdin",
     "output_type": "stream",
     "text": [
      "(Pdb)  k.unique()\n"
     ]
    },
    {
     "name": "stdout",
     "output_type": "stream",
     "text": [
      "tensor([0.0625], device='cuda:0')\n"
     ]
    },
    {
     "name": "stdin",
     "output_type": "stream",
     "text": [
      "(Pdb)  l\n"
     ]
    },
    {
     "name": "stdout",
     "output_type": "stream",
     "text": [
      "304  \t            k = self.clutter_model\n",
      "305  \t\n",
      "306  \t        # .type(torch.cuda.HalfTensor)\n",
      "307  \t        k = k.unsqueeze(2).repeat(\n",
      "308  \t            1, 1, hx * wx).reshape([k.shape[0], cx, hx, wx])\n",
      "309  ->\t        occ_likely = self.occ_likely[0]\n",
      "310  \t\n",
      "311  \t        if self.compnet_type == 'vmf':\n",
      "312  \t            bg = (v * k).sum(1)\n",
      "313  \t            background = torch.log(bg * occ_likely + 1e-10)\n",
      "314  \t            mm = F.normalize(torch.clamp(self.mix_model, 0, 1), p=1, dim=1)\n"
     ]
    },
    {
     "name": "stdin",
     "output_type": "stream",
     "text": [
      "(Pdb)  n\n"
     ]
    },
    {
     "name": "stdout",
     "output_type": "stream",
     "text": [
      "> /project/6052161/mattlk/workplace/CompNet-Medical/CompositionalNets/Code/model.py(311)clutter_likelihood()\n",
      "-> if self.compnet_type == 'vmf':\n"
     ]
    },
    {
     "name": "stdin",
     "output_type": "stream",
     "text": [
      "(Pdb)  \n"
     ]
    },
    {
     "name": "stdout",
     "output_type": "stream",
     "text": [
      "> /project/6052161/mattlk/workplace/CompNet-Medical/CompositionalNets/Code/model.py(312)clutter_likelihood()\n",
      "-> bg = (v * k).sum(1)\n"
     ]
    },
    {
     "name": "stdin",
     "output_type": "stream",
     "text": [
      "(Pdb)  \n"
     ]
    },
    {
     "name": "stdout",
     "output_type": "stream",
     "text": [
      "> /project/6052161/mattlk/workplace/CompNet-Medical/CompositionalNets/Code/model.py(313)clutter_likelihood()\n",
      "-> background = torch.log(bg * occ_likely + 1e-10)\n"
     ]
    },
    {
     "name": "stdin",
     "output_type": "stream",
     "text": [
      "(Pdb)  bg\n"
     ]
    },
    {
     "name": "stdout",
     "output_type": "stream",
     "text": [
      "tensor([[[2.4436e+09, 1.4145e+11, 1.2926e+11,  ..., 7.5531e+09,\n",
      "          9.7073e+10, 5.1346e+09],\n",
      "         [1.7643e+11, 2.8540e+12, 2.7597e+12,  ..., 1.0544e+08,\n",
      "          4.8273e+09, 1.7852e+10],\n",
      "         [1.5736e+11, 2.8309e+12, 2.7170e+12,  ..., 5.5781e+03,\n",
      "          5.0300e+05, 5.0821e+07],\n",
      "         ...,\n",
      "         [1.5736e+11, 2.8484e+12, 1.3980e+12,  ..., 2.7170e+12,\n",
      "          2.5885e+12, 3.0184e+11],\n",
      "         [1.7014e+11, 2.6016e+12, 2.6308e+12,  ..., 2.6205e+12,\n",
      "          2.4572e+12, 2.5570e+11],\n",
      "         [3.0343e+09, 2.5343e+11, 2.2835e+11,  ..., 2.2835e+11,\n",
      "          2.6891e+11, 9.2174e+09]]], device='cuda:0')\n"
     ]
    },
    {
     "name": "stdin",
     "output_type": "stream",
     "text": [
      "(Pdb)  l\n"
     ]
    },
    {
     "name": "stdout",
     "output_type": "stream",
     "text": [
      "308  \t            1, 1, hx * wx).reshape([k.shape[0], cx, hx, wx])\n",
      "309  \t        occ_likely = self.occ_likely[0]\n",
      "310  \t\n",
      "311  \t        if self.compnet_type == 'vmf':\n",
      "312  \t            bg = (v * k).sum(1)\n",
      "313  ->\t            background = torch.log(bg * occ_likely + 1e-10)\n",
      "314  \t            mm = F.normalize(torch.clamp(self.mix_model, 0, 1), p=1, dim=1)\n",
      "315  \t        elif self.compnet_type == 'bernoulli':\n",
      "316  \t            background = (v * torch.log(k + 1e-3) + (1.0 - v) *\n",
      "317  \t                          torch.log(1-(k + 1e-3))).sum(1) + np.log(occ_likely)\n",
      "318  \t            mm = self.mix_model\n"
     ]
    },
    {
     "name": "stdin",
     "output_type": "stream",
     "text": [
      "(Pdb)  n\n"
     ]
    },
    {
     "name": "stdout",
     "output_type": "stream",
     "text": [
      "> /project/6052161/mattlk/workplace/CompNet-Medical/CompositionalNets/Code/model.py(314)clutter_likelihood()\n",
      "-> mm = F.normalize(torch.clamp(self.mix_model, 0, 1), p=1, dim=1)\n"
     ]
    },
    {
     "name": "stdin",
     "output_type": "stream",
     "text": [
      "(Pdb)  n\n"
     ]
    },
    {
     "name": "stdout",
     "output_type": "stream",
     "text": [
      "> /project/6052161/mattlk/workplace/CompNet-Medical/CompositionalNets/Code/model.py(324)clutter_likelihood()\n",
      "-> cm, hm, wm = mm.shape[1:]\n"
     ]
    },
    {
     "name": "stdin",
     "output_type": "stream",
     "text": [
      "(Pdb)  \n"
     ]
    },
    {
     "name": "stdout",
     "output_type": "stream",
     "text": [
      "> /project/6052161/mattlk/workplace/CompNet-Medical/CompositionalNets/Code/model.py(325)clutter_likelihood()\n",
      "-> if hm < hx:\n"
     ]
    },
    {
     "name": "stdin",
     "output_type": "stream",
     "text": [
      "(Pdb)  n\n"
     ]
    },
    {
     "name": "stdout",
     "output_type": "stream",
     "text": [
      "> /project/6052161/mattlk/workplace/CompNet-Medical/CompositionalNets/Code/model.py(330)clutter_likelihood()\n",
      "-> diff1 = (hm - hx) // 2\n"
     ]
    },
    {
     "name": "stdin",
     "output_type": "stream",
     "text": [
      "(Pdb)  c\n"
     ]
    },
    {
     "name": "stdout",
     "output_type": "stream",
     "text": [
      "> /project/6052161/mattlk/workplace/CompNet-Medical/CompositionalNets/Code/model.py(299)clutter_likelihood()\n",
      "-> if self.compnet_type == 'vmf':\n"
     ]
    },
    {
     "name": "stdin",
     "output_type": "stream",
     "text": [
      "(Pdb)  n\n"
     ]
    },
    {
     "name": "stdout",
     "output_type": "stream",
     "text": [
      "> /project/6052161/mattlk/workplace/CompNet-Medical/CompositionalNets/Code/model.py(300)clutter_likelihood()\n",
      "-> num_clutter_models = self.clutter_model.shape[0]\n"
     ]
    },
    {
     "name": "stdin",
     "output_type": "stream",
     "text": [
      "(Pdb)  \n"
     ]
    },
    {
     "name": "stdout",
     "output_type": "stream",
     "text": [
      "> /project/6052161/mattlk/workplace/CompNet-Medical/CompositionalNets/Code/model.py(302)clutter_likelihood()\n",
      "-> k = F.normalize(torch.clamp(self.clutter_model, 0, 1), p=1, dim=1)\n"
     ]
    },
    {
     "name": "stdin",
     "output_type": "stream",
     "text": [
      "(Pdb)  \n"
     ]
    },
    {
     "name": "stdout",
     "output_type": "stream",
     "text": [
      "> /project/6052161/mattlk/workplace/CompNet-Medical/CompositionalNets/Code/model.py(307)clutter_likelihood()\n",
      "-> k = k.unsqueeze(2).repeat(\n"
     ]
    },
    {
     "name": "stdin",
     "output_type": "stream",
     "text": [
      "(Pdb)  k.shape\n"
     ]
    },
    {
     "name": "stdout",
     "output_type": "stream",
     "text": [
      "torch.Size([1, 16])\n"
     ]
    },
    {
     "name": "stdin",
     "output_type": "stream",
     "text": [
      "(Pdb)  k\n"
     ]
    },
    {
     "name": "stdout",
     "output_type": "stream",
     "text": [
      "tensor([[0.0625, 0.0625, 0.0625, 0.0625, 0.0625, 0.0625, 0.0625, 0.0625, 0.0625,\n",
      "         0.0625, 0.0625, 0.0625, 0.0625, 0.0625, 0.0625, 0.0625]],\n",
      "       device='cuda:0')\n"
     ]
    },
    {
     "name": "stdin",
     "output_type": "stream",
     "text": [
      "(Pdb)  q\n"
     ]
    },
    {
     "name": "stdout",
     "output_type": "stream",
     "text": [
      "\n",
      "> /project/6052161/mattlk/workplace/CompNet-Medical/CompositionalNets/Code/model.py(299)clutter_likelihood()\n",
      "-> if self.compnet_type == 'vmf':\n"
     ]
    },
    {
     "name": "stdin",
     "output_type": "stream",
     "text": [
      "(Pdb)  c\n"
     ]
    },
    {
     "name": "stdout",
     "output_type": "stream",
     "text": [
      "> /project/6052161/mattlk/workplace/CompNet-Medical/CompositionalNets/Code/model.py(299)clutter_likelihood()\n",
      "-> if self.compnet_type == 'vmf':\n"
     ]
    },
    {
     "name": "stdin",
     "output_type": "stream",
     "text": [
      "(Pdb)  c\n"
     ]
    },
    {
     "name": "stdout",
     "output_type": "stream",
     "text": [
      "> /project/6052161/mattlk/workplace/CompNet-Medical/CompositionalNets/Code/model.py(299)clutter_likelihood()\n",
      "-> if self.compnet_type == 'vmf':\n"
     ]
    },
    {
     "name": "stdin",
     "output_type": "stream",
     "text": [
      "(Pdb)  c\n"
     ]
    },
    {
     "name": "stdout",
     "output_type": "stream",
     "text": [
      "> /project/6052161/mattlk/workplace/CompNet-Medical/CompositionalNets/Code/model.py(299)clutter_likelihood()\n",
      "-> if self.compnet_type == 'vmf':\n"
     ]
    },
    {
     "name": "stdin",
     "output_type": "stream",
     "text": [
      "(Pdb)  c\n"
     ]
    },
    {
     "name": "stdout",
     "output_type": "stream",
     "text": [
      "> /project/6052161/mattlk/workplace/CompNet-Medical/CompositionalNets/Code/model.py(299)clutter_likelihood()\n",
      "-> if self.compnet_type == 'vmf':\n"
     ]
    },
    {
     "name": "stdin",
     "output_type": "stream",
     "text": [
      "(Pdb)  c\n"
     ]
    },
    {
     "name": "stdout",
     "output_type": "stream",
     "text": [
      "> /project/6052161/mattlk/workplace/CompNet-Medical/CompositionalNets/Code/model.py(299)clutter_likelihood()\n",
      "-> if self.compnet_type == 'vmf':\n"
     ]
    },
    {
     "name": "stdin",
     "output_type": "stream",
     "text": [
      "(Pdb)  c\n"
     ]
    },
    {
     "name": "stdout",
     "output_type": "stream",
     "text": [
      "> /project/6052161/mattlk/workplace/CompNet-Medical/CompositionalNets/Code/model.py(299)clutter_likelihood()\n",
      "-> if self.compnet_type == 'vmf':\n"
     ]
    },
    {
     "name": "stdin",
     "output_type": "stream",
     "text": [
      "(Pdb)  c\n"
     ]
    },
    {
     "name": "stdout",
     "output_type": "stream",
     "text": [
      "> /project/6052161/mattlk/workplace/CompNet-Medical/CompositionalNets/Code/model.py(299)clutter_likelihood()\n",
      "-> if self.compnet_type == 'vmf':\n"
     ]
    },
    {
     "name": "stdin",
     "output_type": "stream",
     "text": [
      "(Pdb)  c\n"
     ]
    },
    {
     "name": "stdout",
     "output_type": "stream",
     "text": [
      "> /project/6052161/mattlk/workplace/CompNet-Medical/CompositionalNets/Code/model.py(299)clutter_likelihood()\n",
      "-> if self.compnet_type == 'vmf':\n"
     ]
    },
    {
     "name": "stdin",
     "output_type": "stream",
     "text": [
      "(Pdb)  c\n"
     ]
    },
    {
     "name": "stdout",
     "output_type": "stream",
     "text": [
      "> /project/6052161/mattlk/workplace/CompNet-Medical/CompositionalNets/Code/model.py(299)clutter_likelihood()\n",
      "-> if self.compnet_type == 'vmf':\n"
     ]
    },
    {
     "name": "stdin",
     "output_type": "stream",
     "text": [
      "(Pdb)  c\n"
     ]
    },
    {
     "name": "stdout",
     "output_type": "stream",
     "text": [
      "> /project/6052161/mattlk/workplace/CompNet-Medical/CompositionalNets/Code/model.py(299)clutter_likelihood()\n",
      "-> if self.compnet_type == 'vmf':\n"
     ]
    },
    {
     "name": "stdin",
     "output_type": "stream",
     "text": [
      "(Pdb)  c\n"
     ]
    },
    {
     "name": "stdout",
     "output_type": "stream",
     "text": [
      "> /project/6052161/mattlk/workplace/CompNet-Medical/CompositionalNets/Code/model.py(299)clutter_likelihood()\n",
      "-> if self.compnet_type == 'vmf':\n"
     ]
    },
    {
     "name": "stdin",
     "output_type": "stream",
     "text": [
      "(Pdb)  c\n"
     ]
    },
    {
     "name": "stdout",
     "output_type": "stream",
     "text": [
      "> /project/6052161/mattlk/workplace/CompNet-Medical/CompositionalNets/Code/model.py(299)clutter_likelihood()\n",
      "-> if self.compnet_type == 'vmf':\n"
     ]
    },
    {
     "name": "stdin",
     "output_type": "stream",
     "text": [
      "(Pdb)  n\n"
     ]
    },
    {
     "name": "stdout",
     "output_type": "stream",
     "text": [
      "> /project/6052161/mattlk/workplace/CompNet-Medical/CompositionalNets/Code/model.py(300)clutter_likelihood()\n",
      "-> num_clutter_models = self.clutter_model.shape[0]\n"
     ]
    },
    {
     "name": "stdin",
     "output_type": "stream",
     "text": [
      "(Pdb)  \n"
     ]
    },
    {
     "name": "stdout",
     "output_type": "stream",
     "text": [
      "> /project/6052161/mattlk/workplace/CompNet-Medical/CompositionalNets/Code/model.py(302)clutter_likelihood()\n",
      "-> k = F.normalize(torch.clamp(self.clutter_model, 0, 1), p=1, dim=1)\n"
     ]
    },
    {
     "name": "stdin",
     "output_type": "stream",
     "text": [
      "(Pdb)  c\n"
     ]
    },
    {
     "name": "stdout",
     "output_type": "stream",
     "text": [
      "> /project/6052161/mattlk/workplace/CompNet-Medical/CompositionalNets/Code/model.py(299)clutter_likelihood()\n",
      "-> if self.compnet_type == 'vmf':\n"
     ]
    },
    {
     "name": "stdin",
     "output_type": "stream",
     "text": [
      "(Pdb)  \n",
      "(Pdb)  \n",
      "(Pdb)  \n",
      "(Pdb)  \n",
      "(Pdb)  \n",
      "(Pdb)  \n",
      "(Pdb)  c\n"
     ]
    },
    {
     "name": "stdout",
     "output_type": "stream",
     "text": [
      "> /project/6052161/mattlk/workplace/CompNet-Medical/CompositionalNets/Code/model.py(299)clutter_likelihood()\n",
      "-> if self.compnet_type == 'vmf':\n"
     ]
    },
    {
     "name": "stdin",
     "output_type": "stream",
     "text": [
      "(Pdb)  c\n"
     ]
    },
    {
     "name": "stdout",
     "output_type": "stream",
     "text": [
      "> /project/6052161/mattlk/workplace/CompNet-Medical/CompositionalNets/Code/model.py(299)clutter_likelihood()\n",
      "-> if self.compnet_type == 'vmf':\n"
     ]
    },
    {
     "name": "stdin",
     "output_type": "stream",
     "text": [
      "(Pdb)  c\n"
     ]
    },
    {
     "name": "stdout",
     "output_type": "stream",
     "text": [
      "Calculated padded input size per channel: (2 x 2). Kernel size: (3 x 3). Kernel size can't be greater than actual input size\n"
     ]
    }
   ],
   "source": [
    "cc = transforms.Compose([\n",
    "    transforms.ToTensor(),\n",
    "])\n",
    "\n",
    "i = 0\n",
    "out_dir = f'{Directories.COMPOSITIONAL_NETS}/models/init_{encoder}/occlusion_maps/test_{experiment}/'\n",
    "for image in synthetic_images[:]:\n",
    "    \n",
    "    if tight_crop:\n",
    "        image = image[np.ix_((image[...,0]>0).any(1), (image[...,0]>0).any(0))]\n",
    "    image = cc(image)\n",
    "\n",
    "    if device_ids:\n",
    "        image = image.cuda(device_ids[0])\n",
    "\n",
    "    image = image.unsqueeze(0)\n",
    "    try:\n",
    "        with torch.no_grad():\n",
    "            score, occ_maps, part_scores = model.get_occlusion(image, 0)\n",
    "            deconvs = model.vc_activation_deconv(image)\n",
    "\n",
    "        occ_map = occ_maps[0].detach().cpu().numpy()\n",
    "        occ_map = cv2.medianBlur(occ_map.astype(np.float32), 3)\n",
    "        occ_img = visualize_response_map(occ_map, tit='', cbarmax=0)\n",
    "\n",
    "        img_orig = (image[0].permute(1,2,0).cpu().numpy()*255).astype(np.uint8)\n",
    "        faco = img_orig.shape[0] / occ_img.shape[0]\n",
    "\n",
    "        occ_img_s = cv2.resize(occ_img, (int(occ_img.shape[1] * faco), img_orig.shape[0]))[:,:img_orig.shape[1],:]\n",
    "\n",
    "        canvas = np.concatenate((img_orig, occ_img_s), axis=1)\n",
    "        plt.figure(figsize=(7, 7))\n",
    "        plt.imshow(canvas)\n",
    "        plt.axis('off')\n",
    "    except Exception as e:\n",
    "        print(e)"
   ]
  },
  {
   "cell_type": "markdown",
   "metadata": {},
   "source": [
    "# Localize Real Tumors"
   ]
  },
  {
   "cell_type": "code",
   "execution_count": 7,
   "metadata": {},
   "outputs": [],
   "source": [
    "tight_crop = False"
   ]
  },
  {
   "cell_type": "code",
   "execution_count": 8,
   "metadata": {},
   "outputs": [],
   "source": [
    "data_dir = os.path.join(Directories.LITS, 'media', 'nas', '01_Datasets', 'CT', 'LITS')\n",
    "data_train_dir = os.path.join(data_dir, 'Training Set')\n",
    "data_test_dir = os.path.join(data_dir, 'Testing Set')\n",
    "\n",
    "volume_filepaths = [os.path.join(data_train_dir, name) for name in sorted(os.listdir(data_train_dir)) \n",
    "                    if 'volume' in name]\n",
    "segmentation_filepaths = [os.path.join(data_train_dir, name) for name in sorted(os.listdir(data_train_dir)) \n",
    "                          if 'segmentation' in name]\n",
    "\n",
    "pairs = [(vol, gt) for vol, gt in zip(volume_filepaths, segmentation_filepaths)]\n",
    "\n",
    "cc = transforms.Compose([\n",
    "    transforms.ToTensor(),\n",
    "])\n",
    "\n",
    "out_dir = f'{Directories.COMPOSITIONAL_NETS}/models/init_{nn_type}/occlusion_maps/test_lits_{experiment}/'\n",
    "if not os.path.exists(out_dir):\n",
    "    os.makedirs(out_dir)\n",
    "\n",
    "for pair_num, (volume_fp, segmentation_fp) in enumerate(pairs[3:4]):\n",
    "    i = 0\n",
    "    \n",
    "    volume = nib.load(volume_fp)\n",
    "    segmentation = nib.load(segmentation_fp)\n",
    "    \n",
    "    volume_data = volume.get_fdata()\n",
    "    segmentation_data = segmentation.get_fdata()\n",
    "    vol_min = volume_data.min()\n",
    "    vol_max = volume_data.max()\n",
    "    \n",
    "    _, _, num_slices = volume_data.shape\n",
    "    \n",
    "    test_images = []\n",
    "    for j in range(num_slices):\n",
    "        image = volume_data[...,j]\n",
    "        target = segmentation_data[...,j]\n",
    "\n",
    "        image = np.array(image)\n",
    "        target = np.array(target)\n",
    "        \n",
    "        image = np.rot90(image, k=1)\n",
    "        target = np.rot90(target, k=1)\n",
    "\n",
    "        liver = target.copy()\n",
    "        liver[target == 2] = 1\n",
    "        \n",
    "        tumor = target.copy()\n",
    "        tumor[target == 1] = 0\n",
    "        tumor[target == 2] = 1\n",
    "\n",
    "        if np.sum(liver) > 10000:\n",
    "            \n",
    "            image = image * liver\n",
    "            \n",
    "            image = (image - image.min()) / (image.max() - image.min() + 1e-12)\n",
    "            image = image.astype(np.float32)\n",
    "            image = np.stack((image, image, image), axis=2)\n",
    "            \n",
    "            if tight_crop:\n",
    "                image = image[np.ix_((image[...,0]>0).any(1), (image[...,0]>0).any(0))]\n",
    "                \n",
    "            image = cc(image)\n",
    "            if device_ids:\n",
    "                image = image.cuda(device_ids[0])\n",
    "            image = image.unsqueeze(0)\n",
    "\n",
    "            score, occ_maps, part_scores = model.get_occlusion(image, 0)\n",
    "            occ_map = occ_maps[0].detach().cpu().numpy()\n",
    "            occ_map = cv2.medianBlur(occ_map.astype(np.float32), 3)\n",
    "            occ_img = visualize_response_map(occ_map, tit='', cbarmax=0)\n",
    "\n",
    "            img_orig = (image[0].permute(1,2,0).cpu().numpy()*255).astype(np.uint8)\n",
    "            faco = img_orig.shape[0] / occ_img.shape[0]\n",
    "            \n",
    "            if tight_crop:\n",
    "                img_orig = img_orig[np.ix_((img_orig[...,0]>0).any(1), (img_orig[...,0]>0).any(0))]\n",
    "            \n",
    "            occ_img_s = cv2.resize(occ_img, (int(occ_img.shape[1] * faco), img_orig.shape[0]))[:,:img_orig.shape[1],:]\n",
    "            canvas = np.concatenate((img_orig, occ_img_s, np.stack((target,target,target),axis=2)*255/2), axis=1)\n",
    "            cv2.imwrite(os.path.join(out_dir, f'{pair_num:02d}_{i:02d}.jpg'), canvas)\n",
    "            i += 1"
   ]
  },
  {
   "cell_type": "code",
   "execution_count": 110,
   "metadata": {},
   "outputs": [],
   "source": [
    "tumor = np.stack((tumor, tumor, tumor), axis=2)"
   ]
  },
  {
   "cell_type": "code",
   "execution_count": 112,
   "metadata": {},
   "outputs": [],
   "source": [
    "out = eval_occ_detection(occ_img_s, tumor)\n",
    "best_score = 0\n",
    "best_scores = []\n",
    "for scores in out:\n",
    "    acc_score = scores[-1]\n",
    "    if acc_score > best_score:\n",
    "        best_score = acc_score\n",
    "        best_scores = scores"
   ]
  },
  {
   "cell_type": "code",
   "execution_count": 146,
   "metadata": {},
   "outputs": [
    {
     "data": {
      "text/plain": [
       "<matplotlib.image.AxesImage at 0x2ac8dc88c240>"
      ]
     },
     "execution_count": 146,
     "metadata": {},
     "output_type": "execute_result"
    },
    {
     "data": {
      "image/png": "[encoded data removed]",
      "text/plain": [
       "<Figure size 432x288 with 1 Axes>"
      ]
     },
     "metadata": {
      "needs_background": "light"
     },
     "output_type": "display_data"
    }
   ],
   "source": [
    "plt.imshow(occ_img_s)"
   ]
  },
  {
   "cell_type": "code",
   "execution_count": 18,
   "metadata": {},
   "outputs": [
    {
     "data": {
      "text/plain": [
       "(512, 512, 3)"
      ]
     },
     "execution_count": 18,
     "metadata": {},
     "output_type": "execute_result"
    }
   ],
   "source": [
    "result"
   ]
  },
  {
   "cell_type": "code",
   "execution_count": 25,
   "metadata": {},
   "outputs": [
    {
     "data": {
      "text/plain": [
       "<matplotlib.image.AxesImage at 0x2ba5db328630>"
      ]
     },
     "execution_count": 25,
     "metadata": {},
     "output_type": "execute_result"
    },
    {
     "data": {
      "image/png": "[encoded data removed]",
      "text/plain": [
       "<Figure size 432x288 with 1 Axes>"
      ]
     },
     "metadata": {
      "needs_background": "light"
     },
     "output_type": "display_data"
    }
   ],
   "source": [
    "result = (occ_img_s > 100) * occ_img_s\n",
    "result[result != 0] = 255\n",
    "result = result[...,2]\n",
    "plt.imshow(result, cmap=\"gray\")"
   ]
  },
  {
   "cell_type": "code",
   "execution_count": null,
   "metadata": {},
   "outputs": [],
   "source": [
    "cc = transforms.Compose([\n",
    "    transforms.ToTensor(),\n",
    "])\n",
    "\n",
    "i = 0\n",
    "with torch.no_grad():\n",
    "    for image, target in zip(image_dataset, target_dataset):\n",
    "        \n",
    "        image = apply_ct_abdomen_filter(image)\n",
    "    \n",
    "        image = np.stack((image, image, image), axis=2)\n",
    "\n",
    "        # Normalize between 0 and 1\n",
    "        image = (image - image_dataset.min()) / (image_dataset.max() - image_dataset.min() + 1e-12)\n",
    "        image = image.astype(np.float32)\n",
    "        \n",
    "        if tight_crop:\n",
    "            image = image[np.ix_((image[...,0]>0).any(1), (image[...,0]>0).any(0))]\n",
    "        \n",
    "        image = cc(image)\n",
    "        \n",
    "        if device_ids:\n",
    "            image = image.cuda(device_ids[0])\n",
    "        image = image.unsqueeze(0)\n",
    "        \n",
    "        image = image.squeeze(0).permute(1,2,0).cpu().numpy()\n",
    "        \n",
    "        image = cc(image)\n",
    "        image = image.unsqueeze(0)\n",
    "        image = image.cuda()\n",
    "\n",
    "        score, occ_maps, part_scores = model.get_occlusion(image, 0)\n",
    "        occ_map = occ_maps[0].detach().cpu().numpy()\n",
    "        occ_map = cv2.medianBlur(occ_map.astype(np.float32), 3)\n",
    "        occ_img = visualize_response_map(occ_map, tit='', cbarmax=0)\n",
    "        \n",
    "        img_orig = (image[0].permute(1,2,0).cpu().numpy()*255).astype(np.uint8)\n",
    "        faco = img_orig.shape[0] / occ_img.shape[0]\n",
    "        \n",
    "        occ_img_s = cv2.resize(occ_img, (int(occ_img.shape[1] * faco), img_orig.shape[0]))\n",
    "        \n",
    "        canvas = np.concatenate((img_orig, occ_img_s), axis=1)\n",
    "#         plt.figure(figsize=(8, 8))\n",
    "#         plt.imshow(canvas)\n",
    "#         plt.axis('off')\n",
    "#         fp = f'{Directories.COMPOSITIONAL_NETS}/results/lits/train_without_occluder/test_{i}.png'\n",
    "#         cv2.imwrite(fp, canvas)"
   ]
  },
  {
   "cell_type": "code",
   "execution_count": null,
   "metadata": {},
   "outputs": [],
   "source": []
  },
  {
   "cell_type": "code",
   "execution_count": null,
   "metadata": {},
   "outputs": [],
   "source": []
  },
  {
   "cell_type": "code",
   "execution_count": null,
   "metadata": {},
   "outputs": [],
   "source": []
  },
  {
   "cell_type": "code",
   "execution_count": 39,
   "metadata": {},
   "outputs": [],
   "source": [
    "tumor_dir = os.path.join(Directories.DATA, 'tumors')\n",
    "tumors = [cv2.imread(os.path.join(tumor_dir, name)) for name in os.listdir(tumor_dir)]"
   ]
  },
  {
   "cell_type": "code",
   "execution_count": 40,
   "metadata": {},
   "outputs": [],
   "source": [
    "train_hdf5_fp = os.path.join(Directories.LITS, 'train.hdf5')\n",
    "with h5py.File(train_hdf5_fp, 'r') as hf:\n",
    "    image_dataset = hf['images'][40:60]\n",
    "    target_dataset = hf['masks'][40:60]\n",
    "\n",
    "tumors = []\n",
    "for im in image_dataset:\n",
    "    im = apply_ct_abdomen_filter(im)\n",
    "    \n",
    "    im = np.stack((im, im, im), axis=2)\n",
    "\n",
    "    # Normalize between 0 and 1\n",
    "    im = (im - im.min()) / (im.max() - im.min())\n",
    "    im = im.astype(np.float32)\n",
    "    tumors.append(im)\n",
    "\n",
    "unet_filename = 'unet_liver_2020-08-13_15:52:08.pth'\n",
    "is_cuda_available = torch.cuda.is_available()\n",
    "device = torch.device(\"cuda:0\" if is_cuda_available else \"cpu\")\n",
    "\n",
    "path_to_unet = os.path.join(Directories.CHECKPOINTS, unet_filename)\n",
    "unet = UNet(pretrained=True)\n",
    "unet.load_state_dict(torch.load(path_to_unet)['model_state_dict'])\n",
    "if is_cuda_available: unet.to(device)"
   ]
  },
  {
   "cell_type": "code",
   "execution_count": null,
   "metadata": {},
   "outputs": [],
   "source": [
    "cc = transforms.Compose([\n",
    "    transforms.ToTensor(),\n",
    "])\n",
    "\n",
    "i = 0\n",
    "with torch.no_grad():\n",
    "    for image in tumors[:10]:\n",
    "        \n",
    "        image = cc(image)\n",
    "        \n",
    "        if device_ids:\n",
    "            image = image.cuda(device_ids[0])\n",
    "        image = image.unsqueeze(0)\n",
    "        \n",
    "        out = unet(image)\n",
    "        scores = F.softmax(out, dim=1)\n",
    "\n",
    "        segmentations = torch.round(F.threshold(scores[:, 1, :, :], 0.9, 0))\n",
    "        processed_images = segmentations.unsqueeze(1) * image\n",
    "        \n",
    "        seg_liver = processed_images.squeeze()\n",
    "        image = seg_liver.unsqueeze(0)\n",
    "        \n",
    "        image = image.squeeze(0).permute(1,2,0).cpu().numpy()\n",
    "        image = image[np.ix_((image[...,0]>0).any(1), (image[...,0]>0).any(0))]\n",
    "        image = cc(image)\n",
    "        image = image.unsqueeze(0)\n",
    "        image = image.cuda()\n",
    "\n",
    "        score, occ_maps, part_scores = model.get_occlusion(image, 0)\n",
    "        occ_map = occ_maps[0].detach().cpu().numpy()\n",
    "        occ_map = cv2.medianBlur(occ_map.astype(np.float32), 3)\n",
    "        occ_img = visualize_response_map(occ_map, tit='', cbarmax=0)\n",
    "        \n",
    "        img_orig = (image[0].permute(1,2,0).cpu().numpy()*255).astype(np.uint8)\n",
    "        faco = img_orig.shape[0] / occ_img.shape[0]\n",
    "        \n",
    "        occ_img_s = cv2.resize(occ_img, (int(occ_img.shape[1] * faco), img_orig.shape[0]))\n",
    "        \n",
    "        canvas = np.concatenate((img_orig, occ_img_s), axis=1)\n",
    "        plt.figure(figsize=(8, 8))\n",
    "        plt.imshow(canvas)\n",
    "        plt.axis('off')\n",
    "#         fp = f'{Directories.COMPOSITIONAL_NETS}/results/lits/train_without_occluder/test_{i}.png'\n",
    "#         cv2.imwrite(fp, canvas)"
   ]
  }
 ],
 "metadata": {
  "kernelspec": {
   "display_name": "Python 3",
   "language": "python",
   "name": "python3"
  },
  "language_info": {
   "codemirror_mode": {
    "name": "ipython",
    "version": 3
   },
   "file_extension": ".py",
   "mimetype": "text/x-python",
   "name": "python",
   "nbconvert_exporter": "python",
   "pygments_lexer": "ipython3",
   "version": "3.6.3"
  },
  "output_auto_scroll": true
 },
 "nbformat": 4,
 "nbformat_minor": 4
}
