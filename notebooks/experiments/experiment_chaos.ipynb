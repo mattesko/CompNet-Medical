{
 "cells": [
  {
   "cell_type": "code",
   "execution_count": 1,
   "metadata": {
    "tags": []
   },
   "outputs": [],
   "source": [
    "import os\n",
    "import pdb\n",
    "\n",
    "from comet_ml import Experiment\n",
    "from tqdm.notebook import tqdm\n",
    "from sklearn.model_selection import train_test_split\n",
    "import numpy as np\n",
    "import matplotlib.pyplot as plt\n",
    "import h5py\n",
    "\n",
    "import torch\n",
    "from torch.nn import CrossEntropyLoss\n",
    "from torch import optim\n",
    "from torch.utils.data import DataLoader\n",
    "import torch.nn.functional as F\n",
    "from torchvision import transforms\n",
    "import kornia.augmentation as K\n",
    "\n",
    "from src.dataset import ClassificationDataset, NormalizeInstance, get_image_pair_filepaths, Resize, Chaos2DSegmentationDataset\n",
    "from src.models import UNet\n",
    "from src.metrics import dice_loss, dice_score\n",
    "from src.utils import create_canvas\n",
    "from src.train import train_one_epoch, validate\n",
    "import src.config\n",
    "from src.config import directories, Directories\n",
    "\n",
    "%load_ext autoreload\n",
    "%autoreload 2 # 0: off, 2: on for all modules\n",
    "# os.chdir('CompositionalNets/')\n",
    "# sys.path.append('/project/6052161/mattlk/workplace/CompNet')\n",
    "\n",
    "# Change the below directory depending on where the CHAOS dataset is stored\n",
    "data_dir = src.config.directories['chaos']"
   ]
  },
  {
   "cell_type": "code",
   "execution_count": 2,
   "metadata": {},
   "outputs": [],
   "source": [
    "# experiment = Experiment(api_key=\"P5seMqEJjqZ8mDA7QYSuK3yUJ\",\n",
    "#                         project_name=\"chaos-liver-segmentation\",\n",
    "#                         workspace=\"matthew42\", auto_metric_logging=False)"
   ]
  },
  {
   "cell_type": "markdown",
   "metadata": {},
   "source": [
    "# Train U-Net on CHAOS for Liver Segmentation"
   ]
  },
  {
   "cell_type": "code",
   "execution_count": 3,
   "metadata": {},
   "outputs": [],
   "source": [
    "def stack_normalize(x):\n",
    "    x = np.stack((x, x, x), axis=2)\n",
    "    x = (x - x.min()) / (x.max() - x.min() + 1e-12)\n",
    "    x = x.astype(np.float32)\n",
    "    return x"
   ]
  },
  {
   "cell_type": "code",
   "execution_count": 79,
   "metadata": {},
   "outputs": [],
   "source": [
    "params = {\n",
    "    \"lr\": 0.0001,\n",
    "    \"batch_size\": 16,\n",
    "    \"split_train_val\": 0.8,\n",
    "    \"epochs\": 45,\n",
    "    \"use_dice_loss\": False,\n",
    "    \"cache\": False,\n",
    "    \"random_seed\": 42,\n",
    "    \"shuffle_data\": True,\n",
    "    \"scheduler\": \"StepLR\",\n",
    "    \"step_size\": 15,\n",
    "    \"gamma\": 0.75,\n",
    "    \"threshold\": 0.9,\n",
    "    \"pretrained\": True,\n",
    "}\n",
    "\n",
    "is_cuda_available = torch.cuda.is_available()\n",
    "device = torch.device(\"cuda:0\" if is_cuda_available else \"cpu\")\n",
    "input_images_dtype = torch.double\n",
    "targets_dtype = torch.long\n",
    "if is_cuda_available: torch.cuda.empty_cache()\n",
    "\n",
    "\n",
    "size = (256, 256)\n",
    "crop = (224, 224)\n",
    "train_input_transform = transforms.Compose([\n",
    "    stack_normalize,\n",
    "    transforms.ToTensor(),\n",
    "    Resize(size),\n",
    "    K.CenterCrop(crop),\n",
    "#     K.RandomAffine(degrees=(-5, 5), translate=(0.05, 0.05), scale=(0.75, 1.25)),\n",
    "    transforms.Lambda(lambda x: x.squeeze()),\n",
    "])\n",
    "\n",
    "train_target_transform = transforms.Compose([\n",
    "    transforms.Lambda(lambda x: x.astype(np.uint8)),\n",
    "    transforms.ToPILImage(),\n",
    "    transforms.Resize(size),\n",
    "    transforms.CenterCrop(crop),\n",
    "    transforms.ToTensor(),\n",
    "#     K.RandomAffine(degrees=(-5, 5), translate=(0.05, 0.05), scale=(0.75, 1.25)),\n",
    "    transforms.Lambda(lambda x: x.squeeze()),\n",
    "    transforms.Lambda(lambda x: x*255),\n",
    "    transforms.Lambda(lambda x: x.long()),\n",
    "])\n",
    "\n",
    "val_input_transform = transforms.Compose([\n",
    "    stack_normalize,\n",
    "    transforms.ToTensor(),\n",
    "    Resize(size),\n",
    "    K.CenterCrop(crop),\n",
    "    transforms.Lambda(lambda x: x.squeeze()),\n",
    "])\n",
    "val_target_transform = transforms.Compose([\n",
    "    transforms.Lambda(lambda x: x.astype(np.uint8)),\n",
    "    transforms.ToPILImage(),\n",
    "    transforms.Resize(size),\n",
    "    transforms.CenterCrop(crop),\n",
    "    transforms.ToTensor(),\n",
    "    transforms.Lambda(lambda x: x*255),\n",
    "    transforms.Lambda(lambda x: x.long()),\n",
    "])\n",
    "\n",
    "data_dir = Directories.CHAOS\n",
    "\n",
    "image_pair_filepaths = get_image_pair_filepaths(data_dir)[:]\n",
    "train_filepaths, val_filepaths = train_test_split(image_pair_filepaths,\n",
    "                                                  train_size=params['split_train_val'],\n",
    "                                                  random_state=params['random_seed'],\n",
    "                                                  shuffle=params[\"shuffle_data\"])\n",
    "\n",
    "train_dataset = Chaos2DSegmentationDataset(train_filepaths, \n",
    "                                           input_transform=train_input_transform,\n",
    "                                           target_transform=train_target_transform,\n",
    "                                           cache=params['cache'])\n",
    "\n",
    "val_dataset = Chaos2DSegmentationDataset(val_filepaths,\n",
    "                                         input_transform=val_input_transform,\n",
    "                                         target_transform=val_target_transform,\n",
    "                                         cache=params['cache'])\n",
    "\n",
    "num_train, num_val = len(train_dataset), len(val_dataset)\n",
    "params['num_samples'] = num_train + num_val\n",
    "params['input_transform'] = train_input_transform.__str__()\n",
    "params['target_transform'] = train_target_transform.__str__()\n",
    "\n",
    "train_dataloader = DataLoader(train_dataset, batch_size=params['batch_size'], shuffle=True)\n",
    "val_dataloader = DataLoader(val_dataset, batch_size=params['batch_size'], shuffle=True)"
   ]
  },
  {
   "cell_type": "code",
   "execution_count": 80,
   "metadata": {},
   "outputs": [
    {
     "ename": "TypeError",
     "evalue": "Input type float32 is not supported",
     "output_type": "error",
     "traceback": [
      "\u001b[0;31m---------------------------------------------------------------------------\u001b[0m",
      "\u001b[0;31mTypeError\u001b[0m                                 Traceback (most recent call last)",
      "\u001b[0;32m<ipython-input-80-5df4f945b5f6>\u001b[0m in \u001b[0;36m<module>\u001b[0;34m\u001b[0m\n\u001b[0;32m----> 1\u001b[0;31m \u001b[0mimage\u001b[0m\u001b[0;34m,\u001b[0m \u001b[0mtarget\u001b[0m \u001b[0;34m=\u001b[0m \u001b[0mtrain_dataset\u001b[0m\u001b[0;34m[\u001b[0m\u001b[0;36m42\u001b[0m\u001b[0;34m]\u001b[0m\u001b[0;34m\u001b[0m\u001b[0m\n\u001b[0m\u001b[1;32m      2\u001b[0m \u001b[0mimage\u001b[0m \u001b[0;34m=\u001b[0m \u001b[0mimage\u001b[0m\u001b[0;34m.\u001b[0m\u001b[0mclone\u001b[0m\u001b[0;34m(\u001b[0m\u001b[0;34m)\u001b[0m\u001b[0;34m.\u001b[0m\u001b[0mpermute\u001b[0m\u001b[0;34m(\u001b[0m\u001b[0;36m1\u001b[0m\u001b[0;34m,\u001b[0m \u001b[0;36m2\u001b[0m\u001b[0;34m,\u001b[0m \u001b[0;36m0\u001b[0m\u001b[0;34m)\u001b[0m\u001b[0;34m.\u001b[0m\u001b[0mnumpy\u001b[0m\u001b[0;34m(\u001b[0m\u001b[0;34m)\u001b[0m\u001b[0;34m\u001b[0m\u001b[0m\n\u001b[1;32m      3\u001b[0m \u001b[0mtarget\u001b[0m \u001b[0;34m=\u001b[0m \u001b[0mtarget\u001b[0m\u001b[0;34m.\u001b[0m\u001b[0mclone\u001b[0m\u001b[0;34m(\u001b[0m\u001b[0;34m)\u001b[0m\u001b[0;34m.\u001b[0m\u001b[0mnumpy\u001b[0m\u001b[0;34m(\u001b[0m\u001b[0;34m)\u001b[0m\u001b[0;34m\u001b[0m\u001b[0m\n\u001b[1;32m      4\u001b[0m img = create_canvas(image, target, show=False,\n\u001b[1;32m      5\u001b[0m                            title1='Example Input', title2='Example Target')\n",
      "\u001b[0;32m/project/6052161/mattlk/workplace/CompNet-Medical/src/dataset.py\u001b[0m in \u001b[0;36m__getitem__\u001b[0;34m(self, key)\u001b[0m\n\u001b[1;32m    111\u001b[0m \u001b[0;34m\u001b[0m\u001b[0m\n\u001b[1;32m    112\u001b[0m         \u001b[0;32mif\u001b[0m \u001b[0mself\u001b[0m\u001b[0;34m.\u001b[0m\u001b[0minput_transform\u001b[0m\u001b[0;34m:\u001b[0m\u001b[0;34m\u001b[0m\u001b[0m\n\u001b[0;32m--> 113\u001b[0;31m             \u001b[0minput_image\u001b[0m \u001b[0;34m=\u001b[0m \u001b[0mself\u001b[0m\u001b[0;34m.\u001b[0m\u001b[0minput_transform\u001b[0m\u001b[0;34m(\u001b[0m\u001b[0minput_image\u001b[0m\u001b[0;34m)\u001b[0m\u001b[0;34m\u001b[0m\u001b[0m\n\u001b[0m\u001b[1;32m    114\u001b[0m \u001b[0;34m\u001b[0m\u001b[0m\n\u001b[1;32m    115\u001b[0m         \u001b[0;32mif\u001b[0m \u001b[0mself\u001b[0m\u001b[0;34m.\u001b[0m\u001b[0mreset_seed\u001b[0m\u001b[0;34m:\u001b[0m\u001b[0;34m\u001b[0m\u001b[0m\n",
      "\u001b[0;32m~/.virtualenvs/CompNet/lib/python3.6/site-packages/torchvision/transforms/transforms.py\u001b[0m in \u001b[0;36m__call__\u001b[0;34m(self, img)\u001b[0m\n\u001b[1;32m     59\u001b[0m     \u001b[0;32mdef\u001b[0m \u001b[0m__call__\u001b[0m\u001b[0;34m(\u001b[0m\u001b[0mself\u001b[0m\u001b[0;34m,\u001b[0m \u001b[0mimg\u001b[0m\u001b[0;34m)\u001b[0m\u001b[0;34m:\u001b[0m\u001b[0;34m\u001b[0m\u001b[0m\n\u001b[1;32m     60\u001b[0m         \u001b[0;32mfor\u001b[0m \u001b[0mt\u001b[0m \u001b[0;32min\u001b[0m \u001b[0mself\u001b[0m\u001b[0;34m.\u001b[0m\u001b[0mtransforms\u001b[0m\u001b[0;34m:\u001b[0m\u001b[0;34m\u001b[0m\u001b[0m\n\u001b[0;32m---> 61\u001b[0;31m             \u001b[0mimg\u001b[0m \u001b[0;34m=\u001b[0m \u001b[0mt\u001b[0m\u001b[0;34m(\u001b[0m\u001b[0mimg\u001b[0m\u001b[0;34m)\u001b[0m\u001b[0;34m\u001b[0m\u001b[0m\n\u001b[0m\u001b[1;32m     62\u001b[0m         \u001b[0;32mreturn\u001b[0m \u001b[0mimg\u001b[0m\u001b[0;34m\u001b[0m\u001b[0m\n\u001b[1;32m     63\u001b[0m \u001b[0;34m\u001b[0m\u001b[0m\n",
      "\u001b[0;32m~/.virtualenvs/CompNet/lib/python3.6/site-packages/torchvision/transforms/transforms.py\u001b[0m in \u001b[0;36m__call__\u001b[0;34m(self, pic)\u001b[0m\n\u001b[1;32m    125\u001b[0m \u001b[0;34m\u001b[0m\u001b[0m\n\u001b[1;32m    126\u001b[0m         \"\"\"\n\u001b[0;32m--> 127\u001b[0;31m         \u001b[0;32mreturn\u001b[0m \u001b[0mF\u001b[0m\u001b[0;34m.\u001b[0m\u001b[0mto_pil_image\u001b[0m\u001b[0;34m(\u001b[0m\u001b[0mpic\u001b[0m\u001b[0;34m,\u001b[0m \u001b[0mself\u001b[0m\u001b[0;34m.\u001b[0m\u001b[0mmode\u001b[0m\u001b[0;34m)\u001b[0m\u001b[0;34m\u001b[0m\u001b[0m\n\u001b[0m\u001b[1;32m    128\u001b[0m \u001b[0;34m\u001b[0m\u001b[0m\n\u001b[1;32m    129\u001b[0m     \u001b[0;32mdef\u001b[0m \u001b[0m__repr__\u001b[0m\u001b[0;34m(\u001b[0m\u001b[0mself\u001b[0m\u001b[0;34m)\u001b[0m\u001b[0;34m:\u001b[0m\u001b[0;34m\u001b[0m\u001b[0m\n",
      "\u001b[0;32m~/.virtualenvs/CompNet/lib/python3.6/site-packages/torchvision/transforms/functional.py\u001b[0m in \u001b[0;36mto_pil_image\u001b[0;34m(pic, mode)\u001b[0m\n\u001b[1;32m    165\u001b[0m \u001b[0;34m\u001b[0m\u001b[0m\n\u001b[1;32m    166\u001b[0m     \u001b[0;32mif\u001b[0m \u001b[0mmode\u001b[0m \u001b[0;32mis\u001b[0m \u001b[0;32mNone\u001b[0m\u001b[0;34m:\u001b[0m\u001b[0;34m\u001b[0m\u001b[0m\n\u001b[0;32m--> 167\u001b[0;31m         \u001b[0;32mraise\u001b[0m \u001b[0mTypeError\u001b[0m\u001b[0;34m(\u001b[0m\u001b[0;34m'Input type {} is not supported'\u001b[0m\u001b[0;34m.\u001b[0m\u001b[0mformat\u001b[0m\u001b[0;34m(\u001b[0m\u001b[0mnpimg\u001b[0m\u001b[0;34m.\u001b[0m\u001b[0mdtype\u001b[0m\u001b[0;34m)\u001b[0m\u001b[0;34m)\u001b[0m\u001b[0;34m\u001b[0m\u001b[0m\n\u001b[0m\u001b[1;32m    168\u001b[0m \u001b[0;34m\u001b[0m\u001b[0m\n\u001b[1;32m    169\u001b[0m     \u001b[0;32mreturn\u001b[0m \u001b[0mImage\u001b[0m\u001b[0;34m.\u001b[0m\u001b[0mfromarray\u001b[0m\u001b[0;34m(\u001b[0m\u001b[0mnpimg\u001b[0m\u001b[0;34m,\u001b[0m \u001b[0mmode\u001b[0m\u001b[0;34m=\u001b[0m\u001b[0mmode\u001b[0m\u001b[0;34m)\u001b[0m\u001b[0;34m\u001b[0m\u001b[0m\n",
      "\u001b[0;31mTypeError\u001b[0m: Input type float32 is not supported"
     ]
    }
   ],
   "source": [
    "image, target = train_dataset[42]\n",
    "image = image.clone().permute(1, 2, 0).numpy()\n",
    "target = target.clone().numpy()\n",
    "img = create_canvas(image, target, show=False,\n",
    "                           title1='Example Input', title2='Example Target')\n",
    "img"
   ]
  },
  {
   "cell_type": "code",
   "execution_count": 78,
   "metadata": {},
   "outputs": [
    {
     "data": {
      "text/plain": [
       "<matplotlib.image.AxesImage at 0x2b4a284fc9b0>"
      ]
     },
     "execution_count": 78,
     "metadata": {},
     "output_type": "execute_result"
    },
    {
     "data": {
      "image/png": "[encoded data removed]",
      "text/plain": [
       "<Figure size 432x288 with 1 Axes>"
      ]
     },
     "metadata": {
      "needs_background": "light"
     },
     "output_type": "display_data"
    }
   ],
   "source": [
    "plt.imshow(target)"
   ]
  },
  {
   "cell_type": "code",
   "execution_count": 94,
   "metadata": {},
   "outputs": [],
   "source": [
    "def validate(net, dataloader, epoch, device=None, input_dtype=torch.double,\n",
    "    target_dtype=torch.long, use_dice_loss=False, experiment=None,\n",
    "    batch_freq=50, epoch_freq=25, threshold=0.5, **kwargs):\n",
    "    from src.metrics import jaccard_score, dice_score\n",
    "    import torch.nn.functional as F\n",
    "    \"\"\"Gather validation metrics (Dice, Jaccard) on neural network\n",
    "    \"\"\"\n",
    "    net.eval()\n",
    "    torch.set_grad_enabled(False)\n",
    "    dice_mean = torch.zeros((1), device=device)\n",
    "    jaccard_mean = torch.zeros((1), device=device)\n",
    "\n",
    "    for i, data in enumerate(dataloader):\n",
    "\n",
    "        input_images, targets = data\n",
    "\n",
    "        if device:\n",
    "            input_images = input_images.to(device, input_dtype)\n",
    "            targets = targets.to(device, target_dtype)\n",
    "\n",
    "        outputs = net(input_images)\n",
    "\n",
    "        if use_dice_loss:\n",
    "            outputs = F.log_softmax(outputs, dim=1)\n",
    "        else:\n",
    "            outputs = F.softmax(outputs, dim=1)\n",
    "            outputs = F.threshold(outputs[:, 1, :, :].unsqueeze(dim=1), threshold, 0)\n",
    "            outputs = torch.round(outputs)\n",
    "\n",
    "        score = dice_score(outputs, targets)\n",
    "        dice_mean = dice_mean + (score - dice_mean) / (i + 1)\n",
    "        score = jaccard_score(outputs, targets)\n",
    "        jaccard_mean = jaccard_mean + (score - jaccard_mean) / (i + 1)\n",
    "\n",
    "#         outputs, targets = outputs.data.cpu().numpy()*255, targets.data.cpu().numpy()*255\n",
    "#         for idx, (out, gt) in enumerate(zip(outputs, targets)):\n",
    "#             img = create_canvas(out, gt, show=False)\n",
    "#             plt.figure(figsize=(10, 10))\n",
    "#             plt.imshow(img)\n",
    "\n",
    "    return dice_mean.item(), jaccard_mean.item()"
   ]
  },
  {
   "cell_type": "code",
   "execution_count": 94,
   "metadata": {
    "scrolled": true
   },
   "outputs": [
    {
     "ename": "KeyboardInterrupt",
     "evalue": "",
     "output_type": "error",
     "traceback": [
      "\u001b[0;31m---------------------------------------------------------------------------\u001b[0m",
      "\u001b[0;31mKeyboardInterrupt\u001b[0m                         Traceback (most recent call last)",
      "\u001b[0;32m~/.virtualenvs/CompNet/lib/python3.6/site-packages/IPython/core/async_helpers.py\u001b[0m in \u001b[0;36m_pseudo_sync_runner\u001b[0;34m(coro)\u001b[0m\n\u001b[1;32m     66\u001b[0m     \"\"\"\n\u001b[1;32m     67\u001b[0m     \u001b[0;32mtry\u001b[0m\u001b[0;34m:\u001b[0m\u001b[0;34m\u001b[0m\u001b[0m\n\u001b[0;32m---> 68\u001b[0;31m         \u001b[0mcoro\u001b[0m\u001b[0;34m.\u001b[0m\u001b[0msend\u001b[0m\u001b[0;34m(\u001b[0m\u001b[0;32mNone\u001b[0m\u001b[0;34m)\u001b[0m\u001b[0;34m\u001b[0m\u001b[0m\n\u001b[0m\u001b[1;32m     69\u001b[0m     \u001b[0;32mexcept\u001b[0m \u001b[0mStopIteration\u001b[0m \u001b[0;32mas\u001b[0m \u001b[0mexc\u001b[0m\u001b[0;34m:\u001b[0m\u001b[0;34m\u001b[0m\u001b[0m\n\u001b[1;32m     70\u001b[0m         \u001b[0;32mreturn\u001b[0m \u001b[0mexc\u001b[0m\u001b[0;34m.\u001b[0m\u001b[0mvalue\u001b[0m\u001b[0;34m\u001b[0m\u001b[0m\n",
      "\u001b[0;32m~/.virtualenvs/CompNet/lib/python3.6/site-packages/IPython/core/interactiveshell.py\u001b[0m in \u001b[0;36mrun_cell_async\u001b[0;34m(self, raw_cell, store_history, silent, shell_futures)\u001b[0m\n\u001b[1;32m   2986\u001b[0m         \u001b[0;32mif\u001b[0m \u001b[0mstore_history\u001b[0m\u001b[0;34m:\u001b[0m\u001b[0;34m\u001b[0m\u001b[0m\n\u001b[1;32m   2987\u001b[0m             self.history_manager.store_inputs(self.execution_count,\n\u001b[0;32m-> 2988\u001b[0;31m                                               cell, raw_cell)\n\u001b[0m\u001b[1;32m   2989\u001b[0m         \u001b[0;32mif\u001b[0m \u001b[0;32mnot\u001b[0m \u001b[0msilent\u001b[0m\u001b[0;34m:\u001b[0m\u001b[0;34m\u001b[0m\u001b[0m\n\u001b[1;32m   2990\u001b[0m             \u001b[0mself\u001b[0m\u001b[0;34m.\u001b[0m\u001b[0mlogger\u001b[0m\u001b[0;34m.\u001b[0m\u001b[0mlog\u001b[0m\u001b[0;34m(\u001b[0m\u001b[0mcell\u001b[0m\u001b[0;34m,\u001b[0m \u001b[0mraw_cell\u001b[0m\u001b[0;34m)\u001b[0m\u001b[0;34m\u001b[0m\u001b[0m\n",
      "\u001b[0;32m~/.virtualenvs/CompNet/lib/python3.6/site-packages/IPython/core/history.py\u001b[0m in \u001b[0;36mstore_inputs\u001b[0;34m(self, line_num, source, source_raw)\u001b[0m\n\u001b[1;32m    717\u001b[0m         \u001b[0mself\u001b[0m\u001b[0;34m.\u001b[0m\u001b[0minput_hist_raw\u001b[0m\u001b[0;34m.\u001b[0m\u001b[0mappend\u001b[0m\u001b[0;34m(\u001b[0m\u001b[0msource_raw\u001b[0m\u001b[0;34m)\u001b[0m\u001b[0;34m\u001b[0m\u001b[0m\n\u001b[1;32m    718\u001b[0m \u001b[0;34m\u001b[0m\u001b[0m\n\u001b[0;32m--> 719\u001b[0;31m         \u001b[0;32mwith\u001b[0m \u001b[0mself\u001b[0m\u001b[0;34m.\u001b[0m\u001b[0mdb_input_cache_lock\u001b[0m\u001b[0;34m:\u001b[0m\u001b[0;34m\u001b[0m\u001b[0m\n\u001b[0m\u001b[1;32m    720\u001b[0m             \u001b[0mself\u001b[0m\u001b[0;34m.\u001b[0m\u001b[0mdb_input_cache\u001b[0m\u001b[0;34m.\u001b[0m\u001b[0mappend\u001b[0m\u001b[0;34m(\u001b[0m\u001b[0;34m(\u001b[0m\u001b[0mline_num\u001b[0m\u001b[0;34m,\u001b[0m \u001b[0msource\u001b[0m\u001b[0;34m,\u001b[0m \u001b[0msource_raw\u001b[0m\u001b[0;34m)\u001b[0m\u001b[0;34m)\u001b[0m\u001b[0;34m\u001b[0m\u001b[0m\n\u001b[1;32m    721\u001b[0m             \u001b[0;31m# Trigger to flush cache and write to DB.\u001b[0m\u001b[0;34m\u001b[0m\u001b[0;34m\u001b[0m\u001b[0m\n",
      "\u001b[0;31mKeyboardInterrupt\u001b[0m: "
     ]
    }
   ],
   "source": [
    "%%time\n",
    "# with experiment.train():\n",
    "num_accumulated_steps = 1\n",
    "\n",
    "print(f'Number of training images:\\t{num_train}\\nNumber of validation images:\\t{num_val}')\n",
    "for epoch in range(params['epochs']):\n",
    "\n",
    "    unet, running_loss = train_one_epoch(unet, train_dataloader, optimizer,\n",
    "                                         criterion, device=device,\n",
    "                                         num_accumulated_steps=num_accumulated_steps, \n",
    "                                         **params)\n",
    "\n",
    "    if params['use_dice_loss']:\n",
    "        print(f'[Epoch {epoch+1:03d} Training]\\tDice Loss:\\t\\t{running_loss:.4f}')\n",
    "    else:\n",
    "        print(f'[Epoch {epoch+1:03d} Training]\\tCross-Entropy Loss:\\t{running_loss:.4f}')\n",
    "#     experiment.log_metric(\"Running Loss\", running_loss, epoch=epoch, step=epoch, include_context=False)\n",
    "\n",
    "    f1_mean, jaccard_mean = validate(unet, val_dataloader, epoch, device,\n",
    "#                                      experiment=experiment, batch_freq=25,\n",
    "                                     experiment=None, batch_freq=25,\n",
    "                                     epoch_freq=25, **params)\n",
    "\n",
    "    if params['scheduler'] == 'ReduceLROnPlateau':\n",
    "        scheduler.step(f1_mean)\n",
    "    else:\n",
    "        scheduler.step()\n",
    "    print(f'[Epoch {epoch+1:03d} Validation]\\tAverage F1 Score:\\t{f1_mean:.4f}\\tAverage Jaccard/IoU:\\t{jaccard_mean:.4f}\\n')\n",
    "\n",
    "#     experiment.log_metric('Validation Average F1 Score', f1_mean,\n",
    "#                           epoch=epoch, include_context=False)\n",
    "#     experiment.log_metric('Validation Average Jaccard/IoU', jaccard_mean,\n",
    "#                           epoch=epoch, include_context=False)\n",
    "\n",
    "# torch.save(unet.state_dict(), 'unet.pth')\n",
    "# experiment.log_asset('unet.pth', copy_to_tmp=False)\n",
    "# experiment.end()"
   ]
  },
  {
   "cell_type": "code",
   "execution_count": null,
   "metadata": {},
   "outputs": [],
   "source": []
  }
 ],
 "metadata": {
  "kernelspec": {
   "display_name": "Python 3",
   "language": "python",
   "name": "python3"
  },
  "language_info": {
   "codemirror_mode": {
    "name": "ipython",
    "version": 3
   },
   "file_extension": ".py",
   "mimetype": "text/x-python",
   "name": "python",
   "nbconvert_exporter": "python",
   "pygments_lexer": "ipython3",
   "version": "3.6.3"
  },
  "output_auto_scroll": true
 },
 "nbformat": 4,
 "nbformat_minor": 4
}
