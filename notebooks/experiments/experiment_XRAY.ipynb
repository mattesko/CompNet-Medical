{
 "cells": [
  {
   "cell_type": "code",
   "execution_count": 1,
   "metadata": {
    "colab": {},
    "colab_type": "code",
    "id": "dDa1e4H6Tfy3"
   },
   "outputs": [],
   "source": [
    "import os\n",
    "from src.config import directories\n",
    "COMPOSITIONAL_NETS_PATH = directories['CompositionalNets']\n",
    "CODE_PATH = os.path.join(COMPOSITIONAL_NETS_PATH, 'Code')\n",
    "DATA_PATH = os.path.join(COMPOSITIONAL_NETS_PATH, 'data')\n",
    "MODELS_PATH = os.path.join(COMPOSITIONAL_NETS_PATH, 'models')\n",
    "\n",
    "import sys\n",
    "compositional_nets_path = directories['CompositionalNets']\n",
    "if compositional_nets_path not in sys.path:\n",
    "    sys.path.append(compositional_nets_path)"
   ]
  },
  {
   "cell_type": "code",
   "execution_count": 3,
   "metadata": {
    "colab": {},
    "colab_type": "code",
    "id": "Pdzrov_Gdl0w"
   },
   "outputs": [],
   "source": [
    "import pdb\n",
    "from PIL import Image\n",
    "from glob import glob\n",
    "import tarfile\n",
    "\n",
    "import cv2\n",
    "import pandas as pd\n",
    "import numpy as np\n",
    "import tqdm\n",
    "from tqdm import tqdm_notebook\n",
    "from sklearn.model_selection import train_test_split\n",
    "import torch\n",
    "from torch.utils.data import DataLoader\n",
    "import torchvision.models as models\n",
    "from torchvision import transforms\n",
    "\n",
    "from Code.config import categories, categories_train, dataset, data_path, device_ids, mix_model_path, dict_dir, layer, vMF_kappa, model_save_dir, compnet_type, backbone_type, num_mixtures\n",
    "from Code.config import config as cfg\n",
    "from Code.model import Net\n",
    "from Code.helpers import Imgset, imgLoader, getVmfKernels, getCompositionModel, update_clutter_model\n",
    "from Code.eval_occlusion_localization import visualize_response_map"
   ]
  },
  {
   "cell_type": "code",
   "execution_count": 3,
   "metadata": {},
   "outputs": [
    {
     "name": "stdout",
     "output_type": "stream",
     "text": [
      "GPU Available\n"
     ]
    }
   ],
   "source": [
    "if device_ids: print(\"GPU Available\")\n",
    "else: print(\"CPU\")"
   ]
  },
  {
   "cell_type": "markdown",
   "metadata": {},
   "source": [
    "# Sanity Check (Original Demo)"
   ]
  },
  {
   "cell_type": "code",
   "execution_count": 4,
   "metadata": {
    "colab": {},
    "colab_type": "code",
    "id": "br05WAo1xZ6m"
   },
   "outputs": [],
   "source": [
    "###################\n",
    "# Test parameters #\n",
    "###################\n",
    "likely = 0.6  # occlusion likelihood\n",
    "bool_load_pretrained_model = True\n",
    "bool_mixture_model_bg = False \t# use maximal mixture model or sum of all mixture models, not so important\n",
    "bool_multi_stage_model = False \t# this is an old setup"
   ]
  },
  {
   "cell_type": "code",
   "execution_count": 6,
   "metadata": {},
   "outputs": [
    {
     "name": "stdout",
     "output_type": "stream",
     "text": [
      "\n",
      "Image ./demo/17029_0_val2017.jpg classified as car\n",
      "Occlusion map written to: demo/demo_predclass_car_and_occluder_map.jpg\n",
      "\n",
      "Image ./demo/81819_0_train2017.jpg classified as bus\n",
      "Occlusion map written to: demo/demo_predclass_bus_and_occluder_map.jpg\n",
      "\n",
      "Image ./demo/487059_4_train2017.jpg classified as motorbike\n",
      "Occlusion map written to: demo/demo_predclass_motorbike_and_occluder_map.jpg\n"
     ]
    },
    {
     "data": {
      "image/png": "[encoded data removed]",
      "text/plain": [
       "<Figure size 432x288 with 1 Axes>"
      ]
     },
     "metadata": {
      "needs_background": "light"
     },
     "output_type": "display_data"
    },
    {
     "data": {
      "image/png": "[encoded data removed]",
      "text/plain": [
       "<Figure size 432x288 with 1 Axes>"
      ]
     },
     "metadata": {
      "needs_background": "light"
     },
     "output_type": "display_data"
    },
    {
     "data": {
      "image/png": "[encoded data removed]",
      "text/plain": [
       "<Figure size 432x288 with 1 Axes>"
      ]
     },
     "metadata": {
      "needs_background": "light"
     },
     "output_type": "display_data"
    }
   ],
   "source": [
    "occ_likely = []\n",
    "for i in range(len(categories_train)):\n",
    "    occ_likely.append(0.6)\n",
    "############################\n",
    "# Get CompositionalNet Init\n",
    "############################\n",
    "# get pool5 feature extractor\n",
    "extractor = models.vgg16(pretrained=True).features\n",
    "if device_ids: \n",
    "    extractor.cuda(device_ids[0]).eval()\n",
    "weights = getVmfKernels(dict_dir, device_ids)\n",
    "\n",
    "mix_model_path = mix_model_path + '/'\n",
    "mix_models = getCompositionModel(device_ids, mix_model_path, layer, \n",
    "                                 categories_train,compnet_type=compnet_type,\n",
    "                                 num_mixtures=num_mixtures)\n",
    "net = Net(extractor, weights, vMF_kappa, occ_likely, mix_models, \n",
    "          bool_mixture_bg=bool_mixture_model_bg,compnet_type=compnet_type, \n",
    "          num_mixtures=num_mixtures, vc_thresholds=cfg.MODEL.VC_THRESHOLD)\n",
    "if device_ids:\n",
    "    net = net.cuda(device_ids[0])\n",
    "pretrained_model = model_save_dir+'vgg_pool5_p3d+/best.pth'\n",
    "if device_ids:\n",
    "    load_dict = torch.load(pretrained_model, map_location='cuda:{}'.format(device_ids[0]))\n",
    "else:\n",
    "    load_dict = torch.load(pretrained_model, map_location='cpu')\n",
    "net.load_state_dict(load_dict['state_dict'])\n",
    "if device_ids:\n",
    "    net = net.cuda(device_ids[0])\n",
    "updated_clutter = update_clutter_model(net,device_ids)\n",
    "net.clutter_model = updated_clutter\n",
    "\n",
    "########################################################\n",
    "# Classify image and extract occluder locations\n",
    "########################################################\n",
    "\n",
    "test_imgs = []\n",
    "demo_path = os.path.join(COMPOSITIONAL_NETS_PATH, 'demo')\n",
    "test_imgs.append(os.path.join(demo_path, '17029_0_val2017.jpg'))\n",
    "test_imgs.append(os.path.join(demo_path, '81819_0_train2017.jpg'))\n",
    "test_imgs.append(os.path.join(demo_path, '487059_4_train2017.jpg'))\n",
    "\n",
    "test_imgset = Imgset(test_imgs, [[''],[''],['']], [5,4,8], imgLoader, bool_square_images=False)\n",
    "test_loader = DataLoader(dataset=test_imgset, batch_size=1, shuffle=False)\n",
    "\n",
    "with torch.no_grad():\n",
    "    for i, data in enumerate(test_loader):\n",
    "        #load data\n",
    "        input, mask, label = data\n",
    "        if device_ids:\n",
    "            input = input.cuda(device_ids[0])\n",
    "        c_label = label.numpy()\n",
    "        img_name = test_loader.dataset.images[i]\n",
    "        #classify\n",
    "        output, *_ = net(input)\n",
    "        out = output.cpu().numpy().argmax(-1)[0]\n",
    "        pred_class = categories_train[out]\n",
    "        print('\\nImage {} classified as {}'.format(img_name,pred_class))\n",
    "        #localize occluder\n",
    "        score, occ_maps, part_scores = net.get_occlusion(input, label)\n",
    "        occ_map = occ_maps[0].detach().cpu().numpy()\n",
    "        occ_map = cv2.medianBlur(occ_map.astype(np.float32), 3)\n",
    "        occ_img = visualize_response_map(occ_map, tit='',cbarmax=0, show=True)\n",
    "        # concatenate original image and occluder map\n",
    "        img_orig = cv2.imread(img_name)\n",
    "        faco = img_orig.shape[0] / occ_img.shape[0]\n",
    "        occ_img_s = cv2.resize(occ_img, (int(occ_img.shape[1] * faco), img_orig.shape[0]))\n",
    "        out_name = 'demo/{}_predclass_{}_and_occluder_map.jpg'.format(img_name.split('/')[1].split('.')[0],pred_class)\n",
    "        canvas = np.concatenate((img_orig, occ_img_s), axis=1)\n",
    "        cv2.imwrite(out_name, canvas)\n",
    "        print('Occlusion map written to: {}'.format(out_name))"
   ]
  },
  {
   "cell_type": "markdown",
   "metadata": {},
   "source": [
    "# Experiments"
   ]
  },
  {
   "cell_type": "markdown",
   "metadata": {},
   "source": [
    "For training, we'd like to see how well the model can perform with different instances of training: \n",
    "1. on __only__ healty images \n",
    "2. on a 50/50 mix of healthy and sick images."
   ]
  },
  {
   "cell_type": "code",
   "execution_count": 4,
   "metadata": {},
   "outputs": [
    {
     "output_type": "error",
     "ename": "IndexError",
     "evalue": "list index out of range",
     "traceback": [
      "\u001b[0;31m---------------------------------------------------------------------------\u001b[0m",
      "\u001b[0;31mIndexError\u001b[0m                                Traceback (most recent call last)",
      "\u001b[0;32m<ipython-input-4-93f091611f5b>\u001b[0m in \u001b[0;36m<module>\u001b[0;34m\u001b[0m\n\u001b[1;32m      1\u001b[0m \u001b[0;32mfrom\u001b[0m \u001b[0mCode\u001b[0m\u001b[0;34m.\u001b[0m\u001b[0mconfig\u001b[0m \u001b[0;32mimport\u001b[0m \u001b[0mdevice_ids\u001b[0m\u001b[0;34m,\u001b[0m \u001b[0mmix_model_path\u001b[0m\u001b[0;34m,\u001b[0m \u001b[0mcategories\u001b[0m\u001b[0;34m,\u001b[0m \u001b[0mcategories_train\u001b[0m\u001b[0;34m,\u001b[0m \u001b[0mdict_dir\u001b[0m\u001b[0;34m,\u001b[0m \u001b[0mdataset\u001b[0m\u001b[0;34m,\u001b[0m \u001b[0mdata_path\u001b[0m\u001b[0;34m,\u001b[0m \u001b[0mlayer\u001b[0m\u001b[0;34m,\u001b[0m \u001b[0mvc_num\u001b[0m\u001b[0;34m,\u001b[0m \u001b[0mmodel_save_dir\u001b[0m\u001b[0;34m,\u001b[0m \u001b[0mcompnet_type\u001b[0m\u001b[0;34m,\u001b[0m\u001b[0mbackbone_type\u001b[0m\u001b[0;34m,\u001b[0m \u001b[0mvMF_kappa\u001b[0m\u001b[0;34m,\u001b[0m\u001b[0mnum_mixtures\u001b[0m\u001b[0;34m\u001b[0m\u001b[0;34m\u001b[0m\u001b[0m\n\u001b[0;32m----> 2\u001b[0;31m \u001b[0;32mfrom\u001b[0m \u001b[0mCode\u001b[0m\u001b[0;34m.\u001b[0m\u001b[0mtrain\u001b[0m \u001b[0;32mimport\u001b[0m \u001b[0mtrain\u001b[0m\u001b[0;34m\u001b[0m\u001b[0;34m\u001b[0m\u001b[0m\n\u001b[0m\u001b[1;32m      3\u001b[0m \u001b[0;32mfrom\u001b[0m \u001b[0mCode\u001b[0m\u001b[0;34m.\u001b[0m\u001b[0mmodel\u001b[0m \u001b[0;32mimport\u001b[0m \u001b[0mNet\u001b[0m\u001b[0;34m\u001b[0m\u001b[0;34m\u001b[0m\u001b[0m\n\u001b[1;32m      4\u001b[0m \u001b[0;32mfrom\u001b[0m \u001b[0mCode\u001b[0m\u001b[0;34m.\u001b[0m\u001b[0mhelpers\u001b[0m \u001b[0;32mimport\u001b[0m \u001b[0mgetImg\u001b[0m\u001b[0;34m,\u001b[0m \u001b[0mImgset\u001b[0m\u001b[0;34m,\u001b[0m \u001b[0mimgLoader\u001b[0m\u001b[0;34m,\u001b[0m \u001b[0msave_checkpoint\u001b[0m\u001b[0;34m,\u001b[0m\u001b[0mgetCompositionModel\u001b[0m\u001b[0;34m,\u001b[0m\u001b[0mgetVmfKernels\u001b[0m\u001b[0;34m,\u001b[0m \u001b[0mupdate_clutter_model\u001b[0m\u001b[0;34m\u001b[0m\u001b[0;34m\u001b[0m\u001b[0m\n\u001b[1;32m      5\u001b[0m \u001b[0;32mfrom\u001b[0m \u001b[0mCode\u001b[0m\u001b[0;34m.\u001b[0m\u001b[0mconfig\u001b[0m \u001b[0;32mimport\u001b[0m \u001b[0mconfig\u001b[0m \u001b[0;32mas\u001b[0m \u001b[0mcfg\u001b[0m\u001b[0;34m\u001b[0m\u001b[0;34m\u001b[0m\u001b[0m\n",
      "\u001b[0;32m~/workplace/research/CompNet-Medical/CompositionalNets/Code/train.py\u001b[0m in \u001b[0;36m<module>\u001b[0;34m\u001b[0m\n\u001b[1;32m     39\u001b[0m \u001b[0;34m\u001b[0m\u001b[0m\n\u001b[1;32m     40\u001b[0m out_dir = model_save_dir + 'train_{}_a{}_b{}_vc{}_mix{}_occlikely{}_vc{}_lr_{}_{}_pretrained{}_epochs_{}_occ{}_backbone{}_{}/'.format(\n\u001b[0;32m---> 41\u001b[0;31m \tlayer, alpha,beta, vc_flag, mix_flag, likely, vc_num, lr, dataset, bool_load_pretrained_model,ncoord_it,bool_train_with_occluders,backbone_type,device_ids[0])\n\u001b[0m\u001b[1;32m     42\u001b[0m \u001b[0;34m\u001b[0m\u001b[0m\n\u001b[1;32m     43\u001b[0m \u001b[0;34m\u001b[0m\u001b[0m\n",
      "\u001b[0;31mIndexError\u001b[0m: list index out of range"
     ]
    }
   ],
   "source": [
    "from Code.config import device_ids, mix_model_path, categories, categories_train, dict_dir, dataset, data_path, layer, vc_num, model_save_dir, compnet_type,backbone_type, vMF_kappa,num_mixtures\n",
    "from Code.train import train\n",
    "from Code.model import Net\n",
    "from Code.helpers import getImg, Imgset, imgLoader, save_checkpoint,getCompositionModel,getVmfKernels, update_clutter_model\n",
    "from Code.config import config as cfg\n",
    "from torch.utils.data import DataLoader\n",
    "from Code.losses import ClusterLoss\n",
    "from Code.model import resnet_feature_extractor\n",
    "import torchvision.models as models\n",
    "from torch import nn\n",
    "import time\n",
    "from PIL import Image"
   ]
  },
  {
   "cell_type": "code",
   "execution_count": 8,
   "metadata": {},
   "outputs": [],
   "source": [
    "categories = {0: 'No Finding', 1: 'Mass'}"
   ]
  },
  {
   "cell_type": "markdown",
   "metadata": {},
   "source": [
    "## Data"
   ]
  },
  {
   "cell_type": "code",
   "execution_count": 9,
   "metadata": {},
   "outputs": [],
   "source": [
    "# Need to keep tar files open, otherwise we can't access the images later\n",
    "tar_no_finding = tarfile.open(os.path.join(DATA_PATH, \"No Finding.tar.gz\"), \"r:gz\")\n",
    "images_no_finding, names_no_finding = [], []\n",
    "for member in tar_no_finding.getmembers():\n",
    "    images_no_finding.append(Image.open(tar_no_finding.extractfile(member)))\n",
    "    names_no_finding.append(os.path.basename(member.name))\n",
    "    \n",
    "tar_mass = tarfile.open(os.path.join(DATA_PATH, \"Mass.tar.gz\"), \"r:gz\")\n",
    "images_mass, names_mass = [], []\n",
    "for member in tar_mass.getmembers():\n",
    "    images_mass.append(Image.open(tar_mass.extractfile(member)))\n",
    "    names_mass.append(os.path.basename(member.name))"
   ]
  },
  {
   "cell_type": "code",
   "execution_count": 10,
   "metadata": {},
   "outputs": [],
   "source": [
    "bbox_entries = pd.read_csv(os.path.join(DATA_PATH, 'BBox_List_2017.csv'))\n",
    "data_entries = pd.read_csv(os.path.join(DATA_PATH, 'Data_Entry_2017_v2020.csv'))"
   ]
  },
  {
   "cell_type": "code",
   "execution_count": 2,
   "metadata": {},
   "outputs": [],
   "source": [
    "def img_loader(input_image, mask_path, bool_resize_images=True, bool_square_images=True):\n",
    "    # CompositionalNet takes RGB images as input\n",
    "    input_image = Image.fromarray(input_image)\n",
    "    if input_image.mode != 'RGB': input_image = input_image.convert('RGB')\n",
    "    \n",
    "    if bool_resize_images:\n",
    "        if bool_square_images:\n",
    "            input_image.resize((224,224),Image.ANTIALIAS)\n",
    "        else:\n",
    "            sz=input_image.size\n",
    "            min_size = np.min(sz)\n",
    "            if min_size!=224:\n",
    "                input_image = input_image.resize((np.asarray(sz) * (224 / min_size)).astype(int),\n",
    "                                                 Image.ANTIALIAS)\n",
    "                \n",
    "    preprocess =  transforms.Compose([\n",
    "        transforms.ToTensor(),\n",
    "        transforms.Normalize(mean=[0.485, 0.456, 0.406], std=[0.229, 0.224, 0.225])\n",
    "    ])\n",
    "    img = preprocess(input_image)\n",
    "\n",
    "    if mask_path[0]:\n",
    "        mask1 = cv2.imread(mask_path[0])[:, :, 0]\n",
    "        mask1 = myresize(mask1, 224, 'short')\n",
    "        try:\n",
    "            mask2 = cv2.imread(mask_path[1])[:, :, 0]\n",
    "            mask2 = mask2[:mask1.shape[0], :mask1.shape[1]]\n",
    "        except:\n",
    "            mask = mask1\n",
    "        try:\n",
    "            mask = ((mask1 == 255) * (mask2 == 255)).astype(np.float)\n",
    "        except:\n",
    "            mask = mask1\n",
    "    else:\n",
    "        mask = np.ones((img.shape[0], img.shape[1])) * 255.0\n",
    "\n",
    "    mask = torch.from_numpy(mask)\n",
    "    return img, mask"
   ]
  },
  {
   "cell_type": "markdown",
   "metadata": {},
   "source": [
    "## Zero Occlusion in Training"
   ]
  },
  {
   "cell_type": "markdown",
   "metadata": {},
   "source": [
    "### Training"
   ]
  },
  {
   "cell_type": "code",
   "execution_count": 13,
   "metadata": {},
   "outputs": [],
   "source": [
    "#---------------------\n",
    "# Training Parameters\n",
    "#---------------------\n",
    "alpha = 3  # vc-loss\n",
    "beta = 3 # mix loss\n",
    "likely = 0.6 # occlusion likelihood\n",
    "lr = 1e-2 # learning rate\n",
    "batch_size = 1 # these are pseudo batches as the aspect ratio of images for CompNets is not square\n",
    "# Training setup\n",
    "vc_flag = True # train the vMF kernels\n",
    "mix_flag = True # train mixture components\n",
    "ncoord_it = 1 #number of epochs to train\n",
    "\n",
    "bool_mixture_model_bg = False #True: use a mixture of background models per pixel, False: use one bg model for whole image\n",
    "bool_load_pretrained_model = True\n",
    "bool_train_with_occluders = False\n",
    "\n",
    "if bool_train_with_occluders:\n",
    "    occ_levels_train = ['ZERO', 'ONE', 'FIVE', 'NINE']\n",
    "else:\n",
    "    occ_levels_train = ['ZERO']\n",
    "\n",
    "model_save_dir = model_save_dir + '/'\n",
    "out_dir = model_save_dir + 'train_{}_a{}_b{}_vc{}_mix{}_occlikely{}_vc{}_lr_{}_{}_pretrained{}_epochs_{}_occ{}_backbone{}/'.format(\n",
    "    layer, alpha,beta, vc_flag, mix_flag, likely, vc_num, \n",
    "    lr, dataset, bool_load_pretrained_model,ncoord_it,bool_train_with_occluders,backbone_type)"
   ]
  },
  {
   "cell_type": "code",
   "execution_count": 3,
   "metadata": {},
   "outputs": [
    {
     "ename": "NameError",
     "evalue": "name 'backbone_type' is not defined",
     "output_type": "error",
     "traceback": [
      "\u001b[0;31m---------------------------------------------------------------------------\u001b[0m",
      "\u001b[0;31mNameError\u001b[0m                                 Traceback (most recent call last)",
      "\u001b[0;32m<ipython-input-3-949cad06432a>\u001b[0m in \u001b[0;36m<module>\u001b[0;34m\u001b[0m\n\u001b[0;32m----> 1\u001b[0;31m \u001b[0;32mif\u001b[0m \u001b[0mbackbone_type\u001b[0m\u001b[0;34m==\u001b[0m\u001b[0;34m'vgg'\u001b[0m\u001b[0;34m:\u001b[0m\u001b[0;34m\u001b[0m\u001b[0m\n\u001b[0m\u001b[1;32m      2\u001b[0m     \u001b[0;32mif\u001b[0m \u001b[0mlayer\u001b[0m\u001b[0;34m==\u001b[0m\u001b[0;34m'pool4'\u001b[0m\u001b[0;34m:\u001b[0m\u001b[0;34m\u001b[0m\u001b[0m\n\u001b[1;32m      3\u001b[0m         \u001b[0mextractor\u001b[0m \u001b[0;34m=\u001b[0m \u001b[0mmodels\u001b[0m\u001b[0;34m.\u001b[0m\u001b[0mvgg16\u001b[0m\u001b[0;34m(\u001b[0m\u001b[0mpretrained\u001b[0m\u001b[0;34m=\u001b[0m\u001b[0;32mTrue\u001b[0m\u001b[0;34m)\u001b[0m\u001b[0;34m.\u001b[0m\u001b[0mfeatures\u001b[0m\u001b[0;34m[\u001b[0m\u001b[0;36m0\u001b[0m\u001b[0;34m:\u001b[0m\u001b[0;36m24\u001b[0m\u001b[0;34m]\u001b[0m\u001b[0;34m\u001b[0m\u001b[0m\n\u001b[1;32m      4\u001b[0m     \u001b[0;32melse\u001b[0m\u001b[0;34m:\u001b[0m\u001b[0;34m\u001b[0m\u001b[0m\n\u001b[1;32m      5\u001b[0m         \u001b[0mextractor\u001b[0m \u001b[0;34m=\u001b[0m \u001b[0mmodels\u001b[0m\u001b[0;34m.\u001b[0m\u001b[0mvgg16\u001b[0m\u001b[0;34m(\u001b[0m\u001b[0mpretrained\u001b[0m\u001b[0;34m=\u001b[0m\u001b[0;32mTrue\u001b[0m\u001b[0;34m)\u001b[0m\u001b[0;34m.\u001b[0m\u001b[0mfeatures\u001b[0m\u001b[0;34m\u001b[0m\u001b[0m\n",
      "\u001b[0;31mNameError\u001b[0m: name 'backbone_type' is not defined"
     ]
    }
   ],
   "source": [
    "if backbone_type=='vgg':\n",
    "    if layer=='pool4':\n",
    "        extractor = models.vgg16(pretrained=True).features[0:24]\n",
    "    else:\n",
    "        extractor = models.vgg16(pretrained=True).features\n",
    "elif backbone_type=='resnet50' or backbone_type=='resnext':\n",
    "    extractor = resnet_feature_extractor(backbone_type, layer)\n",
    "\n",
    "if device_ids:\n",
    "    extractor.cuda(device_ids[0]).eval()\n",
    "else:\n",
    "    extractor.eval()\n",
    "weights = getVmfKernels(dict_dir, device_ids)\n",
    "\n",
    "if bool_load_pretrained_model:\n",
    "    pretrained_file = model_save_dir+'vgg_pool5_p3d+/best.pth'\n",
    "else:\n",
    "    pretrained_file = ''\n",
    "\n",
    "occ_likely = []\n",
    "for i in range(len(categories_train)):\n",
    "    # setting the same occlusion likelihood for all classes\n",
    "    occ_likely.append(likely)\n",
    "\n",
    "# load the CompNet initialized with ML and spectral clustering\n",
    "mix_models = getCompositionModel(device_ids,mix_model_path,layer,categories_train,compnet_type=compnet_type)\n",
    "net = Net(extractor, weights, vMF_kappa, occ_likely, mix_models, \n",
    "          bool_mixture_bg=bool_mixture_model_bg,compnet_type=compnet_type,\n",
    "          num_mixtures=num_mixtures, vc_thresholds=cfg.MODEL.VC_THRESHOLD)\n",
    "\n",
    "if bool_load_pretrained_model:\n",
    "    if device_ids:\n",
    "        net.load_state_dict(torch.load(pretrained_file, \n",
    "                                       map_location='cuda:{}'.format(device_ids[0]))['state_dict'])\n",
    "    else:\n",
    "        net.load_state_dict(torch.load(pretrained_file, \n",
    "                               map_location='cpu')['state_dict'])\n",
    "if device_ids:\n",
    "    net = net.cuda(device_ids[0])\n",
    "\n",
    "train_imgs=[]\n",
    "train_masks = []\n",
    "train_labels = []\n",
    "val_imgs = []\n",
    "val_labels = []\n",
    "val_masks=[]\n",
    "\n",
    "# get training and validation images\n",
    "for occ_level in occ_levels_train:\n",
    "    if occ_level == 'ZERO':\n",
    "        occ_types = ['']\n",
    "        train_fac=0.9\n",
    "    else:\n",
    "        occ_types = ['_white', '_noise', '_texture', '']\n",
    "        train_fac=0.1\n",
    "\n",
    "    for occ_type in occ_types:\n",
    "        \n",
    "#         images, labels, masks = images_no_finding, ['No Finding'], [[]]\n",
    "        # Test with two images for training. \"No Finding\" label encoded as 0\n",
    "#         images = images_no_finding[0:2]\n",
    "        images = images_no_finding[:100]\n",
    "        labels = [0] * len(images)\n",
    "        masks = [['']] * len(images)\n",
    "        \n",
    "print('Total imgs for training ' + str(len(images)))\n",
    "train_imgset = Imgset(images, masks, labels, img_loader, bool_square_images=True)"
   ]
  },
  {
   "cell_type": "code",
   "execution_count": 16,
   "metadata": {},
   "outputs": [
    {
     "name": "stdout",
     "output_type": "stream",
     "text": [
      "Training\n",
      "Epochs: [1/1], Train Acc:0.58, Train Loss:-44.2471044921875\n"
     ]
    }
   ],
   "source": [
    "model=net \n",
    "train_data=train_imgset\n",
    "val_data=None\n",
    "epochs=ncoord_it\n",
    "batch_size=batch_size\n",
    "learning_rate=lr\n",
    "savedir=out_dir\n",
    "alpha=alpha\n",
    "beta=beta\n",
    "vc_flag=vc_flag\n",
    "mix_flag=mix_flag\n",
    "\n",
    "best_check = {\n",
    "    'epoch': 0,\n",
    "    'best': 0,\n",
    "    'val_acc': 0\n",
    "}\n",
    "out_file_name = savedir + 'result.txt'\n",
    "total_train = len(train_data)\n",
    "train_loader = DataLoader(dataset=train_data, batch_size=1, shuffle=True)\n",
    "# val_loaders=[]\n",
    "\n",
    "# for i in range(len(val_data)):\n",
    "#     val_loader = DataLoader(dataset=val_data[i], batch_size=1, shuffle=True)\n",
    "#     val_loaders.append(val_loader)\n",
    "\n",
    "# we observed that training the backbone does not make a very big difference but not training saves a lot of memory\n",
    "# if the backbone should be trained, then only with very small learning rate e.g. 1e-7\n",
    "for param in model.backbone.parameters():\n",
    "    param.requires_grad = False\n",
    "\n",
    "if not vc_flag:\n",
    "    model.conv1o1.weight.requires_grad = False\n",
    "else:\n",
    "    model.conv1o1.weight.requires_grad = True\n",
    "\n",
    "if not mix_flag:\n",
    "    model.mix_model.requires_grad = False\n",
    "else:\n",
    "    model.mix_model.requires_grad = True\n",
    "\n",
    "classification_loss = nn.CrossEntropyLoss()\n",
    "cluster_loss = ClusterLoss()\n",
    "\n",
    "optimizer = torch.optim.Adagrad(params=filter(lambda param: param.requires_grad, \n",
    "                                              model.parameters()), lr=learning_rate)\n",
    "scheduler = torch.optim.lr_scheduler.ExponentialLR(optimizer=optimizer, gamma=0.98)\n",
    "\n",
    "print('Training')\n",
    "\n",
    "for epoch in range(epochs):\n",
    "    out_file = open(out_file_name, 'a')\n",
    "    train_loss = 0.0\n",
    "    correct = 0\n",
    "    start = time.time()\n",
    "    model.train()\n",
    "    model.backbone.eval()\n",
    "    \n",
    "    for index, data in enumerate(train_loader):\n",
    "        if index % 500 == 0 and index != 0:\n",
    "            end = time.time()\n",
    "            print('Epoch{}: {}/{}, Acc: {}, Loss: {} Time:{}'.format(epoch + 1, index, \n",
    "                                                                     total_train, \n",
    "                                                                     correct.cpu().item() / index, train_loss.cpu().item() / index, \n",
    "                                                                     (end-start)))\n",
    "            start = time.time()\n",
    "\n",
    "        input, _, label = data\n",
    "        \n",
    "        if device_ids:\n",
    "            input = input.cuda(device_ids[0])\n",
    "            label = label.cuda(device_ids[0])\n",
    "\n",
    "        output, vgg_feat, like = model(input)\n",
    "\n",
    "        out = output.argmax(1)\n",
    "#         pdb.set_trace()\n",
    "        correct += torch.sum(out == label)\n",
    "        class_loss = classification_loss(output, label) / output.shape[0]\n",
    "\n",
    "        loss = class_loss\n",
    "        if alpha != 0:\n",
    "            clust_loss = cluster_loss(vgg_feat, model.conv1o1.weight) / output.shape[0]\n",
    "            loss += alpha * clust_loss\n",
    "\n",
    "        if beta!=0:\n",
    "            mix_loss = like[0,label[0]]\n",
    "            loss += -beta *mix_loss\n",
    "\n",
    "        #with torch.autograd.set_detect_anomaly(True):\n",
    "        loss.backward()\n",
    "\n",
    "        # pseudo batches\n",
    "        if np.mod(index,batch_size)==0:# and index!=0:\n",
    "            optimizer.step()\n",
    "            optimizer.zero_grad()\n",
    "\n",
    "        train_loss += loss.detach() * input.shape[0]\n",
    "\n",
    "    updated_clutter = update_clutter_model(model,device_ids)\n",
    "    model.clutter_model = updated_clutter\n",
    "    scheduler.step()\n",
    "    train_acc = correct.cpu().item() / total_train\n",
    "    train_loss = train_loss.cpu().item() / total_train\n",
    "    out_str = 'Epochs: [{}/{}], Train Acc:{}, Train Loss:{}'.format(epoch + 1, epochs, train_acc, train_loss)\n",
    "    print(out_str)\n",
    "#     out_file.write(out_str)"
   ]
  },
  {
   "cell_type": "code",
   "execution_count": 17,
   "metadata": {},
   "outputs": [],
   "source": [
    "torch.save(model.state_dict(), 'models/4.pth')"
   ]
  },
  {
   "cell_type": "markdown",
   "metadata": {},
   "source": [
    "### Testing"
   ]
  },
  {
   "cell_type": "code",
   "execution_count": 18,
   "metadata": {
    "colab": {
     "base_uri": "https://localhost:8080/",
     "height": 384
    },
    "colab_type": "code",
    "id": "IC3hWItv1wez",
    "outputId": "61e1cbe5-0591-4e5d-9697-59d70660024b"
   },
   "outputs": [
    {
     "data": {
      "application/vnd.jupyter.widget-view+json": {
       "model_id": "42ed1bb5438a4a31a3aedce3625ffa3e",
       "version_major": 2,
       "version_minor": 0
      },
      "text/plain": [
       "HBox(children=(IntProgress(value=1, bar_style='info', max=1), HTML(value='')))"
      ]
     },
     "metadata": {},
     "output_type": "display_data"
    },
    {
     "name": "stdout",
     "output_type": "stream",
     "text": [
      "\n"
     ]
    },
    {
     "data": {
      "image/png": "[encoded data removed]",
      "text/plain": [
       "<Figure size 432x288 with 1 Axes>"
      ]
     },
     "metadata": {
      "needs_background": "light"
     },
     "output_type": "display_data"
    },
    {
     "data": {
      "image/png": "[encoded data removed]",
      "text/plain": [
       "<Figure size 432x288 with 1 Axes>"
      ]
     },
     "metadata": {
      "needs_background": "light"
     },
     "output_type": "display_data"
    },
    {
     "data": {
      "image/png": "[encoded data removed]",
      "text/plain": [
       "<Figure size 432x288 with 1 Axes>"
      ]
     },
     "metadata": {
      "needs_background": "light"
     },
     "output_type": "display_data"
    },
    {
     "data": {
      "image/png": "[encoded data removed]",
      "text/plain": [
       "<Figure size 432x288 with 1 Axes>"
      ]
     },
     "metadata": {
      "needs_background": "light"
     },
     "output_type": "display_data"
    },
    {
     "data": {
      "image/png": "[encoded data removed]",
      "text/plain": [
       "<Figure size 432x288 with 1 Axes>"
      ]
     },
     "metadata": {
      "needs_background": "light"
     },
     "output_type": "display_data"
    },
    {
     "data": {
      "image/png": "[encoded data removed]",
      "text/plain": [
       "<Figure size 432x288 with 1 Axes>"
      ]
     },
     "metadata": {
      "needs_background": "light"
     },
     "output_type": "display_data"
    },
    {
     "data": {
      "image/png": "[encoded data removed]",
      "text/plain": [
       "<Figure size 432x288 with 1 Axes>"
      ]
     },
     "metadata": {
      "needs_background": "light"
     },
     "output_type": "display_data"
    },
    {
     "data": {
      "image/png": "[encoded data removed]",
      "text/plain": [
       "<Figure size 432x288 with 1 Axes>"
      ]
     },
     "metadata": {
      "needs_background": "light"
     },
     "output_type": "display_data"
    },
    {
     "data": {
      "image/png": "[encoded data removed]",
      "text/plain": [
       "<Figure size 432x288 with 1 Axes>"
      ]
     },
     "metadata": {
      "needs_background": "light"
     },
     "output_type": "display_data"
    },
    {
     "data": {
      "image/png": "[encoded data removed]",
      "text/plain": [
       "<Figure size 432x288 with 1 Axes>"
      ]
     },
     "metadata": {
      "needs_background": "light"
     },
     "output_type": "display_data"
    },
    {
     "data": {
      "image/png": "[encoded data removed]",
      "text/plain": [
       "<Figure size 432x288 with 1 Axes>"
      ]
     },
     "metadata": {
      "needs_background": "light"
     },
     "output_type": "display_data"
    },
    {
     "data": {
      "image/png": "[encoded data removed]",
      "text/plain": [
       "<Figure size 432x288 with 1 Axes>"
      ]
     },
     "metadata": {
      "needs_background": "light"
     },
     "output_type": "display_data"
    },
    {
     "data": {
      "image/png": "[encoded data removed]",
      "text/plain": [
       "<Figure size 432x288 with 1 Axes>"
      ]
     },
     "metadata": {
      "needs_background": "light"
     },
     "output_type": "display_data"
    },
    {
     "data": {
      "image/png": "[encoded data removed]",
      "text/plain": [
       "<Figure size 432x288 with 1 Axes>"
      ]
     },
     "metadata": {
      "needs_background": "light"
     },
     "output_type": "display_data"
    },
    {
     "data": {
      "image/png": "[encoded data removed]",
      "text/plain": [
       "<Figure size 432x288 with 1 Axes>"
      ]
     },
     "metadata": {
      "needs_background": "light"
     },
     "output_type": "display_data"
    },
    {
     "data": {
      "image/png": "[encoded data removed]",
      "text/plain": [
       "<Figure size 432x288 with 1 Axes>"
      ]
     },
     "metadata": {
      "needs_background": "light"
     },
     "output_type": "display_data"
    },
    {
     "data": {
      "image/png": "[encoded data removed]",
      "text/plain": [
       "<Figure size 432x288 with 1 Axes>"
      ]
     },
     "metadata": {
      "needs_background": "light"
     },
     "output_type": "display_data"
    },
    {
     "data": {
      "image/png": "[encoded data removed]",
      "text/plain": [
       "<Figure size 432x288 with 1 Axes>"
      ]
     },
     "metadata": {
      "needs_background": "light"
     },
     "output_type": "display_data"
    },
    {
     "data": {
      "image/png": "[encoded data removed]",
      "text/plain": [
       "<Figure size 432x288 with 1 Axes>"
      ]
     },
     "metadata": {
      "needs_background": "light"
     },
     "output_type": "display_data"
    },
    {
     "data": {
      "image/png": "[encoded data removed]",
      "text/plain": [
       "<Figure size 432x288 with 1 Axes>"
      ]
     },
     "metadata": {
      "needs_background": "light"
     },
     "output_type": "display_data"
    }
   ],
   "source": [
    "# test_imgset = Imgset(images_mass[:3], [[''],[''],['']], [1, 1, 1], img_loader, bool_square_images=True)\n",
    "test_imgset = Imgset(images_mass[:20], [['']] * len(images_mass), [1] * len(images_mass), \n",
    "                     img_loader, bool_square_images=True)\n",
    "test_loader = DataLoader(dataset=test_imgset, batch_size=1, shuffle=False)\n",
    "\n",
    "with torch.no_grad():\n",
    "    for i, data in tqdm_notebook(enumerate(test_loader)):\n",
    "        #load data\n",
    "        img_orig = images_mass[i].convert('RGB')\n",
    "        input_img, mask, label = data\n",
    "        if device_ids:\n",
    "            input_img = input_img.cuda(device_ids[0])\n",
    "        c_label = label.numpy()\n",
    "        img_name = os.path.splitext(names_mass[i])[0]\n",
    "        #classify\n",
    "        output, *_ = model(input_img)\n",
    "        out = output.cpu().numpy().argmax(-1)[0]\n",
    "#         pred_class = categories_train[out]\n",
    "#         print('\\nImage {} classified as {}'.format(img_name,pred_class))\n",
    "        #localize occluder\n",
    "        score, occ_maps, part_scores = net.get_occlusion(input_img, label)\n",
    "        occ_map = occ_maps[0].detach().cpu().numpy()\n",
    "        occ_map = cv2.medianBlur(occ_map.astype(np.float32), 3)\n",
    "        occ_img = visualize_response_map(occ_map, tit='',cbarmax=0, show=True)\n",
    "        # concatenate original image and occluder map\n",
    "        img_orig = np.array(img_orig)\n",
    "        faco = img_orig.shape[0] / occ_img.shape[0]\n",
    "        occ_img_s = cv2.resize(occ_img, (int(occ_img.shape[1] * faco), img_orig.shape[0]))\n",
    "        out_name = f'results/4/{img_name}_with_occlusion_map.png'\n",
    "        canvas = np.concatenate((img_orig, occ_img_s), axis=1)\n",
    "        cv2.imwrite(out_name, canvas)"
   ]
  },
  {
   "cell_type": "markdown",
   "metadata": {},
   "source": [
    "## With Occlusion in Training"
   ]
  },
  {
   "cell_type": "code",
   "execution_count": 93,
   "metadata": {
    "colab": {},
    "colab_type": "code",
    "id": "otTxpWWr3jJa"
   },
   "outputs": [],
   "source": [
    "#---------------------\n",
    "# Training Parameters\n",
    "#---------------------\n",
    "alpha = 3  # vc-loss\n",
    "beta = 3 # mix loss\n",
    "likely = 0.6 # occlusion likelihood\n",
    "lr = 1e-2 # learning rate\n",
    "batch_size = 1 # these are pseudo batches as the aspect ratio of images for CompNets is not square\n",
    "# Training setup\n",
    "vc_flag = True # train the vMF kernels\n",
    "mix_flag = True # train mixture components\n",
    "ncoord_it = 25 #number of epochs to train\n",
    "\n",
    "bool_mixture_model_bg = False #True: use a mixture of background models per pixel, False: use one bg model for whole image\n",
    "bool_load_pretrained_model = False\n",
    "bool_train_with_occluders = True\n",
    "\n",
    "if bool_train_with_occluders:\n",
    "    occ_levels_train = ['ONE']\n",
    "\n",
    "model_save_dir = 'models/'\n",
    "out_dir = model_save_dir + 'with_occlusion'"
   ]
  },
  {
   "cell_type": "code",
   "execution_count": 94,
   "metadata": {},
   "outputs": [],
   "source": [
    "X_train_mass, X_test_mass, y_train_mass, y_test_mass = train_test_split(images_mass, \n",
    "                                                         [1] * len(images_mass), test_size=0.5)\n",
    "\n",
    "X_train_nf, X_test_nf, y_train_nf, y_test_nf = train_test_split(images_no_finding[:len(images_mass)], \n",
    "                                                         [0] * len(images_mass), test_size=0.5)"
   ]
  },
  {
   "cell_type": "code",
   "execution_count": 95,
   "metadata": {},
   "outputs": [
    {
     "name": "stdout",
     "output_type": "stream",
     "text": [
      "Total imgs for training 250\n"
     ]
    }
   ],
   "source": [
    "if backbone_type=='vgg':\n",
    "    if layer=='pool4':\n",
    "        extractor = models.vgg16(pretrained=True).features[0:24]\n",
    "    else:\n",
    "        extractor = models.vgg16(pretrained=True).features\n",
    "elif backbone_type=='resnet50' or backbone_type=='resnext':\n",
    "    extractor = resnet_feature_extractor(backbone_type, layer)\n",
    "\n",
    "if device_ids:\n",
    "    extractor.cuda(device_ids[0]).eval()\n",
    "else:\n",
    "    extractor.eval()\n",
    "weights = getVmfKernels(dict_dir, device_ids)\n",
    "\n",
    "if bool_load_pretrained_model:\n",
    "    pretrained_file = 'PATH TO .PTH FILE HERE'\n",
    "else:\n",
    "    pretrained_file = ''\n",
    "\n",
    "occ_likely = []\n",
    "for i in range(len(categories_train)):\n",
    "    # setting the same occlusion likelihood for all classes\n",
    "    occ_likely.append(likely)\n",
    "\n",
    "# load the CompNet initialized with ML and spectral clustering\n",
    "mix_models = getCompositionModel(device_ids,mix_model_path,layer,categories_train,compnet_type=compnet_type)\n",
    "net = Net(extractor, weights, vMF_kappa, occ_likely, mix_models, \n",
    "          bool_mixture_bg=bool_mixture_model_bg,compnet_type=compnet_type,\n",
    "          num_mixtures=num_mixtures, vc_thresholds=cfg.MODEL.VC_THRESHOLD)\n",
    "\n",
    "if bool_load_pretrained_model:\n",
    "    if device_ids:\n",
    "        net.load_state_dict(torch.load(pretrained_file, \n",
    "                                       map_location='cuda:{}'.format(device_ids[0]))['state_dict'])\n",
    "    else:\n",
    "        net.load_state_dict(torch.load(pretrained_file, \n",
    "                               map_location='cpu')['state_dict'])\n",
    "if device_ids:\n",
    "    net = net.cuda(device_ids[0])\n",
    "\n",
    "train_imgs=[]\n",
    "train_masks = []\n",
    "train_labels = []\n",
    "val_imgs = []\n",
    "val_labels = []\n",
    "val_masks=[]\n",
    "\n",
    "X_train_mass, X_test_mass, y_train_mass, y_test_mass = train_test_split(images_mass, \n",
    "                                                         [1] * len(images_mass), test_size=0.5)\n",
    "\n",
    "X_train_nf, X_test_nf, y_train_nf, y_test_nf = train_test_split(images_no_finding[:len(images_mass)], \n",
    "                                                         [0] * len(images_mass), test_size=0.5)\n",
    "\n",
    "# get training and validation images\n",
    "for occ_level in occ_levels_train:\n",
    "    if occ_level == 'ZERO':\n",
    "        occ_types = ['']\n",
    "        train_fac=0.9\n",
    "    else:\n",
    "        occ_types = ['_mass']\n",
    "        train_fac=0.1\n",
    "\n",
    "    for occ_type in occ_types:\n",
    "        \n",
    "        train_imgs.extend(X_train_mass)\n",
    "        train_imgs.extend(X_train_nf)\n",
    "        train_labels.extend(y_train_mass)\n",
    "        train_labels.extend(y_train_nf)\n",
    "        train_masks = [['']] * len(train_imgs)\n",
    "        \n",
    "print('Total imgs for training ' + str(len(train_imgs)))\n",
    "train_imgset = Imgset(train_imgs, train_masks, train_labels, img_loader, bool_square_images=True)"
   ]
  },
  {
   "cell_type": "code",
   "execution_count": 96,
   "metadata": {},
   "outputs": [
    {
     "name": "stdout",
     "output_type": "stream",
     "text": [
      "Training\n",
      "Epochs: [1/25], Train Acc:0.472, Train Loss:-45.9916796875\n",
      "Epochs: [2/25], Train Acc:0.5, Train Loss:-49.324484375\n",
      "Epochs: [3/25], Train Acc:0.516, Train Loss:-49.9339765625\n",
      "Epochs: [4/25], Train Acc:0.52, Train Loss:-50.25253515625\n",
      "Epochs: [5/25], Train Acc:0.524, Train Loss:-50.4555625\n",
      "Epochs: [6/25], Train Acc:0.548, Train Loss:-50.59443359375\n",
      "Epochs: [7/25], Train Acc:0.56, Train Loss:-50.70876953125\n",
      "Epochs: [8/25], Train Acc:0.616, Train Loss:-50.80769921875\n",
      "Epochs: [9/25], Train Acc:0.616, Train Loss:-50.87090625\n",
      "Epochs: [10/25], Train Acc:0.632, Train Loss:-50.91682421875\n",
      "Epochs: [11/25], Train Acc:0.648, Train Loss:-50.95041015625\n",
      "Epochs: [12/25], Train Acc:0.664, Train Loss:-50.9792890625\n",
      "Epochs: [13/25], Train Acc:0.68, Train Loss:-51.0041484375\n",
      "Epochs: [14/25], Train Acc:0.696, Train Loss:-51.0258671875\n",
      "Epochs: [15/25], Train Acc:0.688, Train Loss:-51.045359375\n",
      "Epochs: [16/25], Train Acc:0.692, Train Loss:-51.06348828125\n",
      "Epochs: [17/25], Train Acc:0.684, Train Loss:-51.079953125\n",
      "Epochs: [18/25], Train Acc:0.684, Train Loss:-51.09479296875\n",
      "Epochs: [19/25], Train Acc:0.688, Train Loss:-51.10765625\n",
      "Epochs: [20/25], Train Acc:0.684, Train Loss:-51.120234375\n",
      "Epochs: [21/25], Train Acc:0.692, Train Loss:-51.13121875\n",
      "Epochs: [22/25], Train Acc:0.692, Train Loss:-51.14085546875\n",
      "Epochs: [23/25], Train Acc:0.688, Train Loss:-51.15011328125\n",
      "Epochs: [24/25], Train Acc:0.7, Train Loss:-51.15840234375\n",
      "Epochs: [25/25], Train Acc:0.696, Train Loss:-51.166484375\n"
     ]
    }
   ],
   "source": [
    "model=net \n",
    "train_data=train_imgset\n",
    "val_data=None\n",
    "epochs=ncoord_it\n",
    "batch_size=batch_size\n",
    "learning_rate=lr\n",
    "savedir=out_dir\n",
    "alpha=alpha\n",
    "beta=beta\n",
    "vc_flag=vc_flag\n",
    "mix_flag=mix_flag\n",
    "\n",
    "best_check = {\n",
    "    'epoch': 0,\n",
    "    'best': 0,\n",
    "    'val_acc': 0\n",
    "}\n",
    "out_file_name = savedir + 'result.txt'\n",
    "total_train = len(train_data)\n",
    "train_loader = DataLoader(dataset=train_data, batch_size=1, shuffle=True)\n",
    "# val_loaders=[]\n",
    "\n",
    "# for i in range(len(val_data)):\n",
    "#     val_loader = DataLoader(dataset=val_data[i], batch_size=1, shuffle=True)\n",
    "#     val_loaders.append(val_loader)\n",
    "\n",
    "# we observed that training the backbone does not make a very big difference but not training saves a lot of memory\n",
    "# if the backbone should be trained, then only with very small learning rate e.g. 1e-7\n",
    "for param in model.backbone.parameters():\n",
    "    param.requires_grad = False\n",
    "\n",
    "if not vc_flag:\n",
    "    model.conv1o1.weight.requires_grad = False\n",
    "else:\n",
    "    model.conv1o1.weight.requires_grad = True\n",
    "\n",
    "if not mix_flag:\n",
    "    model.mix_model.requires_grad = False\n",
    "else:\n",
    "    model.mix_model.requires_grad = True\n",
    "\n",
    "classification_loss = nn.CrossEntropyLoss()\n",
    "cluster_loss = ClusterLoss()\n",
    "\n",
    "optimizer = torch.optim.Adagrad(params=filter(lambda param: param.requires_grad, \n",
    "                                              model.parameters()), lr=learning_rate)\n",
    "scheduler = torch.optim.lr_scheduler.ExponentialLR(optimizer=optimizer, gamma=0.98)\n",
    "\n",
    "print('Training')\n",
    "\n",
    "for epoch in range(epochs):\n",
    "    out_file = open(out_file_name, 'a')\n",
    "    train_loss = 0.0\n",
    "    correct = 0\n",
    "    start = time.time()\n",
    "    model.train()\n",
    "    model.backbone.eval()\n",
    "    \n",
    "    for index, data in enumerate(train_loader):\n",
    "        if index % 500 == 0 and index != 0:\n",
    "            end = time.time()\n",
    "            print('Epoch{}: {}/{}, Acc: {}, Loss: {} Time:{}'.format(epoch + 1, index, \n",
    "                                                                     total_train, \n",
    "                                                                     correct.cpu().item() / index, train_loss.cpu().item() / index, \n",
    "                                                                     (end-start)))\n",
    "            start = time.time()\n",
    "\n",
    "        input, _, label = data\n",
    "        \n",
    "        if device_ids:\n",
    "            input = input.cuda(device_ids[0])\n",
    "            label = label.cuda(device_ids[0])\n",
    "\n",
    "        output, vgg_feat, like = model(input)\n",
    "\n",
    "        out = output.argmax(1)\n",
    "#         pdb.set_trace()\n",
    "        correct += torch.sum(out == label)\n",
    "        class_loss = classification_loss(output, label) / output.shape[0]\n",
    "\n",
    "        loss = class_loss\n",
    "        if alpha != 0:\n",
    "            clust_loss = cluster_loss(vgg_feat, model.conv1o1.weight) / output.shape[0]\n",
    "            loss += alpha * clust_loss\n",
    "\n",
    "        if beta!=0:\n",
    "            mix_loss = like[0,label[0]]\n",
    "            loss += -beta *mix_loss\n",
    "\n",
    "        #with torch.autograd.set_detect_anomaly(True):\n",
    "        loss.backward()\n",
    "\n",
    "        # pseudo batches\n",
    "        if np.mod(index,batch_size)==0:# and index!=0:\n",
    "            optimizer.step()\n",
    "            optimizer.zero_grad()\n",
    "\n",
    "        train_loss += loss.detach() * input.shape[0]\n",
    "\n",
    "    updated_clutter = update_clutter_model(model,device_ids)\n",
    "    model.clutter_model = updated_clutter\n",
    "    scheduler.step()\n",
    "    train_acc = correct.cpu().item() / total_train\n",
    "    train_loss = train_loss.cpu().item() / total_train\n",
    "    out_str = 'Epochs: [{}/{}], Train Acc:{}, Train Loss:{}'.format(epoch + 1, epochs, train_acc, train_loss)\n",
    "    print(out_str)\n",
    "    out_file.write(out_str)"
   ]
  },
  {
   "cell_type": "code",
   "execution_count": 103,
   "metadata": {},
   "outputs": [
    {
     "data": {
      "application/vnd.jupyter.widget-view+json": {
       "model_id": "8edcadb8bdd944ee88068ed1c692846e",
       "version_major": 2,
       "version_minor": 0
      },
      "text/plain": [
       "HBox(children=(IntProgress(value=1, bar_style='info', max=1), HTML(value='')))"
      ]
     },
     "metadata": {},
     "output_type": "display_data"
    },
    {
     "name": "stdout",
     "output_type": "stream",
     "text": [
      "Predicted as: No Finding\n",
      "Predicted as: No Finding\n",
      "Predicted as: No Finding\n",
      "Predicted as: Mass\n",
      "Predicted as: No Finding\n",
      "Predicted as: No Finding\n",
      "Predicted as: Mass\n",
      "Predicted as: Mass\n",
      "Predicted as: Mass\n",
      "Predicted as: No Finding\n",
      "Predicted as: No Finding\n",
      "Predicted as: No Finding\n",
      "Predicted as: Mass\n",
      "Predicted as: No Finding\n",
      "Predicted as: No Finding\n",
      "Predicted as: Mass\n",
      "Predicted as: No Finding\n",
      "Predicted as: No Finding\n",
      "Predicted as: Mass\n",
      "Predicted as: No Finding\n",
      "Predicted as: No Finding\n"
     ]
    },
    {
     "name": "stderr",
     "output_type": "stream",
     "text": [
      "./Code/eval_occlusion_localization.py:48: RuntimeWarning: More than 20 figures have been opened. Figures created through the pyplot interface (`matplotlib.pyplot.figure`) are retained until explicitly closed and may consume too much memory. (To control this warning, see the rcParam `figure.max_open_warning`).\n",
      "  fig, ax = plt.subplots(nrows=1, ncols=1)\n"
     ]
    },
    {
     "name": "stdout",
     "output_type": "stream",
     "text": [
      "Predicted as: No Finding\n",
      "Predicted as: Mass\n",
      "Predicted as: No Finding\n",
      "Predicted as: No Finding\n"
     ]
    },
    {
     "ename": "KeyboardInterrupt",
     "evalue": "",
     "output_type": "error",
     "traceback": [
      "\u001b[0;31m---------------------------------------------------------------------------\u001b[0m",
      "\u001b[0;31mKeyboardInterrupt\u001b[0m                         Traceback (most recent call last)",
      "\u001b[0;32m<ipython-input-103-ca5a55539688>\u001b[0m in \u001b[0;36m<module>\u001b[0;34m\u001b[0m\n\u001b[1;32m     12\u001b[0m \u001b[0;34m\u001b[0m\u001b[0m\n\u001b[1;32m     13\u001b[0m \u001b[0;32mwith\u001b[0m \u001b[0mtorch\u001b[0m\u001b[0;34m.\u001b[0m\u001b[0mno_grad\u001b[0m\u001b[0;34m(\u001b[0m\u001b[0;34m)\u001b[0m\u001b[0;34m:\u001b[0m\u001b[0;34m\u001b[0m\u001b[0m\n\u001b[0;32m---> 14\u001b[0;31m     \u001b[0;32mfor\u001b[0m \u001b[0mi\u001b[0m\u001b[0;34m,\u001b[0m \u001b[0mdata\u001b[0m \u001b[0;32min\u001b[0m \u001b[0mtqdm_notebook\u001b[0m\u001b[0;34m(\u001b[0m\u001b[0menumerate\u001b[0m\u001b[0;34m(\u001b[0m\u001b[0mtest_loader\u001b[0m\u001b[0;34m)\u001b[0m\u001b[0;34m)\u001b[0m\u001b[0;34m:\u001b[0m\u001b[0;34m\u001b[0m\u001b[0m\n\u001b[0m\u001b[1;32m     15\u001b[0m         \u001b[0;31m#load data\u001b[0m\u001b[0;34m\u001b[0m\u001b[0;34m\u001b[0m\u001b[0m\n\u001b[1;32m     16\u001b[0m         \u001b[0mimg_orig\u001b[0m \u001b[0;34m=\u001b[0m \u001b[0mimages_mass\u001b[0m\u001b[0;34m[\u001b[0m\u001b[0mi\u001b[0m\u001b[0;34m]\u001b[0m\u001b[0;34m.\u001b[0m\u001b[0mconvert\u001b[0m\u001b[0;34m(\u001b[0m\u001b[0;34m'RGB'\u001b[0m\u001b[0;34m)\u001b[0m\u001b[0;34m\u001b[0m\u001b[0m\n",
      "\u001b[0;32m~/.virtualenvs/CompNet/lib/python3.6/site-packages/tqdm/notebook.py\u001b[0m in \u001b[0;36m__iter__\u001b[0;34m(self, *args, **kwargs)\u001b[0m\n\u001b[1;32m    220\u001b[0m     \u001b[0;32mdef\u001b[0m \u001b[0m__iter__\u001b[0m\u001b[0;34m(\u001b[0m\u001b[0mself\u001b[0m\u001b[0;34m,\u001b[0m \u001b[0;34m*\u001b[0m\u001b[0margs\u001b[0m\u001b[0;34m,\u001b[0m \u001b[0;34m**\u001b[0m\u001b[0mkwargs\u001b[0m\u001b[0;34m)\u001b[0m\u001b[0;34m:\u001b[0m\u001b[0;34m\u001b[0m\u001b[0m\n\u001b[1;32m    221\u001b[0m         \u001b[0;32mtry\u001b[0m\u001b[0;34m:\u001b[0m\u001b[0;34m\u001b[0m\u001b[0m\n\u001b[0;32m--> 222\u001b[0;31m             \u001b[0;32mfor\u001b[0m \u001b[0mobj\u001b[0m \u001b[0;32min\u001b[0m \u001b[0msuper\u001b[0m\u001b[0;34m(\u001b[0m\u001b[0mtqdm_notebook\u001b[0m\u001b[0;34m,\u001b[0m \u001b[0mself\u001b[0m\u001b[0;34m)\u001b[0m\u001b[0;34m.\u001b[0m\u001b[0m__iter__\u001b[0m\u001b[0;34m(\u001b[0m\u001b[0;34m*\u001b[0m\u001b[0margs\u001b[0m\u001b[0;34m,\u001b[0m \u001b[0;34m**\u001b[0m\u001b[0mkwargs\u001b[0m\u001b[0;34m)\u001b[0m\u001b[0;34m:\u001b[0m\u001b[0;34m\u001b[0m\u001b[0m\n\u001b[0m\u001b[1;32m    223\u001b[0m                 \u001b[0;31m# return super(tqdm...) will not catch exception\u001b[0m\u001b[0;34m\u001b[0m\u001b[0;34m\u001b[0m\u001b[0m\n\u001b[1;32m    224\u001b[0m                 \u001b[0;32myield\u001b[0m \u001b[0mobj\u001b[0m\u001b[0;34m\u001b[0m\u001b[0m\n",
      "\u001b[0;32m~/.virtualenvs/CompNet/lib/python3.6/site-packages/tqdm/std.py\u001b[0m in \u001b[0;36m__iter__\u001b[0;34m(self)\u001b[0m\n\u001b[1;32m   1079\u001b[0m             \"\"\"), fp_write=getattr(self.fp, 'write', sys.stderr.write))\n\u001b[1;32m   1080\u001b[0m \u001b[0;34m\u001b[0m\u001b[0m\n\u001b[0;32m-> 1081\u001b[0;31m         \u001b[0;32mfor\u001b[0m \u001b[0mobj\u001b[0m \u001b[0;32min\u001b[0m \u001b[0miterable\u001b[0m\u001b[0;34m:\u001b[0m\u001b[0;34m\u001b[0m\u001b[0m\n\u001b[0m\u001b[1;32m   1082\u001b[0m             \u001b[0;32myield\u001b[0m \u001b[0mobj\u001b[0m\u001b[0;34m\u001b[0m\u001b[0m\n\u001b[1;32m   1083\u001b[0m             \u001b[0;31m# Update and possibly print the progressbar.\u001b[0m\u001b[0;34m\u001b[0m\u001b[0;34m\u001b[0m\u001b[0m\n",
      "\u001b[0;32m~/.virtualenvs/CompNet/lib/python3.6/site-packages/torch/utils/data/dataloader.py\u001b[0m in \u001b[0;36m__next__\u001b[0;34m(self)\u001b[0m\n\u001b[1;32m    344\u001b[0m     \u001b[0;32mdef\u001b[0m \u001b[0m__next__\u001b[0m\u001b[0;34m(\u001b[0m\u001b[0mself\u001b[0m\u001b[0;34m)\u001b[0m\u001b[0;34m:\u001b[0m\u001b[0;34m\u001b[0m\u001b[0m\n\u001b[1;32m    345\u001b[0m         \u001b[0mindex\u001b[0m \u001b[0;34m=\u001b[0m \u001b[0mself\u001b[0m\u001b[0;34m.\u001b[0m\u001b[0m_next_index\u001b[0m\u001b[0;34m(\u001b[0m\u001b[0;34m)\u001b[0m  \u001b[0;31m# may raise StopIteration\u001b[0m\u001b[0;34m\u001b[0m\u001b[0m\n\u001b[0;32m--> 346\u001b[0;31m         \u001b[0mdata\u001b[0m \u001b[0;34m=\u001b[0m \u001b[0mself\u001b[0m\u001b[0;34m.\u001b[0m\u001b[0mdataset_fetcher\u001b[0m\u001b[0;34m.\u001b[0m\u001b[0mfetch\u001b[0m\u001b[0;34m(\u001b[0m\u001b[0mindex\u001b[0m\u001b[0;34m)\u001b[0m  \u001b[0;31m# may raise StopIteration\u001b[0m\u001b[0;34m\u001b[0m\u001b[0m\n\u001b[0m\u001b[1;32m    347\u001b[0m         \u001b[0;32mif\u001b[0m \u001b[0mself\u001b[0m\u001b[0;34m.\u001b[0m\u001b[0mpin_memory\u001b[0m\u001b[0;34m:\u001b[0m\u001b[0;34m\u001b[0m\u001b[0m\n\u001b[1;32m    348\u001b[0m             \u001b[0mdata\u001b[0m \u001b[0;34m=\u001b[0m \u001b[0m_utils\u001b[0m\u001b[0;34m.\u001b[0m\u001b[0mpin_memory\u001b[0m\u001b[0;34m.\u001b[0m\u001b[0mpin_memory\u001b[0m\u001b[0;34m(\u001b[0m\u001b[0mdata\u001b[0m\u001b[0;34m)\u001b[0m\u001b[0;34m\u001b[0m\u001b[0m\n",
      "\u001b[0;32m~/.virtualenvs/CompNet/lib/python3.6/site-packages/torch/utils/data/_utils/fetch.py\u001b[0m in \u001b[0;36mfetch\u001b[0;34m(self, possibly_batched_index)\u001b[0m\n\u001b[1;32m     42\u001b[0m     \u001b[0;32mdef\u001b[0m \u001b[0mfetch\u001b[0m\u001b[0;34m(\u001b[0m\u001b[0mself\u001b[0m\u001b[0;34m,\u001b[0m \u001b[0mpossibly_batched_index\u001b[0m\u001b[0;34m)\u001b[0m\u001b[0;34m:\u001b[0m\u001b[0;34m\u001b[0m\u001b[0m\n\u001b[1;32m     43\u001b[0m         \u001b[0;32mif\u001b[0m \u001b[0mself\u001b[0m\u001b[0;34m.\u001b[0m\u001b[0mauto_collation\u001b[0m\u001b[0;34m:\u001b[0m\u001b[0;34m\u001b[0m\u001b[0m\n\u001b[0;32m---> 44\u001b[0;31m             \u001b[0mdata\u001b[0m \u001b[0;34m=\u001b[0m \u001b[0;34m[\u001b[0m\u001b[0mself\u001b[0m\u001b[0;34m.\u001b[0m\u001b[0mdataset\u001b[0m\u001b[0;34m[\u001b[0m\u001b[0midx\u001b[0m\u001b[0;34m]\u001b[0m \u001b[0;32mfor\u001b[0m \u001b[0midx\u001b[0m \u001b[0;32min\u001b[0m \u001b[0mpossibly_batched_index\u001b[0m\u001b[0;34m]\u001b[0m\u001b[0;34m\u001b[0m\u001b[0m\n\u001b[0m\u001b[1;32m     45\u001b[0m         \u001b[0;32melse\u001b[0m\u001b[0;34m:\u001b[0m\u001b[0;34m\u001b[0m\u001b[0m\n\u001b[1;32m     46\u001b[0m             \u001b[0mdata\u001b[0m \u001b[0;34m=\u001b[0m \u001b[0mself\u001b[0m\u001b[0;34m.\u001b[0m\u001b[0mdataset\u001b[0m\u001b[0;34m[\u001b[0m\u001b[0mpossibly_batched_index\u001b[0m\u001b[0;34m]\u001b[0m\u001b[0;34m\u001b[0m\u001b[0m\n",
      "\u001b[0;32m~/.virtualenvs/CompNet/lib/python3.6/site-packages/torch/utils/data/_utils/fetch.py\u001b[0m in \u001b[0;36m<listcomp>\u001b[0;34m(.0)\u001b[0m\n\u001b[1;32m     42\u001b[0m     \u001b[0;32mdef\u001b[0m \u001b[0mfetch\u001b[0m\u001b[0;34m(\u001b[0m\u001b[0mself\u001b[0m\u001b[0;34m,\u001b[0m \u001b[0mpossibly_batched_index\u001b[0m\u001b[0;34m)\u001b[0m\u001b[0;34m:\u001b[0m\u001b[0;34m\u001b[0m\u001b[0m\n\u001b[1;32m     43\u001b[0m         \u001b[0;32mif\u001b[0m \u001b[0mself\u001b[0m\u001b[0;34m.\u001b[0m\u001b[0mauto_collation\u001b[0m\u001b[0;34m:\u001b[0m\u001b[0;34m\u001b[0m\u001b[0m\n\u001b[0;32m---> 44\u001b[0;31m             \u001b[0mdata\u001b[0m \u001b[0;34m=\u001b[0m \u001b[0;34m[\u001b[0m\u001b[0mself\u001b[0m\u001b[0;34m.\u001b[0m\u001b[0mdataset\u001b[0m\u001b[0;34m[\u001b[0m\u001b[0midx\u001b[0m\u001b[0;34m]\u001b[0m \u001b[0;32mfor\u001b[0m \u001b[0midx\u001b[0m \u001b[0;32min\u001b[0m \u001b[0mpossibly_batched_index\u001b[0m\u001b[0;34m]\u001b[0m\u001b[0;34m\u001b[0m\u001b[0m\n\u001b[0m\u001b[1;32m     45\u001b[0m         \u001b[0;32melse\u001b[0m\u001b[0;34m:\u001b[0m\u001b[0;34m\u001b[0m\u001b[0m\n\u001b[1;32m     46\u001b[0m             \u001b[0mdata\u001b[0m \u001b[0;34m=\u001b[0m \u001b[0mself\u001b[0m\u001b[0;34m.\u001b[0m\u001b[0mdataset\u001b[0m\u001b[0;34m[\u001b[0m\u001b[0mpossibly_batched_index\u001b[0m\u001b[0;34m]\u001b[0m\u001b[0;34m\u001b[0m\u001b[0m\n",
      "\u001b[0;32m/project/6052161/mattlk/workplace/CompNet/CompositionalNets/Code/helpers.py\u001b[0m in \u001b[0;36m__getitem__\u001b[0;34m(self, index)\u001b[0m\n\u001b[1;32m    292\u001b[0m         \u001b[0mlabel\u001b[0m \u001b[0;34m=\u001b[0m \u001b[0mself\u001b[0m\u001b[0;34m.\u001b[0m\u001b[0mlabels\u001b[0m\u001b[0;34m[\u001b[0m\u001b[0mindex\u001b[0m\u001b[0;34m]\u001b[0m\u001b[0;34m\u001b[0m\u001b[0m\n\u001b[1;32m    293\u001b[0m         \u001b[0mmask\u001b[0m \u001b[0;34m=\u001b[0m \u001b[0mself\u001b[0m\u001b[0;34m.\u001b[0m\u001b[0mmasks\u001b[0m\u001b[0;34m[\u001b[0m\u001b[0mindex\u001b[0m\u001b[0;34m]\u001b[0m\u001b[0;34m\u001b[0m\u001b[0m\n\u001b[0;32m--> 294\u001b[0;31m         \u001b[0mimg\u001b[0m\u001b[0;34m,\u001b[0m\u001b[0mmask\u001b[0m \u001b[0;34m=\u001b[0m \u001b[0mself\u001b[0m\u001b[0;34m.\u001b[0m\u001b[0mloader\u001b[0m\u001b[0;34m(\u001b[0m\u001b[0mfn\u001b[0m\u001b[0;34m,\u001b[0m\u001b[0mmask\u001b[0m\u001b[0;34m,\u001b[0m\u001b[0mbool_resize_images\u001b[0m\u001b[0;34m=\u001b[0m\u001b[0;32mTrue\u001b[0m\u001b[0;34m,\u001b[0m\u001b[0mbool_square_images\u001b[0m\u001b[0;34m=\u001b[0m\u001b[0mself\u001b[0m\u001b[0;34m.\u001b[0m\u001b[0mbool_square_images\u001b[0m\u001b[0;34m)\u001b[0m\u001b[0;34m\u001b[0m\u001b[0m\n\u001b[0m\u001b[1;32m    295\u001b[0m         \u001b[0;32mreturn\u001b[0m \u001b[0mimg\u001b[0m\u001b[0;34m,\u001b[0m \u001b[0mmask\u001b[0m\u001b[0;34m,\u001b[0m \u001b[0mlabel\u001b[0m\u001b[0;34m\u001b[0m\u001b[0m\n\u001b[1;32m    296\u001b[0m \u001b[0;34m\u001b[0m\u001b[0m\n",
      "\u001b[0;32m<ipython-input-35-6c712e4c33f7>\u001b[0m in \u001b[0;36mimg_loader\u001b[0;34m(input_image, mask_path, bool_resize_images, bool_square_images)\u001b[0m\n\u001b[1;32m      1\u001b[0m \u001b[0;32mdef\u001b[0m \u001b[0mimg_loader\u001b[0m\u001b[0;34m(\u001b[0m\u001b[0minput_image\u001b[0m\u001b[0;34m,\u001b[0m \u001b[0mmask_path\u001b[0m\u001b[0;34m,\u001b[0m \u001b[0mbool_resize_images\u001b[0m\u001b[0;34m=\u001b[0m\u001b[0;32mTrue\u001b[0m\u001b[0;34m,\u001b[0m \u001b[0mbool_square_images\u001b[0m\u001b[0;34m=\u001b[0m\u001b[0;32mTrue\u001b[0m\u001b[0;34m)\u001b[0m\u001b[0;34m:\u001b[0m\u001b[0;34m\u001b[0m\u001b[0m\n\u001b[1;32m      2\u001b[0m     \u001b[0;31m# CompositionalNet takes RGB images as input\u001b[0m\u001b[0;34m\u001b[0m\u001b[0;34m\u001b[0m\u001b[0m\n\u001b[0;32m----> 3\u001b[0;31m     \u001b[0;32mif\u001b[0m \u001b[0minput_image\u001b[0m\u001b[0;34m.\u001b[0m\u001b[0mmode\u001b[0m \u001b[0;34m!=\u001b[0m \u001b[0;34m'RGB'\u001b[0m\u001b[0;34m:\u001b[0m \u001b[0minput_image\u001b[0m \u001b[0;34m=\u001b[0m \u001b[0minput_image\u001b[0m\u001b[0;34m.\u001b[0m\u001b[0mconvert\u001b[0m\u001b[0;34m(\u001b[0m\u001b[0;34m'RGB'\u001b[0m\u001b[0;34m)\u001b[0m\u001b[0;34m\u001b[0m\u001b[0m\n\u001b[0m\u001b[1;32m      4\u001b[0m \u001b[0;34m\u001b[0m\u001b[0m\n\u001b[1;32m      5\u001b[0m     \u001b[0;32mif\u001b[0m \u001b[0mbool_resize_images\u001b[0m\u001b[0;34m:\u001b[0m\u001b[0;34m\u001b[0m\u001b[0m\n",
      "\u001b[0;32m~/.virtualenvs/CompNet/lib/python3.6/site-packages/PIL/Image.py\u001b[0m in \u001b[0;36mconvert\u001b[0;34m(self, mode, matrix, dither, palette, colors)\u001b[0m\n\u001b[1;32m    899\u001b[0m         \"\"\"\n\u001b[1;32m    900\u001b[0m \u001b[0;34m\u001b[0m\u001b[0m\n\u001b[0;32m--> 901\u001b[0;31m         \u001b[0mself\u001b[0m\u001b[0;34m.\u001b[0m\u001b[0mload\u001b[0m\u001b[0;34m(\u001b[0m\u001b[0;34m)\u001b[0m\u001b[0;34m\u001b[0m\u001b[0m\n\u001b[0m\u001b[1;32m    902\u001b[0m \u001b[0;34m\u001b[0m\u001b[0m\n\u001b[1;32m    903\u001b[0m         \u001b[0;32mif\u001b[0m \u001b[0;32mnot\u001b[0m \u001b[0mmode\u001b[0m \u001b[0;32mand\u001b[0m \u001b[0mself\u001b[0m\u001b[0;34m.\u001b[0m\u001b[0mmode\u001b[0m \u001b[0;34m==\u001b[0m \u001b[0;34m\"P\"\u001b[0m\u001b[0;34m:\u001b[0m\u001b[0;34m\u001b[0m\u001b[0m\n",
      "\u001b[0;32m~/.virtualenvs/CompNet/lib/python3.6/site-packages/PIL/ImageFile.py\u001b[0m in \u001b[0;36mload\u001b[0;34m(self)\u001b[0m\n\u001b[1;32m    231\u001b[0m                         \u001b[0;32mwhile\u001b[0m \u001b[0;32mTrue\u001b[0m\u001b[0;34m:\u001b[0m\u001b[0;34m\u001b[0m\u001b[0m\n\u001b[1;32m    232\u001b[0m                             \u001b[0;32mtry\u001b[0m\u001b[0;34m:\u001b[0m\u001b[0;34m\u001b[0m\u001b[0m\n\u001b[0;32m--> 233\u001b[0;31m                                 \u001b[0ms\u001b[0m \u001b[0;34m=\u001b[0m \u001b[0mread\u001b[0m\u001b[0;34m(\u001b[0m\u001b[0mself\u001b[0m\u001b[0;34m.\u001b[0m\u001b[0mdecodermaxblock\u001b[0m\u001b[0;34m)\u001b[0m\u001b[0;34m\u001b[0m\u001b[0m\n\u001b[0m\u001b[1;32m    234\u001b[0m                             \u001b[0;32mexcept\u001b[0m \u001b[0;34m(\u001b[0m\u001b[0mIndexError\u001b[0m\u001b[0;34m,\u001b[0m \u001b[0mstruct\u001b[0m\u001b[0;34m.\u001b[0m\u001b[0merror\u001b[0m\u001b[0;34m)\u001b[0m\u001b[0;34m:\u001b[0m\u001b[0;34m\u001b[0m\u001b[0m\n\u001b[1;32m    235\u001b[0m                                 \u001b[0;31m# truncated png/gif\u001b[0m\u001b[0;34m\u001b[0m\u001b[0;34m\u001b[0m\u001b[0m\n",
      "\u001b[0;32m~/.virtualenvs/CompNet/lib/python3.6/site-packages/PIL/PngImagePlugin.py\u001b[0m in \u001b[0;36mload_read\u001b[0;34m(self, read_bytes)\u001b[0m\n\u001b[1;32m    867\u001b[0m         \u001b[0mself\u001b[0m\u001b[0;34m.\u001b[0m\u001b[0m__idat\u001b[0m \u001b[0;34m=\u001b[0m \u001b[0mself\u001b[0m\u001b[0;34m.\u001b[0m\u001b[0m__idat\u001b[0m \u001b[0;34m-\u001b[0m \u001b[0mread_bytes\u001b[0m\u001b[0;34m\u001b[0m\u001b[0m\n\u001b[1;32m    868\u001b[0m \u001b[0;34m\u001b[0m\u001b[0m\n\u001b[0;32m--> 869\u001b[0;31m         \u001b[0;32mreturn\u001b[0m \u001b[0mself\u001b[0m\u001b[0;34m.\u001b[0m\u001b[0mfp\u001b[0m\u001b[0;34m.\u001b[0m\u001b[0mread\u001b[0m\u001b[0;34m(\u001b[0m\u001b[0mread_bytes\u001b[0m\u001b[0;34m)\u001b[0m\u001b[0;34m\u001b[0m\u001b[0m\n\u001b[0m\u001b[1;32m    870\u001b[0m \u001b[0;34m\u001b[0m\u001b[0m\n\u001b[1;32m    871\u001b[0m     \u001b[0;32mdef\u001b[0m \u001b[0mload_end\u001b[0m\u001b[0;34m(\u001b[0m\u001b[0mself\u001b[0m\u001b[0;34m)\u001b[0m\u001b[0;34m:\u001b[0m\u001b[0;34m\u001b[0m\u001b[0m\n",
      "\u001b[0;32m~/.virtualenvs/CompNet/lib/python3.6/tarfile.py\u001b[0m in \u001b[0;36mreadinto\u001b[0;34m(self, b)\u001b[0m\n\u001b[1;32m    703\u001b[0m \u001b[0;34m\u001b[0m\u001b[0m\n\u001b[1;32m    704\u001b[0m     \u001b[0;32mdef\u001b[0m \u001b[0mreadinto\u001b[0m\u001b[0;34m(\u001b[0m\u001b[0mself\u001b[0m\u001b[0;34m,\u001b[0m \u001b[0mb\u001b[0m\u001b[0;34m)\u001b[0m\u001b[0;34m:\u001b[0m\u001b[0;34m\u001b[0m\u001b[0m\n\u001b[0;32m--> 705\u001b[0;31m         \u001b[0mbuf\u001b[0m \u001b[0;34m=\u001b[0m \u001b[0mself\u001b[0m\u001b[0;34m.\u001b[0m\u001b[0mread\u001b[0m\u001b[0;34m(\u001b[0m\u001b[0mlen\u001b[0m\u001b[0;34m(\u001b[0m\u001b[0mb\u001b[0m\u001b[0;34m)\u001b[0m\u001b[0;34m)\u001b[0m\u001b[0;34m\u001b[0m\u001b[0m\n\u001b[0m\u001b[1;32m    706\u001b[0m         \u001b[0mb\u001b[0m\u001b[0;34m[\u001b[0m\u001b[0;34m:\u001b[0m\u001b[0mlen\u001b[0m\u001b[0;34m(\u001b[0m\u001b[0mbuf\u001b[0m\u001b[0;34m)\u001b[0m\u001b[0;34m]\u001b[0m \u001b[0;34m=\u001b[0m \u001b[0mbuf\u001b[0m\u001b[0;34m\u001b[0m\u001b[0m\n\u001b[1;32m    707\u001b[0m         \u001b[0;32mreturn\u001b[0m \u001b[0mlen\u001b[0m\u001b[0;34m(\u001b[0m\u001b[0mbuf\u001b[0m\u001b[0;34m)\u001b[0m\u001b[0;34m\u001b[0m\u001b[0m\n",
      "\u001b[0;32m~/.virtualenvs/CompNet/lib/python3.6/tarfile.py\u001b[0m in \u001b[0;36mread\u001b[0;34m(self, size)\u001b[0m\n\u001b[1;32m    691\u001b[0m             \u001b[0mlength\u001b[0m \u001b[0;34m=\u001b[0m \u001b[0mmin\u001b[0m\u001b[0;34m(\u001b[0m\u001b[0msize\u001b[0m\u001b[0;34m,\u001b[0m \u001b[0mstop\u001b[0m \u001b[0;34m-\u001b[0m \u001b[0mself\u001b[0m\u001b[0;34m.\u001b[0m\u001b[0mposition\u001b[0m\u001b[0;34m)\u001b[0m\u001b[0;34m\u001b[0m\u001b[0m\n\u001b[1;32m    692\u001b[0m             \u001b[0;32mif\u001b[0m \u001b[0mdata\u001b[0m\u001b[0;34m:\u001b[0m\u001b[0;34m\u001b[0m\u001b[0m\n\u001b[0;32m--> 693\u001b[0;31m                 \u001b[0mself\u001b[0m\u001b[0;34m.\u001b[0m\u001b[0mfileobj\u001b[0m\u001b[0;34m.\u001b[0m\u001b[0mseek\u001b[0m\u001b[0;34m(\u001b[0m\u001b[0moffset\u001b[0m \u001b[0;34m+\u001b[0m \u001b[0;34m(\u001b[0m\u001b[0mself\u001b[0m\u001b[0;34m.\u001b[0m\u001b[0mposition\u001b[0m \u001b[0;34m-\u001b[0m \u001b[0mstart\u001b[0m\u001b[0;34m)\u001b[0m\u001b[0;34m)\u001b[0m\u001b[0;34m\u001b[0m\u001b[0m\n\u001b[0m\u001b[1;32m    694\u001b[0m                 \u001b[0mb\u001b[0m \u001b[0;34m=\u001b[0m \u001b[0mself\u001b[0m\u001b[0;34m.\u001b[0m\u001b[0mfileobj\u001b[0m\u001b[0;34m.\u001b[0m\u001b[0mread\u001b[0m\u001b[0;34m(\u001b[0m\u001b[0mlength\u001b[0m\u001b[0;34m)\u001b[0m\u001b[0;34m\u001b[0m\u001b[0m\n\u001b[1;32m    695\u001b[0m                 \u001b[0;32mif\u001b[0m \u001b[0mlen\u001b[0m\u001b[0;34m(\u001b[0m\u001b[0mb\u001b[0m\u001b[0;34m)\u001b[0m \u001b[0;34m!=\u001b[0m \u001b[0mlength\u001b[0m\u001b[0;34m:\u001b[0m\u001b[0;34m\u001b[0m\u001b[0m\n",
      "\u001b[0;32m/cvmfs/soft.computecanada.ca/easybuild/software/2017/Core/python/3.6.3/lib/python3.6/gzip.py\u001b[0m in \u001b[0;36mseek\u001b[0;34m(self, offset, whence)\u001b[0m\n\u001b[1;32m    366\u001b[0m         \u001b[0;32melif\u001b[0m \u001b[0mself\u001b[0m\u001b[0;34m.\u001b[0m\u001b[0mmode\u001b[0m \u001b[0;34m==\u001b[0m \u001b[0mREAD\u001b[0m\u001b[0;34m:\u001b[0m\u001b[0;34m\u001b[0m\u001b[0m\n\u001b[1;32m    367\u001b[0m             \u001b[0mself\u001b[0m\u001b[0;34m.\u001b[0m\u001b[0m_check_not_closed\u001b[0m\u001b[0;34m(\u001b[0m\u001b[0;34m)\u001b[0m\u001b[0;34m\u001b[0m\u001b[0m\n\u001b[0;32m--> 368\u001b[0;31m             \u001b[0;32mreturn\u001b[0m \u001b[0mself\u001b[0m\u001b[0;34m.\u001b[0m\u001b[0m_buffer\u001b[0m\u001b[0;34m.\u001b[0m\u001b[0mseek\u001b[0m\u001b[0;34m(\u001b[0m\u001b[0moffset\u001b[0m\u001b[0;34m,\u001b[0m \u001b[0mwhence\u001b[0m\u001b[0;34m)\u001b[0m\u001b[0;34m\u001b[0m\u001b[0m\n\u001b[0m\u001b[1;32m    369\u001b[0m \u001b[0;34m\u001b[0m\u001b[0m\n\u001b[1;32m    370\u001b[0m         \u001b[0;32mreturn\u001b[0m \u001b[0mself\u001b[0m\u001b[0;34m.\u001b[0m\u001b[0moffset\u001b[0m\u001b[0;34m\u001b[0m\u001b[0m\n",
      "\u001b[0;32m/cvmfs/soft.computecanada.ca/easybuild/software/2017/Core/python/3.6.3/lib/python3.6/_compression.py\u001b[0m in \u001b[0;36mseek\u001b[0;34m(self, offset, whence)\u001b[0m\n\u001b[1;32m    141\u001b[0m         \u001b[0;31m# Read and discard data until we reach the desired position.\u001b[0m\u001b[0;34m\u001b[0m\u001b[0;34m\u001b[0m\u001b[0m\n\u001b[1;32m    142\u001b[0m         \u001b[0;32mwhile\u001b[0m \u001b[0moffset\u001b[0m \u001b[0;34m>\u001b[0m \u001b[0;36m0\u001b[0m\u001b[0;34m:\u001b[0m\u001b[0;34m\u001b[0m\u001b[0m\n\u001b[0;32m--> 143\u001b[0;31m             \u001b[0mdata\u001b[0m \u001b[0;34m=\u001b[0m \u001b[0mself\u001b[0m\u001b[0;34m.\u001b[0m\u001b[0mread\u001b[0m\u001b[0;34m(\u001b[0m\u001b[0mmin\u001b[0m\u001b[0;34m(\u001b[0m\u001b[0mio\u001b[0m\u001b[0;34m.\u001b[0m\u001b[0mDEFAULT_BUFFER_SIZE\u001b[0m\u001b[0;34m,\u001b[0m \u001b[0moffset\u001b[0m\u001b[0;34m)\u001b[0m\u001b[0;34m)\u001b[0m\u001b[0;34m\u001b[0m\u001b[0m\n\u001b[0m\u001b[1;32m    144\u001b[0m             \u001b[0;32mif\u001b[0m \u001b[0;32mnot\u001b[0m \u001b[0mdata\u001b[0m\u001b[0;34m:\u001b[0m\u001b[0;34m\u001b[0m\u001b[0m\n\u001b[1;32m    145\u001b[0m                 \u001b[0;32mbreak\u001b[0m\u001b[0;34m\u001b[0m\u001b[0m\n",
      "\u001b[0;32m/cvmfs/soft.computecanada.ca/easybuild/software/2017/Core/python/3.6.3/lib/python3.6/gzip.py\u001b[0m in \u001b[0;36mread\u001b[0;34m(self, size)\u001b[0m\n\u001b[1;32m    469\u001b[0m             \u001b[0mbuf\u001b[0m \u001b[0;34m=\u001b[0m \u001b[0mself\u001b[0m\u001b[0;34m.\u001b[0m\u001b[0m_fp\u001b[0m\u001b[0;34m.\u001b[0m\u001b[0mread\u001b[0m\u001b[0;34m(\u001b[0m\u001b[0mio\u001b[0m\u001b[0;34m.\u001b[0m\u001b[0mDEFAULT_BUFFER_SIZE\u001b[0m\u001b[0;34m)\u001b[0m\u001b[0;34m\u001b[0m\u001b[0m\n\u001b[1;32m    470\u001b[0m \u001b[0;34m\u001b[0m\u001b[0m\n\u001b[0;32m--> 471\u001b[0;31m             \u001b[0muncompress\u001b[0m \u001b[0;34m=\u001b[0m \u001b[0mself\u001b[0m\u001b[0;34m.\u001b[0m\u001b[0m_decompressor\u001b[0m\u001b[0;34m.\u001b[0m\u001b[0mdecompress\u001b[0m\u001b[0;34m(\u001b[0m\u001b[0mbuf\u001b[0m\u001b[0;34m,\u001b[0m \u001b[0msize\u001b[0m\u001b[0;34m)\u001b[0m\u001b[0;34m\u001b[0m\u001b[0m\n\u001b[0m\u001b[1;32m    472\u001b[0m             \u001b[0;32mif\u001b[0m \u001b[0mself\u001b[0m\u001b[0;34m.\u001b[0m\u001b[0m_decompressor\u001b[0m\u001b[0;34m.\u001b[0m\u001b[0munconsumed_tail\u001b[0m \u001b[0;34m!=\u001b[0m \u001b[0;34mb\"\"\u001b[0m\u001b[0;34m:\u001b[0m\u001b[0;34m\u001b[0m\u001b[0m\n\u001b[1;32m    473\u001b[0m                 \u001b[0mself\u001b[0m\u001b[0;34m.\u001b[0m\u001b[0m_fp\u001b[0m\u001b[0;34m.\u001b[0m\u001b[0mprepend\u001b[0m\u001b[0;34m(\u001b[0m\u001b[0mself\u001b[0m\u001b[0;34m.\u001b[0m\u001b[0m_decompressor\u001b[0m\u001b[0;34m.\u001b[0m\u001b[0munconsumed_tail\u001b[0m\u001b[0;34m)\u001b[0m\u001b[0;34m\u001b[0m\u001b[0m\n",
      "\u001b[0;31mKeyboardInterrupt\u001b[0m: "
     ]
    },
    {
     "data": {
      "image/png": "[encoded data removed]",
      "text/plain": [
       "<Figure size 432x288 with 1 Axes>"
      ]
     },
     "metadata": {
      "needs_background": "light"
     },
     "output_type": "display_data"
    },
    {
     "data": {
      "image/png": "[encoded data removed]",
      "text/plain": [
       "<Figure size 432x288 with 1 Axes>"
      ]
     },
     "metadata": {
      "needs_background": "light"
     },
     "output_type": "display_data"
    },
    {
     "data": {
      "image/png": "[encoded data removed]",
      "text/plain": [
       "<Figure size 432x288 with 1 Axes>"
      ]
     },
     "metadata": {
      "needs_background": "light"
     },
     "output_type": "display_data"
    },
    {
     "data": {
      "image/png": "[encoded data removed]",
      "text/plain": [
       "<Figure size 432x288 with 1 Axes>"
      ]
     },
     "metadata": {
      "needs_background": "light"
     },
     "output_type": "display_data"
    },
    {
     "data": {
      "image/png": "[encoded data removed]",
      "text/plain": [
       "<Figure size 432x288 with 1 Axes>"
      ]
     },
     "metadata": {
      "needs_background": "light"
     },
     "output_type": "display_data"
    },
    {
     "data": {
      "image/png": "[encoded data removed]",
      "text/plain": [
       "<Figure size 432x288 with 1 Axes>"
      ]
     },
     "metadata": {
      "needs_background": "light"
     },
     "output_type": "display_data"
    },
    {
     "data": {
      "image/png": "[encoded data removed]",
      "text/plain": [
       "<Figure size 432x288 with 1 Axes>"
      ]
     },
     "metadata": {
      "needs_background": "light"
     },
     "output_type": "display_data"
    },
    {
     "data": {
      "image/png": "[encoded data removed]",
      "text/plain": [
       "<Figure size 432x288 with 1 Axes>"
      ]
     },
     "metadata": {
      "needs_background": "light"
     },
     "output_type": "display_data"
    },
    {
     "data": {
      "image/png": "[encoded data removed]",
      "text/plain": [
       "<Figure size 432x288 with 1 Axes>"
      ]
     },
     "metadata": {
      "needs_background": "light"
     },
     "output_type": "display_data"
    },
    {
     "data": {
      "image/png": "[encoded data removed]",
      "text/plain": [
       "<Figure size 432x288 with 1 Axes>"
      ]
     },
     "metadata": {
      "needs_background": "light"
     },
     "output_type": "display_data"
    },
    {
     "data": {
      "image/png": "[encoded data removed]",
      "text/plain": [
       "<Figure size 432x288 with 1 Axes>"
      ]
     },
     "metadata": {
      "needs_background": "light"
     },
     "output_type": "display_data"
    },
    {
     "data": {
      "image/png": "[encoded data removed]",
      "text/plain": [
       "<Figure size 432x288 with 1 Axes>"
      ]
     },
     "metadata": {
      "needs_background": "light"
     },
     "output_type": "display_data"
    },
    {
     "data": {
      "image/png": "[encoded data removed]",
      "text/plain": [
       "<Figure size 432x288 with 1 Axes>"
      ]
     },
     "metadata": {
      "needs_background": "light"
     },
     "output_type": "display_data"
    },
    {
     "data": {
      "image/png": "[encoded data removed]",
      "text/plain": [
       "<Figure size 432x288 with 1 Axes>"
      ]
     },
     "metadata": {
      "needs_background": "light"
     },
     "output_type": "display_data"
    },
    {
     "data": {
      "image/png": "[encoded data removed]",
      "text/plain": [
       "<Figure size 432x288 with 1 Axes>"
      ]
     },
     "metadata": {
      "needs_background": "light"
     },
     "output_type": "display_data"
    },
    {
     "data": {
      "image/png": "[encoded data removed]",
      "text/plain": [
       "<Figure size 432x288 with 1 Axes>"
      ]
     },
     "metadata": {
      "needs_background": "light"
     },
     "output_type": "display_data"
    },
    {
     "data": {
      "image/png": "[encoded data removed]",
      "text/plain": [
       "<Figure size 432x288 with 1 Axes>"
      ]
     },
     "metadata": {
      "needs_background": "light"
     },
     "output_type": "display_data"
    },
    {
     "data": {
      "image/png": "[encoded data removed]",
      "text/plain": [
       "<Figure size 432x288 with 1 Axes>"
      ]
     },
     "metadata": {
      "needs_background": "light"
     },
     "output_type": "display_data"
    },
    {
     "data": {
      "image/png": "[encoded data removed]",
      "text/plain": [
       "<Figure size 432x288 with 1 Axes>"
      ]
     },
     "metadata": {
      "needs_background": "light"
     },
     "output_type": "display_data"
    },
    {
     "data": {
      "image/png": "[encoded data removed]",
      "text/plain": [
       "<Figure size 432x288 with 1 Axes>"
      ]
     },
     "metadata": {
      "needs_background": "light"
     },
     "output_type": "display_data"
    },
    {
     "data": {
      "image/png": "[encoded data removed]",
      "text/plain": [
       "<Figure size 432x288 with 1 Axes>"
      ]
     },
     "metadata": {
      "needs_background": "light"
     },
     "output_type": "display_data"
    },
    {
     "data": {
      "image/png": "[encoded data removed]",
      "text/plain": [
       "<Figure size 432x288 with 1 Axes>"
      ]
     },
     "metadata": {
      "needs_background": "light"
     },
     "output_type": "display_data"
    },
    {
     "data": {
      "image/png": "[encoded data removed]",
      "text/plain": [
       "<Figure size 432x288 with 1 Axes>"
      ]
     },
     "metadata": {
      "needs_background": "light"
     },
     "output_type": "display_data"
    },
    {
     "data": {
      "image/png": "[encoded data removed]",
      "text/plain": [
       "<Figure size 432x288 with 1 Axes>"
      ]
     },
     "metadata": {
      "needs_background": "light"
     },
     "output_type": "display_data"
    },
    {
     "data": {
      "image/png": "[encoded data removed]",
      "text/plain": [
       "<Figure size 432x288 with 1 Axes>"
      ]
     },
     "metadata": {
      "needs_background": "light"
     },
     "output_type": "display_data"
    }
   ],
   "source": [
    "# test_imgset = Imgset(images_mass[:3], [[''],[''],['']], [1, 1, 1], img_loader, bool_square_images=True)\n",
    "test_imgs = []\n",
    "test_labels = []\n",
    "test_imgs.extend(X_test_mass)\n",
    "test_labels.extend(y_test_mass)\n",
    "test_imgs.extend(X_test_nf)\n",
    "test_labels.extend(y_test_nf)\n",
    "\n",
    "test_imgset = Imgset(test_imgs, [['']] * len(test_imgs), \n",
    "                     test_labels, img_loader, bool_square_images=True)\n",
    "test_loader = DataLoader(dataset=test_imgset, batch_size=1, shuffle=False)\n",
    "\n",
    "with torch.no_grad():\n",
    "    for i, data in tqdm_notebook(enumerate(test_loader)):\n",
    "        #load data\n",
    "        img_orig = images_mass[i].convert('RGB')\n",
    "        input_img, mask, label = data\n",
    "        if device_ids:\n",
    "            input_img = input_img.cuda(device_ids[0])\n",
    "        c_label = label.numpy()\n",
    "        img_name = os.path.splitext(names_mass[i])[0]\n",
    "        #classify\n",
    "        output, *_ = model(input_img)\n",
    "        out = output.cpu().numpy().argmax(-1)[0]\n",
    "        print(f'Predicted as: {categories[out]}')\n",
    "#         pred_class = categories_train[out]\n",
    "#         print('\\nImage {} classified as {}'.format(img_name,pred_class))\n",
    "        #localize occluder\n",
    "        score, occ_maps, part_scores = net.get_occlusion(input_img, label)\n",
    "        occ_map = occ_maps[0].detach().cpu().numpy()\n",
    "        occ_map = cv2.medianBlur(occ_map.astype(np.float32), 3)\n",
    "        occ_img = visualize_response_map(occ_map, tit='',cbarmax=0)\n",
    "        # concatenate original image and occluder map\n",
    "        img_orig = np.array(img_orig)\n",
    "        faco = img_orig.shape[0] / occ_img.shape[0]\n",
    "        occ_img_s = cv2.resize(occ_img, (int(occ_img.shape[1] * faco), img_orig.shape[0]))\n",
    "#         out_name = f'results/2/{img_name}_with_occlusion_map.png'\n",
    "        canvas = np.concatenate((img_orig, occ_img_s), axis=1)\n",
    "#         cv2.imwrite(out_name, canvas)"
   ]
  }
 ],
 "metadata": {
  "accelerator": "GPU",
  "colab": {
   "collapsed_sections": [],
   "name": "CompositionalNets.ipynb",
   "provenance": []
  },
  "kernelspec": {
   "display_name": "Python 3.6.10 64-bit ('CompNet': conda)",
   "language": "python",
   "name": "python361064bitcompnetconda53738006ed9d4ff8b58cccf30ed5af95"
  },
  "language_info": {
   "codemirror_mode": {
    "name": "ipython",
    "version": 3
   },
   "file_extension": ".py",
   "mimetype": "text/x-python",
   "name": "python",
   "nbconvert_exporter": "python",
   "pygments_lexer": "ipython3",
   "version": "3.6.10-final"
  }
 },
 "nbformat": 4,
 "nbformat_minor": 1
}