{
 "cells": [
  {
   "cell_type": "code",
   "execution_count": null,
   "metadata": {},
   "outputs": [],
   "source": [
    "import os\n",
    "import re\n",
    "import gzip\n",
    "import nibabel as nib\n",
    "\n",
    "import h5py\n",
    "import torch\n",
    "from torch.utils.data import DataLoader\n",
    "from torchvision import transforms\n",
    "import torch.nn.functional as F\n",
    "import numpy as np\n",
    "import matplotlib.pyplot as plt\n",
    "from sklearn.model_selection import train_test_split\n",
    "\n",
    "import CompositionalNets.Initialization_Code.config_initialization as comp_net_init_config\n",
    "from CompositionalNets.Initialization_Code.comptSimMat import compute_similarity_matrix\n",
    "import CompositionalNets.Code.config as comp_net_config\n",
    "from CompositionalNets.Initialization_Code.vMF_clustering import learn_vmf_clusters, save_cluster_images\n",
    "from CompositionalNets.Initialization_Code.Learn_mix_model_vMF_view import learn_mix_model_vMF\n",
    "\n",
    "from src.config import directories\n",
    "from src.models import UNet\n",
    "from src.dataset import ClassificationDataset, apply_ct_abdomen_filter, NormalizeInstance, Resize\n",
    "\n",
    "%load_ext autoreload\n",
    "%autoreload 2\n",
    "torch.manual_seed(42)"
   ]
  },
  {
   "cell_type": "code",
   "execution_count": 29,
   "metadata": {},
   "outputs": [
    {
     "name": "stderr",
     "output_type": "stream",
     "text": [
      "/home/mattlk/.virtualenvs/CompNet/lib/python3.6/site-packages/ipykernel_launcher.py:12: DeprecationWarning: use the name attribute\n",
      "  if sys.path[0] == '':\n"
     ]
    }
   ],
   "source": [
    "vol_dir = os.path.join(directories['chaos_registrations'], 'affine', 'out')\n",
    "regex = re.compile('.*\\.nii\\.gz')\n",
    "largest_slices = []\n",
    "\n",
    "for name in sorted(os.listdir(vol_dir)):\n",
    "    \n",
    "    if regex.match(name):\n",
    "        \n",
    "        fp = os.path.join(vol_dir, name)\n",
    "        with gzip.open(fp, 'rb') as f:\n",
    "            \n",
    "            vol = nib.load(f.filename)\n",
    "            vol_array = np.array(vol.dataobj, dtype=np.int16)\n",
    "            \n",
    "            num_slices = vol_array.shape[2]\n",
    "            amount = np.zeros(num_slices)\n",
    "            \n",
    "            for i in range(num_slices):\n",
    "                \n",
    "                s = vol_array[...,i]\n",
    "                background = s.min()\n",
    "                amount[i] = np.sum(s==background)\n",
    "            \n",
    "#             idx = np.argmin(amount)\n",
    "            idx = 60\n",
    "            slices = [vol_array[...,i] for i in range(idx-5, idx+5)]\n",
    "            for largest_slice in slices:\n",
    "            \n",
    "#             largest_slice = vol_array[...,np.argmin(amount)]\n",
    "                largest_slice = apply_ct_abdomen_filter(largest_slice)\n",
    "                largest_slice = np.rot90(largest_slice, k=1)\n",
    "                largest_slice = np.stack((largest_slice, largest_slice, largest_slice), axis=2)\n",
    "\n",
    "                # Normalize between 0 and 1\n",
    "                largest_slice = (largest_slice - largest_slice.min()) / (largest_slice.max() - largest_slice.min())\n",
    "                largest_slice = largest_slice.astype(np.float32)\n",
    "                largest_slices.append(largest_slice)\n",
    "            \n",
    "largest_slices = np.asarray(largest_slices)\n",
    "train_slices, test_slices = train_test_split(largest_slices, test_size=0.2, random_state=42)\n",
    "# train_slices = largest_slices[:-3]\n",
    "# test_slices = largest_slices[-3:]\n",
    "\n",
    "dataset = ClassificationDataset(train_slices, [0] * len(train_slices), input_transform=transforms.ToTensor())\n",
    "data_loader = DataLoader(dataset, batch_size=1)"
   ]
  },
  {
   "cell_type": "code",
   "execution_count": 30,
   "metadata": {},
   "outputs": [],
   "source": [
    "synthetic_images = []\n",
    "# test_slices = largest_slices[div:].copy()\n",
    "\n",
    "for i in range(0, len(test_slices)-2, 3):\n",
    "    \n",
    "    im = test_slices[i].copy()\n",
    "    # im = im[110:390, 50:380]\n",
    "    # im[150:200, 25:125] = im.min()\n",
    "    im[200:300, 100:200] = im.min()\n",
    "    synthetic_images.append(im)\n",
    "\n",
    "    im = test_slices[i+1].copy()\n",
    "    # im = im[115:370, 50:420]\n",
    "    # im[50:100, 150:250] = im.min()\n",
    "    im[200:300, 100:200] = im.min()\n",
    "    synthetic_images.append(im)\n",
    "\n",
    "    im = test_slices[i+2].copy()\n",
    "    # im = im[115:385, 50:420]\n",
    "    # im[120:190, 40:135] = im.min()\n",
    "    im[150:200, 200:300] = im.min()\n",
    "    synthetic_images.append(im)\n",
    "\n",
    "im = np.tile(0.0, (512, 512, 3)).astype(np.float32)\n",
    "synthetic_images.append(im)\n",
    "\n",
    "# plt.imshow(im)"
   ]
  },
  {
   "cell_type": "code",
   "execution_count": 31,
   "metadata": {},
   "outputs": [
    {
     "data": {
      "application/vnd.jupyter.widget-view+json": {
       "model_id": "",
       "version_major": 2,
       "version_minor": 0
      },
      "text/plain": [
       "HBox(children=(FloatProgress(value=1.0, bar_style='info', description='Sampling DNN features from dataset', la…"
      ]
     },
     "metadata": {},
     "output_type": "display_data"
    },
    {
     "data": {
      "application/vnd.jupyter.widget-view+json": {
       "model_id": "",
       "version_major": 2,
       "version_minor": 0
      },
      "text/plain": [
       "HBox(children=(FloatProgress(value=0.0, description='Fitting vMF clusters', max=300.0, style=ProgressStyle(des…"
      ]
     },
     "metadata": {},
     "output_type": "display_data"
    }
   ],
   "source": [
    "vmf, loc_set =  learn_vmf_clusters(data_loader, img_per_cat=len(dataset), verbose=True,\n",
    "                                     max_it=300, tol=5e-12,\n",
    "                                     u_out_name='chaos_pool5_128_u_test_4.pickle',\n",
    "#                                      u_out_name='chaos_pool5_512_u.pickle',\n",
    "                                     p_out_name='chaos_pool5_128_p_test_4.pickle')\n",
    "#                                      p_out_name='chaos_pool5_512_p.pickle')"
   ]
  },
  {
   "cell_type": "code",
   "execution_count": 37,
   "metadata": {},
   "outputs": [
    {
     "name": "stdout",
     "output_type": "stream",
     "text": [
      "Saving top 16 images for each cluster\n"
     ]
    }
   ],
   "source": [
    "save_cluster_images(vmf, loc_set, in_images=train_slices*255,\n",
    "                    num_images=16, out_dir_name='test_4',\n",
    "                    max_num_clusters=20)"
   ]
  },
  {
   "cell_type": "code",
   "execution_count": null,
   "metadata": {
    "scrolled": true
   },
   "outputs": [
    {
     "name": "stdout",
     "output_type": "stream",
     "text": [
      "Determine best threshold for binarization - 0 ...\n",
      "Start compute sim matrix ... magicThresh 0.25\n",
      "iter 1/16 1/16\n",
      "comptSimMat iter time: 2.634808592001597\n",
      "iter 1/16 2/16\n",
      "comptSimMat iter time: 5.4479056676228845\n",
      "iter 1/16 3/16\n",
      "comptSimMat iter time: 5.577117598056793\n",
      "iter 1/16 4/16\n",
      "comptSimMat iter time: 5.4331968029340105\n",
      "iter 1/16 5/16\n",
      "comptSimMat iter time: 5.471607800324758\n",
      "iter 1/16 6/16\n",
      "comptSimMat iter time: 5.61115159591039\n",
      "iter 1/16 7/16\n",
      "comptSimMat iter time: 5.421767485141754\n",
      "iter 1/16 8/16\n",
      "comptSimMat iter time: 5.251371018091837\n",
      "iter 1/16 9/16\n",
      "comptSimMat iter time: 5.276008625825246\n",
      "iter 1/16 10/16\n",
      "comptSimMat iter time: 4.878195961316426\n",
      "iter 1/16 11/16\n",
      "comptSimMat iter time: 4.976171807448069\n",
      "iter 1/16 12/16\n",
      "comptSimMat iter time: 5.175570718447367\n",
      "iter 1/16 13/16\n",
      "comptSimMat iter time: 5.254148848851522\n",
      "iter 1/16 14/16\n",
      "comptSimMat iter time: 5.236472316582998\n",
      "iter 1/16 15/16\n",
      "comptSimMat iter time: 5.257177710533142\n",
      "iter 1/16 16/16\n"
     ]
    }
   ],
   "source": [
    "%%time\n",
    "mat1, mat2 = compute_similarity_matrix(data_loader, 0, 'test_5',\n",
    "                                       sim_dir_name='similarity_vgg_pool5_chaos_5',\n",
    "                                       u_out_name='chaos_pool5_128_u_test_5.pickle',\n",
    "                                       N_sub=20, num_layer_features=10)"
   ]
  },
  {
   "cell_type": "code",
   "execution_count": 61,
   "metadata": {},
   "outputs": [
    {
     "ename": "FileNotFoundError",
     "evalue": "[Errno 2] No such file or directory: '/project/6052161/mattlk/workplace/CompNet-Medical/CompositionalNets/models/init_vgg/similarity_vgg_pool5_chaos_5/test_5'",
     "output_type": "error",
     "traceback": [
      "\u001b[0;31m---------------------------------------------------------------------------\u001b[0m",
      "\u001b[0;31mFileNotFoundError\u001b[0m                         Traceback (most recent call last)",
      "\u001b[0;32m<ipython-input-61-a00ed70eef72>\u001b[0m in \u001b[0;36m<module>\u001b[0;34m\u001b[0m\n\u001b[1;32m      4\u001b[0m                     \u001b[0mdict_filename\u001b[0m\u001b[0;34m=\u001b[0m\u001b[0;34m'chaos_pool5_128_u_test_5.pickle'\u001b[0m\u001b[0;34m,\u001b[0m\u001b[0;34m\u001b[0m\u001b[0m\n\u001b[1;32m      5\u001b[0m                     \u001b[0mmixdir_name\u001b[0m\u001b[0;34m=\u001b[0m\u001b[0;34mf'mix_model_vmf_chaos_EM_all_test_5/'\u001b[0m\u001b[0;34m,\u001b[0m\u001b[0;34m\u001b[0m\u001b[0m\n\u001b[0;32m----> 6\u001b[0;31m                     im_channels=3)\n\u001b[0m",
      "\u001b[0;32m/project/6052161/mattlk/workplace/CompNet-Medical/CompositionalNets/Initialization_Code/Learn_mix_model_vMF_view.py\u001b[0m in \u001b[0;36mlearn_mix_model_vMF\u001b[0;34m(data_loader, category, sim_matrix_name, sim_dir_name, dict_filename, mixdir_name, num_layers, num_clusters_per_layer, frac_data, occ_level, occ_type, spectral_split_thresh, im_channels)\u001b[0m\n\u001b[1;32m     51\u001b[0m     \u001b[0;31m# Spectral clustering based on the similarity matrix\u001b[0m\u001b[0;34m\u001b[0m\u001b[0;34m\u001b[0m\u001b[0m\n\u001b[1;32m     52\u001b[0m     \u001b[0msim_fname\u001b[0m \u001b[0;34m=\u001b[0m \u001b[0mos\u001b[0m\u001b[0;34m.\u001b[0m\u001b[0mpath\u001b[0m\u001b[0;34m.\u001b[0m\u001b[0mjoin\u001b[0m\u001b[0;34m(\u001b[0m\u001b[0minit_path\u001b[0m\u001b[0;34m,\u001b[0m \u001b[0msim_dir_name\u001b[0m\u001b[0;34m,\u001b[0m \u001b[0msim_matrix_name\u001b[0m\u001b[0;34m)\u001b[0m\u001b[0;34m\u001b[0m\u001b[0m\n\u001b[0;32m---> 53\u001b[0;31m     \u001b[0;32mwith\u001b[0m \u001b[0mopen\u001b[0m\u001b[0;34m(\u001b[0m\u001b[0msim_fname\u001b[0m\u001b[0;34m,\u001b[0m \u001b[0;34m'rb'\u001b[0m\u001b[0;34m)\u001b[0m \u001b[0;32mas\u001b[0m \u001b[0mfh\u001b[0m\u001b[0;34m:\u001b[0m\u001b[0;34m\u001b[0m\u001b[0m\n\u001b[0m\u001b[1;32m     54\u001b[0m         \u001b[0mmat_dis1\u001b[0m\u001b[0;34m,\u001b[0m \u001b[0m_\u001b[0m \u001b[0;34m=\u001b[0m \u001b[0mpickle\u001b[0m\u001b[0;34m.\u001b[0m\u001b[0mload\u001b[0m\u001b[0;34m(\u001b[0m\u001b[0mfh\u001b[0m\u001b[0;34m)\u001b[0m\u001b[0;34m\u001b[0m\u001b[0m\n\u001b[1;32m     55\u001b[0m \u001b[0;34m\u001b[0m\u001b[0m\n",
      "\u001b[0;31mFileNotFoundError\u001b[0m: [Errno 2] No such file or directory: '/project/6052161/mattlk/workplace/CompNet-Medical/CompositionalNets/models/init_vgg/similarity_vgg_pool5_chaos_5/test_5'"
     ]
    }
   ],
   "source": [
    "learn_mix_model_vMF(data_loader, 0, sim_matrix_name='test_5',\n",
    "                    num_layers=1, num_clusters_per_layer=1,\n",
    "                    sim_dir_name='similarity_vgg_pool5_chaos_5',\n",
    "                    dict_filename='chaos_pool5_128_u_test_5.pickle',\n",
    "                    mixdir_name=f'mix_model_vmf_chaos_EM_all_test_5/',\n",
    "                    im_channels=3)"
   ]
  },
  {
   "cell_type": "markdown",
   "metadata": {},
   "source": [
    "# Localize Occluders on Synthetic"
   ]
  },
  {
   "cell_type": "code",
   "execution_count": null,
   "metadata": {},
   "outputs": [],
   "source": [
    "from torchvision import models\n",
    "from PIL import Image\n",
    "import cv2\n",
    "\n",
    "from CompositionalNets.Code.config import categories, data_path, device_ids, categories_train, mix_model_path, dict_dir, layer, vMF_kappa, model_save_dir, compnet_type, backbone_type, num_mixtures\n",
    "from CompositionalNets.Code.config import config as cfg\n",
    "from CompositionalNets.Code.model import Net\n",
    "from CompositionalNets.Code.helpers import getVmfKernels, getCompositionModel, update_clutter_model\n",
    "from CompositionalNets.Code.eval_occlusion_localization import visualize_response_map\n",
    "from CompositionalNets.Code.losses import ClusterLoss\n",
    "from CompositionalNets.Initialization_Code.config_initialization import extractor"
   ]
  },
  {
   "cell_type": "code",
   "execution_count": null,
   "metadata": {},
   "outputs": [],
   "source": [
    "%%time\n",
    "occ_likely = [0.6 for _ in range(len(categories_train))]\n",
    "\n",
    "dict_dir = os.path.join(directories['CompositionalNets'],\n",
    "                        'models/init_vgg/dictionary_vgg/chaos_pool5_128_u_test_5.pickle')\n",
    "weights = getVmfKernels(dict_dir, device_ids)\n",
    "mix_model_path = os.path.join(directories['CompositionalNets'], \n",
    "                             'models/init_vgg/mix_model_vmf_chaos_EM_all_test_5/')\n",
    "mix_models = getCompositionModel(device_ids, mix_model_path, layer, \n",
    "                                 [0],\n",
    "                                 compnet_type=compnet_type,\n",
    "                                 num_mixtures=num_mixtures)\n",
    "\n",
    "model = Net(extractor, weights, vMF_kappa, occ_likely, mix_models, \n",
    "            bool_mixture_bg=True,\n",
    "            compnet_type=compnet_type, num_mixtures=num_mixtures, \n",
    "            vc_thresholds=cfg.MODEL.VC_THRESHOLD)\n",
    "if device_ids:\n",
    "    model.to(device_ids[0])"
   ]
  },
  {
   "cell_type": "code",
   "execution_count": null,
   "metadata": {},
   "outputs": [],
   "source": [
    "cc = transforms.Compose([\n",
    "    transforms.ToTensor(),\n",
    "])\n",
    "\n",
    "i = 0\n",
    "with torch.no_grad():\n",
    "    for image in synthetic_images:\n",
    "        \n",
    "        image = cc(image)\n",
    "        \n",
    "        if device_ids:\n",
    "            image = image.cuda(device_ids[0])\n",
    "        \n",
    "        image = image.unsqueeze(0)\n",
    "\n",
    "        #localize occluder\n",
    "#         if i == 2: pdb.set_trace() # there's an indexing issue if not using a mixture background\n",
    "        score, occ_maps, part_scores = model.get_occlusion(image, 0)\n",
    "        occ_map = occ_maps[0].detach().cpu().numpy()\n",
    "        occ_map = cv2.medianBlur(occ_map.astype(np.float32), 3)\n",
    "        occ_img = visualize_response_map(occ_map, tit='',cbarmax=0)\n",
    "        \n",
    "        # concatenate original image and occluder map\n",
    "#         img_orig = np.array(Image.fromarray(image_dataset[i], mode='F').convert('RGB'))\n",
    "        img_orig = (image[0].permute(1,2,0).cpu().numpy()*255).astype(np.uint8)\n",
    "#         mask = np.array(Image.fromarray(mask.squeeze().numpy()*255//2, mode='F').convert('RGB'))\n",
    "        faco = img_orig.shape[0] / occ_img.shape[0]\n",
    "        \n",
    "        occ_img_s = cv2.resize(occ_img, (int(occ_img.shape[1] * faco), img_orig.shape[0]))\n",
    "#         mask = cv2.resize(mask, (int(occ_img.shape[1] * faco), img_orig.shape[0]))\n",
    "        \n",
    "        canvas = np.concatenate((img_orig, occ_img_s), axis=1)\n",
    "        plt.figure(figsize=(7, 7))\n",
    "        plt.imshow(canvas)\n",
    "        plt.axis('off')\n",
    "        fp = f'{directories[\"CompositionalNets\"]}/results/lits/train_without_occluder/test_{i}.png'\n",
    "        cv2.imwrite(fp, canvas)"
   ]
  },
  {
   "cell_type": "code",
   "execution_count": 24,
   "metadata": {},
   "outputs": [
    {
     "data": {
      "text/plain": [
       "<matplotlib.image.AxesImage at 0x2ba4d39b0ef0>"
      ]
     },
     "execution_count": 24,
     "metadata": {},
     "output_type": "execute_result"
    },
    {
     "data": {
      "image/png": "[encoded data removed]",
      "text/plain": [
       "<Figure size 432x288 with 1 Axes>"
      ]
     },
     "metadata": {
      "needs_background": "light"
     },
     "output_type": "display_data"
    }
   ],
   "source": [
    "masks = []\n",
    "for im in train_slices:\n",
    "    im = im.copy()\n",
    "    im[im != im.min()] = 1\n",
    "    im[im == im.min()] = 0\n",
    "    masks.append(im)\n",
    "masks = np.asarray(masks)\n",
    "average_train_slice = np.average(masks, axis=0)\n",
    "plt.imshow(average_train_slice)"
   ]
  }
 ],
 "metadata": {
  "kernelspec": {
   "display_name": "Python 3",
   "language": "python",
   "name": "python3"
  },
  "language_info": {
   "codemirror_mode": {
    "name": "ipython",
    "version": 3
   },
   "file_extension": ".py",
   "mimetype": "text/x-python",
   "name": "python",
   "nbconvert_exporter": "python",
   "pygments_lexer": "ipython3",
   "version": "3.6.3"
  },
  "output_auto_scroll": true
 },
 "nbformat": 4,
 "nbformat_minor": 4
}
