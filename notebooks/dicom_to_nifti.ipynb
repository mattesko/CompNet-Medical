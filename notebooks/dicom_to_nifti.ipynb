{
 "cells": [
  {
   "cell_type": "code",
   "execution_count": 4,
   "metadata": {},
   "outputs": [],
   "source": [
    "import os\n",
    "import pdb\n",
    "from PIL import Image\n",
    "\n",
    "import numpy as np\n",
    "import matplotlib.pyplot as plt\n",
    "import nibabel as nib\n",
    "import pydicom\n",
    "import dicom2nifti\n",
    "import h5py\n",
    "\n",
    "from src.dataset import get_chaos_volumes, extract_array_as_HU, apply_ct_abdomen_filter\n",
    "from src.config import Directories\n",
    "\n",
    "data_dir = Directories.CHAOS\n",
    "registrations_dir = Directories.CHAOS_REGISTRATIONS"
   ]
  },
  {
   "cell_type": "code",
   "execution_count": 5,
   "metadata": {},
   "outputs": [
    {
     "data": {
      "text/plain": [
       "'/project/6052161/mattlk/workplace/CompNet-Medical/data/chaos'"
      ]
     },
     "execution_count": 5,
     "metadata": {},
     "output_type": "execute_result"
    }
   ],
   "source": [
    "data_dir"
   ]
  },
  {
   "cell_type": "code",
   "execution_count": 6,
   "metadata": {},
   "outputs": [],
   "source": [
    "volume_filepaths = get_chaos_volumes(data_dir)\n",
    "patient_ids = sorted(os.listdir('../data/chaos/Train_Sets/CT/'))"
   ]
  },
  {
   "cell_type": "markdown",
   "metadata": {},
   "source": [
    "# Create Segmented Slices and Volumes"
   ]
  },
  {
   "cell_type": "code",
   "execution_count": null,
   "metadata": {},
   "outputs": [],
   "source": [
    "volumes = []\n",
    "\n",
    "for i, patient_id in enumerate(patient_ids):\n",
    "    \n",
    "    slice_filepaths = volume_filepaths[i]\n",
    "    break\n",
    "    \n",
    "    for j, pair in enumerate(slice_filepaths):\n",
    "        \n",
    "        liver_fp, mask_fp = pair\n",
    "        \n",
    "        dicom = pydicom.dcmread(liver_fp)\n",
    "#         image = extract_array_as_HU(dicom)\n",
    "#         image = apply_ct_abdomen_filter(image)\n",
    "        image = dicom.pixel_array\n",
    "        \n",
    "        mask = np.array(Image.open(mask_fp))\n",
    "        image = image * mask\n",
    "        \n",
    "        elem = pydicom.dataelem.DataElement(0x7fe00010, 'OW', image.tobytes())\n",
    "        dicom[\"PixelData\"] = elem\n",
    "        \n",
    "        # Create directory for segmented slices for the given patient\n",
    "        patient_dir = os.path.join('registrations_dir', 'slices', f'{patient_id}_test')\n",
    "        if not os.path.exists(patient_dir): os.mkdir(patient_dir)\n",
    "        \n",
    "        pydicom.write_file(os.path.join(patient_dir, f'{j:03}.dcm'), dicom)\n",
    "    \n",
    "    # Create the volume from segmented slices\n",
    "    output_filepath = os.path.join('chaos_slices', f'volume-{patient_id}.nii')\n",
    "    dicom2nifti.dicom_series_to_nifti(patient_dir, output_filepath)\n",
    "    break"
   ]
  },
  {
   "cell_type": "markdown",
   "metadata": {},
   "source": [
    "# Test Opening the New Slices"
   ]
  },
  {
   "cell_type": "code",
   "execution_count": 141,
   "metadata": {},
   "outputs": [
    {
     "data": {
      "text/plain": [
       "array([[ 215, -135, -135, ..., -135, -135, -135],\n",
       "       [-135, -135, -135, ..., -135, -135, -135],\n",
       "       [-135, -135, -135, ..., -135, -135, -135],\n",
       "       ...,\n",
       "       [ 156,    4, -135, ..., -135, -135, -135],\n",
       "       [ 215,  215,  181, ..., -135, -135, -135],\n",
       "       [ 157,  215,  215, ..., -135, -135, -135]], dtype=int16)"
      ]
     },
     "execution_count": 141,
     "metadata": {},
     "output_type": "execute_result"
    }
   ],
   "source": [
    "dicom = pydicom.dcmread(liver_fp)\n",
    "image = extract_array_as_HU(dicom)\n",
    "image = apply_ct_abdomen_filter(image)\n",
    "image"
   ]
  },
  {
   "cell_type": "code",
   "execution_count": 155,
   "metadata": {},
   "outputs": [
    {
     "data": {
      "text/plain": [
       "array([[0, 0, 0, ..., 0, 0, 0],\n",
       "       [0, 0, 0, ..., 0, 0, 0],\n",
       "       [0, 0, 0, ..., 0, 0, 0],\n",
       "       ...,\n",
       "       [0, 0, 0, ..., 0, 0, 0],\n",
       "       [0, 0, 0, ..., 0, 0, 0],\n",
       "       [0, 0, 0, ..., 0, 0, 0]], dtype=uint16)"
      ]
     },
     "execution_count": 155,
     "metadata": {},
     "output_type": "execute_result"
    }
   ],
   "source": [
    "dicom.pixel_array"
   ]
  },
  {
   "cell_type": "code",
   "execution_count": 84,
   "metadata": {},
   "outputs": [
    {
     "data": {
      "text/plain": [
       "(512, 512)"
      ]
     },
     "execution_count": 84,
     "metadata": {},
     "output_type": "execute_result"
    }
   ],
   "source": [
    "b = slices[...,50].tobytes()\n",
    "a = np.frombuffer(b, dtype=np.int16)\n",
    "a = np.reshape(a, newshape=(512, 512))"
   ]
  },
  {
   "cell_type": "code",
   "execution_count": 86,
   "metadata": {},
   "outputs": [
    {
     "data": {
      "text/plain": [
       "<matplotlib.image.AxesImage at 0x2b98057fa588>"
      ]
     },
     "execution_count": 86,
     "metadata": {},
     "output_type": "execute_result"
    },
    {
     "data": {
      "image/png": "[encoded data removed]",
      "text/plain": [
       "<Figure size 432x288 with 1 Axes>"
      ]
     },
     "metadata": {
      "needs_background": "light"
     },
     "output_type": "display_data"
    }
   ],
   "source": [
    "plt.imshow(a, cmap=\"gray\")"
   ]
  },
  {
   "cell_type": "code",
   "execution_count": 135,
   "metadata": {},
   "outputs": [
    {
     "data": {
      "text/plain": [
       "array([[65401, 65401, 65401, ..., 65401, 65401, 65401],\n",
       "       [65401, 65401, 65401, ..., 65401, 65401, 65401],\n",
       "       [65401, 65401, 65401, ..., 65401, 65401, 65401],\n",
       "       ...,\n",
       "       [65401, 65401, 65401, ..., 65401, 65401, 65401],\n",
       "       [65401, 65401, 65401, ..., 65401, 65401, 65401],\n",
       "       [65401, 65401, 65401, ..., 65401, 65401, 65401]], dtype=uint16)"
      ]
     },
     "execution_count": 135,
     "metadata": {},
     "output_type": "execute_result"
    }
   ],
   "source": [
    "dicom[\"PixelData\"] = pydicom.dataelem.DataElement(0x7fe00010, \n",
    "                                                   'OW', image.tobytes())\n",
    "dicom.pixel_array"
   ]
  },
  {
   "cell_type": "code",
   "execution_count": 62,
   "metadata": {},
   "outputs": [
    {
     "data": {
      "text/plain": [
       "<matplotlib.image.AxesImage at 0x2b97f42e1b38>"
      ]
     },
     "execution_count": 62,
     "metadata": {},
     "output_type": "execute_result"
    },
    {
     "data": {
      "image/png": "[encoded data removed]",
      "text/plain": [
       "<Figure size 432x288 with 1 Axes>"
      ]
     },
     "metadata": {
      "needs_background": "light"
     },
     "output_type": "display_data"
    }
   ],
   "source": [
    "plt.imshow(slices[...,0], cmap=\"gray\")"
   ]
  },
  {
   "cell_type": "code",
   "execution_count": 2,
   "metadata": {},
   "outputs": [
    {
     "data": {
      "text/plain": [
       "{'NII_FILE': 'volume-24.nii',\n",
       " 'NII': <nibabel.nifti1.Nifti1Image at 0x2b005c2e0b38>,\n",
       " 'MAX_SLICE_INCREMENT': 2.0000000000000004}"
      ]
     },
     "execution_count": 2,
     "metadata": {},
     "output_type": "execute_result"
    }
   ],
   "source": [
    "dicom2nifti.dicom_series_to_nifti('/home/mattlk/CompNet-Medical/data/chaos/Train_Sets/CT/24/DICOM_anon/',\n",
    "                                  'volume-24.nii')"
   ]
  },
  {
   "cell_type": "markdown",
   "metadata": {},
   "source": [
    "# Segment LiTS"
   ]
  },
  {
   "cell_type": "code",
   "execution_count": 2,
   "metadata": {},
   "outputs": [],
   "source": [
    "data_dir = os.path.join(data_dir, 'media', 'nas', '01_Datasets', 'CT', 'LITS')\n",
    "data_train_dir = os.path.join(data_dir, 'Training Set')\n",
    "data_test_dir = os.path.join(data_dir, 'Testing Set')\n",
    "\n",
    "volume_filepaths = [os.path.join(data_train_dir, name) for name in sorted(os.listdir(data_train_dir)) \n",
    "                    if 'volume' in name]\n",
    "segmentation_filepaths = [os.path.join(data_train_dir, name) for name in sorted(os.listdir(data_train_dir)) \n",
    "                          if 'segmentation' in name]"
   ]
  },
  {
   "cell_type": "code",
   "execution_count": null,
   "metadata": {},
   "outputs": [],
   "source": []
  }
 ],
 "metadata": {
  "kernelspec": {
   "display_name": "Python 3",
   "language": "python",
   "name": "python3"
  },
  "language_info": {
   "codemirror_mode": {
    "name": "ipython",
    "version": 3
   },
   "file_extension": ".py",
   "mimetype": "text/x-python",
   "name": "python",
   "nbconvert_exporter": "python",
   "pygments_lexer": "ipython3",
   "version": "3.6.3"
  }
 },
 "nbformat": 4,
 "nbformat_minor": 4
}
